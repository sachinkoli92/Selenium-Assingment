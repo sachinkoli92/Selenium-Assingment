{
 "cells": [
  {
   "cell_type": "code",
   "execution_count": 1,
   "metadata": {},
   "outputs": [
    {
     "name": "stdout",
     "output_type": "stream",
     "text": [
      "Requirement already satisfied: selenium in c:\\programdata\\anaconda3\\lib\\site-packages (3.141.0)\n",
      "Requirement already satisfied: urllib3 in c:\\programdata\\anaconda3\\lib\\site-packages (from selenium) (1.25.9)\n"
     ]
    }
   ],
   "source": [
    "# Lets first install the selenium library\n",
    "! pip install selenium"
   ]
  },
  {
   "cell_type": "code",
   "execution_count": 2,
   "metadata": {},
   "outputs": [],
   "source": [
    "#Lets now import necessary libraries\n",
    "import selenium\n",
    "import pandas as pd\n",
    "from selenium import webdriver"
   ]
  },
  {
   "cell_type": "markdown",
   "metadata": {},
   "source": [
    "# Q1 Data Analyst from Naukri.com"
   ]
  },
  {
   "cell_type": "code",
   "execution_count": 3,
   "metadata": {},
   "outputs": [],
   "source": [
    "#Lets first connect to web driver\n",
    "driver=webdriver.Chrome(\"C:\\\\web driver\\\\chromedriver.exe\")"
   ]
  },
  {
   "cell_type": "code",
   "execution_count": 9,
   "metadata": {},
   "outputs": [],
   "source": [
    "driver.get('https://www.naukri.com/')"
   ]
  },
  {
   "cell_type": "code",
   "execution_count": 10,
   "metadata": {},
   "outputs": [],
   "source": [
    "#finding element for job search bar\n",
    "search_job=driver.find_element_by_id('qsb-keyword-sugg')\n",
    "search_job.send_keys('Data Analyst')\n",
    "search_loc=driver.find_element_by_xpath(\"//input[@id='qsb-location-sugg']\")\n",
    "search_loc.send_keys(\"Bangalore\")"
   ]
  },
  {
   "cell_type": "code",
   "execution_count": 11,
   "metadata": {},
   "outputs": [],
   "source": [
    "search_btn=driver.find_element_by_xpath(\"//div[@class='search-btn']/button\")\n",
    "search_btn.click()"
   ]
  },
  {
   "cell_type": "code",
   "execution_count": 12,
   "metadata": {},
   "outputs": [],
   "source": [
    "#specifing the url of the webpage to be scraped\n",
    "url=\"https://www.naukri.com/data-analyst-jobs-in-bangalore?k=data%20analyst&l=bangalore\""
   ]
  },
  {
   "cell_type": "code",
   "execution_count": 13,
   "metadata": {},
   "outputs": [],
   "source": [
    "# Lets now open required webpage through our webdriver\n",
    "driver.get(url)"
   ]
  },
  {
   "cell_type": "code",
   "execution_count": 14,
   "metadata": {},
   "outputs": [],
   "source": [
    "# so now lets first create empty lists. In these lists we will be storing scraped data.\n",
    "job_titles=[]\n",
    "company_names=[]\n",
    "locations_list=[]\n",
    "experience_list=[]"
   ]
  },
  {
   "cell_type": "code",
   "execution_count": 15,
   "metadata": {},
   "outputs": [
    {
     "data": {
      "text/plain": [
       "[<selenium.webdriver.remote.webelement.WebElement (session=\"b1a24087af3843b33a128ac706811869\", element=\"4f93a155-6dd0-4591-a3bd-b8056ec28d6d\")>,\n",
       " <selenium.webdriver.remote.webelement.WebElement (session=\"b1a24087af3843b33a128ac706811869\", element=\"b1e3e298-8156-4640-b7d1-606004458d73\")>,\n",
       " <selenium.webdriver.remote.webelement.WebElement (session=\"b1a24087af3843b33a128ac706811869\", element=\"17779183-ec81-4afc-9535-034f30a46176\")>,\n",
       " <selenium.webdriver.remote.webelement.WebElement (session=\"b1a24087af3843b33a128ac706811869\", element=\"c8e8e434-6b0c-4bd0-81a0-d66a2c1bed8f\")>,\n",
       " <selenium.webdriver.remote.webelement.WebElement (session=\"b1a24087af3843b33a128ac706811869\", element=\"7a5164be-b246-4c2f-bde7-02a73b9576a2\")>,\n",
       " <selenium.webdriver.remote.webelement.WebElement (session=\"b1a24087af3843b33a128ac706811869\", element=\"1d97b856-259e-4dda-adba-e81b716fe3a3\")>,\n",
       " <selenium.webdriver.remote.webelement.WebElement (session=\"b1a24087af3843b33a128ac706811869\", element=\"b0acd5cb-24b4-4ca1-b524-a4684cda4cb7\")>,\n",
       " <selenium.webdriver.remote.webelement.WebElement (session=\"b1a24087af3843b33a128ac706811869\", element=\"1f0a0b9c-a2d9-4b3d-a121-8d0fd36b6a68\")>,\n",
       " <selenium.webdriver.remote.webelement.WebElement (session=\"b1a24087af3843b33a128ac706811869\", element=\"50272252-93a5-4ac2-a2d8-e0acd95a89b1\")>,\n",
       " <selenium.webdriver.remote.webelement.WebElement (session=\"b1a24087af3843b33a128ac706811869\", element=\"87268e19-b9e3-4408-9882-c68566416c88\")>]"
      ]
     },
     "execution_count": 15,
     "metadata": {},
     "output_type": "execute_result"
    }
   ],
   "source": [
    "# so lets extract all the tags having the job-titles\n",
    "titles_=driver.find_elements_by_xpath(\"//a[@class='title fw500 ellipsis']\")\n",
    "titles_[0:10]"
   ]
  },
  {
   "cell_type": "code",
   "execution_count": 16,
   "metadata": {},
   "outputs": [
    {
     "data": {
      "text/plain": [
       "['MIS/ Data Analyst-(SQL,Automation,Excel/PowerBI,Dashboards) - Contract',\n",
       " 'Data Analyst - SAP',\n",
       " 'Hiring Data Analysts on Contract',\n",
       " 'Senior Data Analyst',\n",
       " 'Data Analyst',\n",
       " 'Security Data Analyst',\n",
       " 'Data Analyst -Azure Data lake, Azure Data factory',\n",
       " 'Business / Data Analyst',\n",
       " 'Data Analyst - O2C - Bangalore',\n",
       " 'Intern Data Analyst']"
      ]
     },
     "execution_count": 16,
     "metadata": {},
     "output_type": "execute_result"
    }
   ],
   "source": [
    "# Now the text of the job title tags extracted above.\n",
    "\n",
    "# Now we will be run a loop to itereate over the tags extracted above and append it into the created empty list for job_titles.\n",
    "\n",
    "for i in titles_:\n",
    "    title=i.text\n",
    "    job_titles.append(title)\n",
    "job_titles[0:10]\n",
    "    "
   ]
  },
  {
   "cell_type": "code",
   "execution_count": 17,
   "metadata": {},
   "outputs": [
    {
     "data": {
      "text/plain": [
       "[<selenium.webdriver.remote.webelement.WebElement (session=\"b1a24087af3843b33a128ac706811869\", element=\"40775b01-b7d5-42cb-b9cf-908f8f33e7e0\")>,\n",
       " <selenium.webdriver.remote.webelement.WebElement (session=\"b1a24087af3843b33a128ac706811869\", element=\"92792fe6-c934-439f-a5e6-2021d8f93a68\")>,\n",
       " <selenium.webdriver.remote.webelement.WebElement (session=\"b1a24087af3843b33a128ac706811869\", element=\"54a4ca33-2a4d-4bd6-ab3b-3de6f8bf4355\")>,\n",
       " <selenium.webdriver.remote.webelement.WebElement (session=\"b1a24087af3843b33a128ac706811869\", element=\"ef28788a-bd9e-4de0-984a-db11bf159314\")>,\n",
       " <selenium.webdriver.remote.webelement.WebElement (session=\"b1a24087af3843b33a128ac706811869\", element=\"dc891808-2613-485a-9fad-89d4ec2dd312\")>,\n",
       " <selenium.webdriver.remote.webelement.WebElement (session=\"b1a24087af3843b33a128ac706811869\", element=\"2328537f-f323-498d-9496-a92841fdac88\")>,\n",
       " <selenium.webdriver.remote.webelement.WebElement (session=\"b1a24087af3843b33a128ac706811869\", element=\"16f37fef-0390-45da-b2be-c09d6516d63a\")>,\n",
       " <selenium.webdriver.remote.webelement.WebElement (session=\"b1a24087af3843b33a128ac706811869\", element=\"ac485b65-136b-4972-bd23-47f7ede56f24\")>,\n",
       " <selenium.webdriver.remote.webelement.WebElement (session=\"b1a24087af3843b33a128ac706811869\", element=\"cdabe81f-8c4e-4f63-a456-6ee6e80b96ac\")>,\n",
       " <selenium.webdriver.remote.webelement.WebElement (session=\"b1a24087af3843b33a128ac706811869\", element=\"18147787-c81b-48d5-998b-591b8a6f2ec1\")>]"
      ]
     },
     "execution_count": 17,
     "metadata": {},
     "output_type": "execute_result"
    }
   ],
   "source": [
    "# Now lets extract all the tags for company names.\n",
    "\n",
    "company_=driver.find_elements_by_xpath(\"//a[@class='subTitle ellipsis fleft']\")\n",
    "company_[0:10]"
   ]
  },
  {
   "cell_type": "code",
   "execution_count": 18,
   "metadata": {},
   "outputs": [
    {
     "data": {
      "text/plain": [
       "['Flipkart Internet Private Limited',\n",
       " 'Boston Scientific Corporation',\n",
       " 'Flipkart Internet Private Limited',\n",
       " 'Schneider Electric',\n",
       " 'Shell India Markets Private Limited',\n",
       " 'Philips India Limited',\n",
       " 'Mindtree Limited',\n",
       " 'IBM India Pvt. Limited',\n",
       " 'RANDSTAD INDIA PVT LTD',\n",
       " 'Outsource Big Data']"
      ]
     },
     "execution_count": 18,
     "metadata": {},
     "output_type": "execute_result"
    }
   ],
   "source": [
    "# Now the text of the company names tag are extracted.\n",
    "# Now we will be running a loop to itereate over the tags extracted above and append it into the created empty list for company_names.\n",
    "\n",
    "for i in company_:\n",
    "    company=i.text\n",
    "    company_names.append(company)\n",
    "company_names[0:10]\n"
   ]
  },
  {
   "cell_type": "code",
   "execution_count": 19,
   "metadata": {},
   "outputs": [
    {
     "data": {
      "text/plain": [
       "[<selenium.webdriver.remote.webelement.WebElement (session=\"b1a24087af3843b33a128ac706811869\", element=\"50980777-b531-497b-a525-08236861aedf\")>,\n",
       " <selenium.webdriver.remote.webelement.WebElement (session=\"b1a24087af3843b33a128ac706811869\", element=\"0ae97e26-b698-44ba-b7ac-1e59597eb088\")>,\n",
       " <selenium.webdriver.remote.webelement.WebElement (session=\"b1a24087af3843b33a128ac706811869\", element=\"cc9518cd-f4a9-45fc-ad6f-fc07727cbbd8\")>,\n",
       " <selenium.webdriver.remote.webelement.WebElement (session=\"b1a24087af3843b33a128ac706811869\", element=\"5b051b4a-4d4d-44b1-ae56-e218dfc8f765\")>,\n",
       " <selenium.webdriver.remote.webelement.WebElement (session=\"b1a24087af3843b33a128ac706811869\", element=\"729ec2d2-ccd4-4666-ab79-cf6d3f4bcf4a\")>,\n",
       " <selenium.webdriver.remote.webelement.WebElement (session=\"b1a24087af3843b33a128ac706811869\", element=\"87923b66-7ac2-41b1-bd0f-40680e2e8168\")>,\n",
       " <selenium.webdriver.remote.webelement.WebElement (session=\"b1a24087af3843b33a128ac706811869\", element=\"5b9b9fb5-3f76-4214-b794-a8654be9c427\")>,\n",
       " <selenium.webdriver.remote.webelement.WebElement (session=\"b1a24087af3843b33a128ac706811869\", element=\"5d0ef1be-2285-4bf8-9041-2f03654e1d21\")>,\n",
       " <selenium.webdriver.remote.webelement.WebElement (session=\"b1a24087af3843b33a128ac706811869\", element=\"59b4cb58-4a7e-4d1a-9cd6-53881df99c45\")>,\n",
       " <selenium.webdriver.remote.webelement.WebElement (session=\"b1a24087af3843b33a128ac706811869\", element=\"6ccc3275-7187-4150-b929-03ed75fe4026\")>]"
      ]
     },
     "execution_count": 19,
     "metadata": {},
     "output_type": "execute_result"
    }
   ],
   "source": [
    "# Now lets extract all the tags having locations.\n",
    "locations_=driver.find_elements_by_xpath(\"//li[@class='fleft grey-text br2 placeHolderLi location']/span[1]\")\n",
    "locations_[0:10]"
   ]
  },
  {
   "cell_type": "code",
   "execution_count": 20,
   "metadata": {},
   "outputs": [
    {
     "data": {
      "text/plain": [
       "['Bengaluru',\n",
       " 'Pune, Delhi, Bengaluru, Gurgaon',\n",
       " 'Bengaluru',\n",
       " 'Bengaluru / Bangalore',\n",
       " 'Bengaluru',\n",
       " 'Bengaluru',\n",
       " 'Chennai, Pune, Bengaluru, Hyderabad',\n",
       " 'Bengaluru',\n",
       " 'Bengaluru',\n",
       " 'Bengaluru']"
      ]
     },
     "execution_count": 20,
     "metadata": {},
     "output_type": "execute_result"
    }
   ],
   "source": [
    "# Now we have all the tags about the location of job.\n",
    "\n",
    "# Now we will be running a loop to itereate over the tags extracted above and append it into the created empty list for locations_list.\n",
    "\n",
    "for i in locations_:\n",
    "    location=i.text\n",
    "    locations_list.append(location)\n",
    "locations_list[0:10]"
   ]
  },
  {
   "cell_type": "code",
   "execution_count": 21,
   "metadata": {},
   "outputs": [
    {
     "data": {
      "text/plain": [
       "[<selenium.webdriver.remote.webelement.WebElement (session=\"b1a24087af3843b33a128ac706811869\", element=\"53f6507b-317b-422d-9fb0-d3e65f072602\")>,\n",
       " <selenium.webdriver.remote.webelement.WebElement (session=\"b1a24087af3843b33a128ac706811869\", element=\"a0f8d412-e51e-42ca-b6c4-09628f26ab95\")>,\n",
       " <selenium.webdriver.remote.webelement.WebElement (session=\"b1a24087af3843b33a128ac706811869\", element=\"f2f31037-bb34-42cb-a221-c8aea430e071\")>,\n",
       " <selenium.webdriver.remote.webelement.WebElement (session=\"b1a24087af3843b33a128ac706811869\", element=\"35d76d7c-56b2-4db9-a83d-7324992f39a1\")>,\n",
       " <selenium.webdriver.remote.webelement.WebElement (session=\"b1a24087af3843b33a128ac706811869\", element=\"8a146f28-0815-496d-bd17-437c0fa7f66a\")>,\n",
       " <selenium.webdriver.remote.webelement.WebElement (session=\"b1a24087af3843b33a128ac706811869\", element=\"502d1722-5f17-47bc-a0a6-299688a9c51f\")>,\n",
       " <selenium.webdriver.remote.webelement.WebElement (session=\"b1a24087af3843b33a128ac706811869\", element=\"aedc089d-2ee5-4f13-ac40-4395fdea1ba9\")>,\n",
       " <selenium.webdriver.remote.webelement.WebElement (session=\"b1a24087af3843b33a128ac706811869\", element=\"3565c659-a1fb-4554-a813-43d833077892\")>,\n",
       " <selenium.webdriver.remote.webelement.WebElement (session=\"b1a24087af3843b33a128ac706811869\", element=\"7588c252-344a-4f1d-8480-8fbb37aa676a\")>,\n",
       " <selenium.webdriver.remote.webelement.WebElement (session=\"b1a24087af3843b33a128ac706811869\", element=\"2f50a727-1b33-4095-94dd-9e616a60feee\")>]"
      ]
     },
     "execution_count": 21,
     "metadata": {},
     "output_type": "execute_result"
    }
   ],
   "source": [
    "# Now lets extract all the tags having experience.\n",
    "\n",
    "experience_=driver.find_elements_by_xpath(\"//li[@class='fleft grey-text br2 placeHolderLi experience']/span[1]\")\n",
    "experience_[0:10]"
   ]
  },
  {
   "cell_type": "code",
   "execution_count": 22,
   "metadata": {},
   "outputs": [
    {
     "data": {
      "text/plain": [
       "['1-4 Yrs',\n",
       " '3-5 Yrs',\n",
       " '2-5 Yrs',\n",
       " '2-5 Yrs',\n",
       " '5-8 Yrs',\n",
       " '2-4 Yrs',\n",
       " '5-9 Yrs',\n",
       " '2-4 Yrs',\n",
       " '2-4 Yrs',\n",
       " '0-1 Yrs']"
      ]
     },
     "execution_count": 22,
     "metadata": {},
     "output_type": "execute_result"
    }
   ],
   "source": [
    "# Now we have all the tags having experience required data.\n",
    "\n",
    "# Now we will be running a loop to itereate over the tags extracted above and append it into the created empty list for experience_list.\n",
    "\n",
    "for i in experience_:\n",
    "    experience=i.text\n",
    "    experience_list.append(experience)\n",
    "experience_list[0:10]"
   ]
  },
  {
   "cell_type": "markdown",
   "metadata": {},
   "source": [
    " So, now we have extracted the data required from the webpage and stored them in 4 lists. \n",
    "Before creating a dataframe lets first check the length of each of the list because if the length of all the lists are not equal, then a dataframe cannot be formed."
   ]
  },
  {
   "cell_type": "code",
   "execution_count": 18,
   "metadata": {},
   "outputs": [
    {
     "name": "stdout",
     "output_type": "stream",
     "text": [
      "0 0 20 20\n"
     ]
    }
   ],
   "source": [
    "print(len(job_titles),len(company_names),len(experience_list),len(locations_list))\n"
   ]
  },
  {
   "cell_type": "code",
   "execution_count": 19,
   "metadata": {},
   "outputs": [],
   "source": [
    "# Creating a dataframe.\n",
    "jobs=pd.DataFrame({})\n",
    "jobs['Title']=job_titles\n",
    "jobs['Company']=company_names\n",
    "jobs['Experience_Required']=experience_list\n",
    "jobs['Location']=locations_list"
   ]
  },
  {
   "cell_type": "code",
   "execution_count": 20,
   "metadata": {},
   "outputs": [
    {
     "data": {
      "text/html": [
       "<div>\n",
       "<style scoped>\n",
       "    .dataframe tbody tr th:only-of-type {\n",
       "        vertical-align: middle;\n",
       "    }\n",
       "\n",
       "    .dataframe tbody tr th {\n",
       "        vertical-align: top;\n",
       "    }\n",
       "\n",
       "    .dataframe thead th {\n",
       "        text-align: right;\n",
       "    }\n",
       "</style>\n",
       "<table border=\"1\" class=\"dataframe\">\n",
       "  <thead>\n",
       "    <tr style=\"text-align: right;\">\n",
       "      <th></th>\n",
       "      <th>Title</th>\n",
       "      <th>Company</th>\n",
       "      <th>Experience_Required</th>\n",
       "      <th>Location</th>\n",
       "    </tr>\n",
       "  </thead>\n",
       "  <tbody>\n",
       "    <tr>\n",
       "      <th>0</th>\n",
       "      <td>NaN</td>\n",
       "      <td>NaN</td>\n",
       "      <td>1-4 Yrs</td>\n",
       "      <td>Bengaluru</td>\n",
       "    </tr>\n",
       "    <tr>\n",
       "      <th>1</th>\n",
       "      <td>NaN</td>\n",
       "      <td>NaN</td>\n",
       "      <td>3-5 Yrs</td>\n",
       "      <td>Pune, Delhi, Bengaluru, Gurgaon</td>\n",
       "    </tr>\n",
       "    <tr>\n",
       "      <th>2</th>\n",
       "      <td>NaN</td>\n",
       "      <td>NaN</td>\n",
       "      <td>2-5 Yrs</td>\n",
       "      <td>Bengaluru</td>\n",
       "    </tr>\n",
       "    <tr>\n",
       "      <th>3</th>\n",
       "      <td>NaN</td>\n",
       "      <td>NaN</td>\n",
       "      <td>2-5 Yrs</td>\n",
       "      <td>Bengaluru / Bangalore</td>\n",
       "    </tr>\n",
       "    <tr>\n",
       "      <th>4</th>\n",
       "      <td>NaN</td>\n",
       "      <td>NaN</td>\n",
       "      <td>2-4 Yrs</td>\n",
       "      <td>Bengaluru</td>\n",
       "    </tr>\n",
       "    <tr>\n",
       "      <th>5</th>\n",
       "      <td>NaN</td>\n",
       "      <td>NaN</td>\n",
       "      <td>5-9 Yrs</td>\n",
       "      <td>Chennai, Pune, Bengaluru, Hyderabad</td>\n",
       "    </tr>\n",
       "    <tr>\n",
       "      <th>6</th>\n",
       "      <td>NaN</td>\n",
       "      <td>NaN</td>\n",
       "      <td>2-4 Yrs</td>\n",
       "      <td>Bengaluru</td>\n",
       "    </tr>\n",
       "    <tr>\n",
       "      <th>7</th>\n",
       "      <td>NaN</td>\n",
       "      <td>NaN</td>\n",
       "      <td>2-4 Yrs</td>\n",
       "      <td>Bengaluru</td>\n",
       "    </tr>\n",
       "    <tr>\n",
       "      <th>8</th>\n",
       "      <td>NaN</td>\n",
       "      <td>NaN</td>\n",
       "      <td>0-1 Yrs</td>\n",
       "      <td>Bengaluru</td>\n",
       "    </tr>\n",
       "    <tr>\n",
       "      <th>9</th>\n",
       "      <td>NaN</td>\n",
       "      <td>NaN</td>\n",
       "      <td>4-6 Yrs</td>\n",
       "      <td>Bengaluru</td>\n",
       "    </tr>\n",
       "  </tbody>\n",
       "</table>\n",
       "</div>"
      ],
      "text/plain": [
       "   Title  Company Experience_Required                             Location\n",
       "0    NaN      NaN             1-4 Yrs                            Bengaluru\n",
       "1    NaN      NaN             3-5 Yrs      Pune, Delhi, Bengaluru, Gurgaon\n",
       "2    NaN      NaN             2-5 Yrs                            Bengaluru\n",
       "3    NaN      NaN             2-5 Yrs                Bengaluru / Bangalore\n",
       "4    NaN      NaN             2-4 Yrs                            Bengaluru\n",
       "5    NaN      NaN             5-9 Yrs  Chennai, Pune, Bengaluru, Hyderabad\n",
       "6    NaN      NaN             2-4 Yrs                            Bengaluru\n",
       "7    NaN      NaN             2-4 Yrs                            Bengaluru\n",
       "8    NaN      NaN             0-1 Yrs                            Bengaluru\n",
       "9    NaN      NaN             4-6 Yrs                            Bengaluru"
      ]
     },
     "execution_count": 20,
     "metadata": {},
     "output_type": "execute_result"
    }
   ],
   "source": [
    "jobs[0:10]"
   ]
  },
  {
   "cell_type": "code",
   "execution_count": 23,
   "metadata": {},
   "outputs": [],
   "source": [
    "driver.close()"
   ]
  },
  {
   "cell_type": "markdown",
   "metadata": {},
   "source": [
    "# Q2 Data Scientist from Naukri.com"
   ]
  },
  {
   "cell_type": "code",
   "execution_count": 258,
   "metadata": {},
   "outputs": [],
   "source": [
    "#Lets first connect to web driver\n",
    "driver=webdriver.Chrome(\"C:\\\\web driver\\\\chromedriver.exe\")"
   ]
  },
  {
   "cell_type": "code",
   "execution_count": 259,
   "metadata": {},
   "outputs": [],
   "source": [
    "driver.get('https://www.naukri.com/')"
   ]
  },
  {
   "cell_type": "code",
   "execution_count": 260,
   "metadata": {},
   "outputs": [],
   "source": [
    "#finding element for job search bar\n",
    "search_job=driver.find_element_by_id('qsb-keyword-sugg')\n",
    "search_job.send_keys('Data Scientist')\n",
    "search_loc=driver.find_element_by_xpath(\"//input[@id='qsb-location-sugg']\")\n",
    "search_loc.send_keys(\"Bangalore\")"
   ]
  },
  {
   "cell_type": "code",
   "execution_count": 261,
   "metadata": {},
   "outputs": [],
   "source": [
    "search_btn=driver.find_element_by_xpath(\"//div[@class='search-btn']/button\")\n",
    "search_btn.click()"
   ]
  },
  {
   "cell_type": "code",
   "execution_count": 262,
   "metadata": {},
   "outputs": [],
   "source": [
    "#specifing the url of the webpage to be scraped\n",
    "url1=\"https://www.naukri.com/data-scientist-jobs-in-bangalore?k=data%20scientist&l=bangalore\""
   ]
  },
  {
   "cell_type": "code",
   "execution_count": 263,
   "metadata": {},
   "outputs": [],
   "source": [
    "# Lets now open required webpage through our webdriver\n",
    "driver.get(url1)"
   ]
  },
  {
   "cell_type": "code",
   "execution_count": 266,
   "metadata": {},
   "outputs": [
    {
     "data": {
      "text/plain": [
       "['Wrackle Technologies Pvt Ltd',\n",
       " 'Wrackle Technologies Pvt Ltd',\n",
       " 'BLUE YONDER INDIA PRIVATE LIMITED',\n",
       " 'Atos Syntel Private Limited',\n",
       " 'Tech Mahindra Ltd.',\n",
       " 'Tech Mahindra Ltd.',\n",
       " 'AVI Consulting LLP',\n",
       " 'CES Ltd.',\n",
       " 'RANDSTAD INDIA PVT LTD',\n",
       " 'Mindtree Limited']"
      ]
     },
     "execution_count": 266,
     "metadata": {},
     "output_type": "execute_result"
    }
   ],
   "source": [
    "job=[]\n",
    "a=driver.find_elements_by_xpath(\"//div[@class='mt-7 companyInfo subheading lh16']/a[1]\")\n",
    "for i in a[0:10]:\n",
    "    job.append(i.text)\n",
    "job"
   ]
  },
  {
   "cell_type": "code",
   "execution_count": 267,
   "metadata": {},
   "outputs": [
    {
     "data": {
      "text/plain": [
       "['Data Scientist - Python/ MATLAB/ Machine Learning Algorithms',\n",
       " 'Lead Data Scientist - Machine Learning/ Data Mining',\n",
       " 'Data Scientist - Machine Learning (Commerce BU)',\n",
       " 'Data Scientist',\n",
       " 'Opening For Sr. Data Scientist @ Tech Mahindra',\n",
       " 'Opening For Sr. Data Scientist @ Tech Mahindra',\n",
       " 'Senior Data Scientist - NLP/ Python/ R',\n",
       " 'Senior Data Scientist | CES IT LTD | CMMI Level 5',\n",
       " 'Data Scientist and Senior Data Scientist Academic Operations',\n",
       " 'Sr. Analyst-Data Scientist']"
      ]
     },
     "execution_count": 267,
     "metadata": {},
     "output_type": "execute_result"
    }
   ],
   "source": [
    "title=[]\n",
    "b=driver.find_elements_by_xpath(\"//a[@class='title fw500 ellipsis']\")\n",
    "for i in b[0:10]:\n",
    "    title.append(i.text)\n",
    "title"
   ]
  },
  {
   "cell_type": "code",
   "execution_count": 268,
   "metadata": {},
   "outputs": [
    {
     "data": {
      "text/plain": [
       "['Bengaluru',\n",
       " 'Bengaluru',\n",
       " 'Bengaluru',\n",
       " 'Chennai, Pune, Mumbai, Bengaluru',\n",
       " 'Pune, Bengaluru',\n",
       " 'Pune, Bengaluru',\n",
       " 'Bengaluru, Hyderabad',\n",
       " 'Chennai, Pune, Delhi NCR, Mumbai, Bengaluru, Hyderabad, Kolkata',\n",
       " 'Bengaluru',\n",
       " 'Bengaluru']"
      ]
     },
     "execution_count": 268,
     "metadata": {},
     "output_type": "execute_result"
    }
   ],
   "source": [
    "location=[]\n",
    "c=driver.find_elements_by_xpath(\"//li[@class='fleft grey-text br2 placeHolderLi location']/span\")\n",
    "for i in c[0:10]:\n",
    "    location.append(i.text)\n",
    "location"
   ]
  },
  {
   "cell_type": "code",
   "execution_count": 269,
   "metadata": {},
   "outputs": [
    {
     "data": {
      "text/plain": [
       "['https://www.naukri.com/job-listings-data-scientist-python-matlab-machine-learning-algorithms-wrackle-technologies-pvt-ltd-bengaluru-bangalore-3-to-8-years-080221905947?src=jobsearchDesk&sid=16133238695939311&xp=1&px=1',\n",
       " 'https://www.naukri.com/job-listings-lead-data-scientist-machine-learning-data-mining-wrackle-technologies-pvt-ltd-bengaluru-bangalore-6-to-11-years-080221900886?src=jobsearchDesk&sid=16133238695939311&xp=2&px=1',\n",
       " 'https://www.naukri.com/job-listings-data-scientist-machine-learning-commerce-bu-blue-yonder-india-private-limited-bengaluru-bangalore-4-to-6-years-010221901825?src=jobsearchDesk&sid=16133238695939311&xp=3&px=1',\n",
       " 'https://www.naukri.com/job-listings-data-scientist-atos-syntel-private-limited-chennai-pune-mumbai-bengaluru-bangalore-12-to-18-years-220719001543?src=jobsearchDesk&sid=16133238695939311&xp=4&px=1',\n",
       " 'https://www.naukri.com/job-listings-opening-for-sr-data-scientist-tech-mahindra-tech-mahindra-ltd-pune-bengaluru-bangalore-12-to-20-years-100221001125?src=jobsearchDesk&sid=16133238695939311&xp=5&px=1',\n",
       " 'https://www.naukri.com/job-listings-opening-for-sr-data-scientist-tech-mahindra-tech-mahindra-ltd-pune-bengaluru-bangalore-12-to-20-years-090221006526?src=jobsearchDesk&sid=16133238695939311&xp=6&px=1',\n",
       " 'https://www.naukri.com/job-listings-senior-data-scientist-nlp-python-r-avi-consulting-llp-bengaluru-bangalore-hyderabad-secunderabad-4-to-9-years-081220907155?src=jobsearchDesk&sid=16133238695939311&xp=7&px=1',\n",
       " 'https://www.naukri.com/job-listings-senior-data-scientist-ces-it-ltd-cmmi-level-5-ces-ltd-chennai-pune-delhi-ncr-mumbai-bengaluru-bangalore-hyderabad-secunderabad-kolkata-2-to-7-years-151220006902?src=jobsearchDesk&sid=16133238695939311&xp=8&px=1',\n",
       " 'https://www.naukri.com/job-listings-data-scientist-and-senior-data-scientist-academic-operations-randstad-india-pvt-ltd-bengaluru-bangalore-2-to-5-years-080221007079?src=jobsearchDesk&sid=16133238695939311&xp=9&px=1',\n",
       " 'https://www.naukri.com/job-listings-sr-analyst-data-scientist-mindtree-limited-bengaluru-bangalore-10-to-15-years-040221502130?src=jobsearchDesk&sid=16133238695939311&xp=10&px=1']"
      ]
     },
     "execution_count": 269,
     "metadata": {},
     "output_type": "execute_result"
    }
   ],
   "source": [
    "job=driver.find_elements_by_xpath(\"//a[@class='title fw500 ellipsis']\")\n",
    "urls=[i.get_attribute('href') for i in job[0:10]]\n",
    "urls"
   ]
  },
  {
   "cell_type": "code",
   "execution_count": 270,
   "metadata": {},
   "outputs": [
    {
     "data": {
      "text/plain": [
       "['Data Scientist - Data Mining/ Machine Learning/ Statistical Analysis\\n\\nRequirements :\\n\\n- 3-9 years of strong experience in data mining, machine learning, and statistical analysis.\\n\\n- BS/MS/Ph.D. in Computer Science, Statistics, Applied Math, or related areas from Premier institutes ( only IITs / IISc / BITS / Top NITs or top US university should apply)\\n\\n- Ability to lead and deliver in a fast-paced start-up environment.\\n\\n- Fluency in tools such as Matlab, Python, etc.\\n\\n- Strong intuition for data and Keen aptitude on large scale data analysis\\n\\n- Excellent written and verbal communication skills.\\n\\n- Ability to collaborate across teams and strong interpersonal skills.',\n",
       " 'Roles and Responsibilities\\nRequirements :\\n\\n- 6-9 years of strong experience in data mining, machine learning and statistical analysis.\\n\\n- BS/ MS/ PhD in Computer Science, Statistics, Applied Math, or related areas from Premier institutes ( only IITs / IISc / BITS / Top NITs or top US university should apply)\\n\\n- Ability to lead and deliver in a fast-paced start-up environment.\\n\\n- Fluency in tools such as Python/ R/ Matlab etc.\\n\\n- Strong intuition for data and Keen aptitude on large scale data analysis\\n\\n- Excellent written and verbal communication skills.\\n\\n- Ability to collaborate across teams and strong interpersonal skills.',\n",
       " 'Roles and Responsibilities\\nUnder guidance, or independently, design and implement machine learning models by\\nProcuring data from platform, client and public data sources\\nImplementing data enrichment and cleansing routines\\nImplementing features, preparing modeling data sets, feature selection, etc.\\nEvaluating candidate models, selecting and reporting on test performance of final one\\nEnsuring proper runtime deployment of models, and\\nImplementing runtime monitoring of model inputs and performance in order to ensure continued model stability\\nWork with product, sales and engineering teams helping shape up the final solution\\nUse data to understand patterns, come up with and test hypothesis; iterate\\nHelp prepare sales materials, estimate hardware requirements, etc.',\n",
       " 'Working experience in Artificial Intelligence, Python, R, Machine Learning\\nExperience in data mining, Strong math skills (e.g. statistics, algebra)\\nStrong programming skills in: R, Python and familiarity with Java, Scala, C - DB/NoSql - MongoDB, Neo4J, MySql. Cassandra, DynamoDB, Redshift\\nExperience on Hadoop Map reduce, Pig, Hive, Mahout and Apache Spark, H20\\nStrong experience in Data warehousing, ETL, BI (e.g. Tableau, Power BI) and Data Visualization tools (matplotlib, D3.js, Plotly.js, Shiny etc)\\nExperience with Deep Learning tools Tensorflow, Theano, Caffe etc. - Elastic Search, NLP background and Machine Learning Platforms\\nExperienced in deployment of High performance, Scalable Big Data Hadoop clusters and Web applications on cloud infrastructure (Azure, AWS, Bluemix etc)\\nExperience in neural networks, regression, classification and clustering\\nDeep industry knowledge on any of the following: Banking, Insurance, Retail Manufacturing\\nDeep understanding of Statistical algorithms: Linear and Non-Linear models, classification problem, optimization techniques, Market mix models, A/B Testing and campaign management, Feature ranking/selection techniques, supervised/unsupervised learning, Collaborative filtering, Apriori Market Basket analysis, SVM, Gradient boosting, Survival analysis etc.\\nTo help designing, innovating and building our next generation ML architecture\\nFull time programming experience within an operation or technical department.\\nIdentify valuable data sources and automate collection processes\\nUndertake pre-processing of structured and unstructured data\\nAnalyze large amounts of information to discover trends and patterns\\nBuild predictive models and machine-learning algorithms\\nCombine models through ensemble modelling\\nPresent information using data visualization techniques\\nPropose solutions and strategies to business challenges\\nCollaborate with engineering and product development teams\\nMentor others in the use of AI/Machine Learning',\n",
       " 'BE or MS or PhD degree in Computer Science, Artificial Intelligence, Machine Learning, or a related technical field.\\nDeep learning experience with Tensorflow and Keras or Pytorch is must\\nExperience with the following is preferred\\nDifferent data processing libraries such as Numpy, Scipy, Pandas, Matplotlib, Scikit-learn\\nExperience with one or more general purpose programming languages including but not limited to: Python (Must), R, Java, or C/C++.\\nDifferent Networks CNN, RNN, LSTM, Transformer Based models, GAN, Reinforcement Learning\\nFamiliarity with different model architectures AlexNetm, ResNet, MobileNet etc., in Computer Vision & BiLSTM, Bert family models.\\nExperience with distribution strategies for data and model parallelism\\nDevelopment of mobile applications with tensorflow (TF Lite)\\nExperience in the development of End-to-end production based models. Cloud deployment of any machine learning models\\nUnderstanding of advanced machine learning data pipelines components including Data Versioning, Code Versioning, Solution Versioning, Drift detection, Model Interpretability & Explainability.\\nExperience with Structured Data Machine Learning techniques\\nUsed AutoML techniques.\\nWorked or knowledge on distributed computing example Spark.\\nExperience with open source systems such as MLFlow, DVC, PyCaret, Prophet etc.\\n\\n\\nSalary: Not Disclosed by Recruiter\\nIndustry: IT-Software / Software Services\\nFunctional Area: Analytics & Business Intelligence\\nRole Category: Analytics & BI\\nRole: Data Analyst\\nEmployment Type: Full Time, Permanent',\n",
       " 'Role Sr. Data Scientist\\n\\nExp. 12 – 20 years\\n\\nLocation – Pune/Bangalore\\n\\nJob Description:\\nBE or MS or PhD degree in Computer Science, Artificial Intelligence, Machine Learning, or a related technical field.\\nDeep learning experience with Tensorflow and Keras or Pytorch is must\\nExperience with the following is preferred\\nDifferent data processing libraries such as Numpy, Scipy, Pandas, Matplotlib, Scikit-learn\\nExperience with one or more general purpose programming languages including but not limited to: Python (Must), R, Java, or C/C++.\\nDifferent Networks CNN, RNN, LSTM, Transformer Based models, GAN, Reinforcement Learning\\nFamiliarity with different model architectures AlexNetm, ResNet, MobileNet etc., in Computer Vision & BiLSTM, Bert family models.\\nExperience with distribution strategies for data and model parallelism\\nDevelopment of mobile applications with tensorflow (TF Lite)\\nExperience in the development of End-to-end production based models. Cloud deployment of any machine learning models\\nUnderstanding of advanced machine learning data pipelines components including Data Versioning, Code Versioning, Solution Versioning, Drift detection, Model Interpretability & Explainability.\\nExperience with Structured Data Machine Learning techniques\\nUsed AutoML techniques.\\nWorked or knowledge on distributed computing example Spark.\\nExperience with open source systems such as MLFlow, DVC, PyCaret, Prophet etc.\\n\\n\\nSalary: Not Disclosed by Recruiter\\nIndustry: IT-Software / Software Services\\nFunctional Area: Analytics & Business Intelligence\\nRole Category: Analytics & BI\\nRole: Data Analyst\\nEmployment Type: Full Time, Permanent',\n",
       " 'Roles and Responsibilities\\nSkill : NLP,Semantic model, NER model, Deep Learning\\n\\nNotice : who can join in a month max\\n\\nJob description :\\n\\n- 5+ years of experience using analytical toolslanguages like Python & R on large scale data\\n\\n- Must have Semantic model & NER experience\\n\\n- Experience working with pre-trained models, awareness of state-of-art in embeddings and applicability for use cases\\n\\n- Experience on Deep Learning for Image processing, Video analytics will be a plus\\n\\n- Must have strong experience in NLPNLGNLU applications using any popular Deep learning frameworks like Open CV, PyTorch, Theano, Tensor Flow, Caffe. Should have implemented solutions for industry use cases.\\n\\n- Demonstrated ability to engage with client stakeholders at multiple levels and provide consultative solutioning across different domains\\n\\n- Deep knowledge of techniques such as Linear Regression, gradient descent, Logistic Regression, Forecasting, Cluster analysis, Decision trees, Linear Optimization, Text Mining etc.\\n\\n- Must have experience in doing POCs\\n\\n- Strong applied fundamentals in data management, parallel computing and distributed systems; experience in productionizing & retraining models\\n\\n- Ability to guide and mentor teams of associates on solution development and approaches\\n\\n- Broad knowledge of fundamentals and state-of-the-art in NLP and machine learning\\n\\n- Coding skills in one or more programming languages such as Python, Scala, Java, C, C++\\n\\n- Expert high level of understanding on language semantic concepts & data standardization\\n\\n- Proven track record of successful models and practical implementation\\n\\n- Hands-on experience with popular ML frameworks such as TensorFlow\\n\\n- Experience with application development practices at scale, from problem definition to deployment.\\n\\n- Familiarity with Cloud services such as AWS, SageMaker etc. is considered a plus\\n\\n- Develop and apply Statistical Modeling techniques (e.g. Bayesian models and deep neural networks), optimization methods, and other ML techniques to different applications\\n\\n- Knowledge in Machine Learning techniques in entity resolution, common speech products or text search domain',\n",
       " 'Roles and Responsibilities\\n\\nMust have strong Python Programming Skills\\nStrong analytical & algorithm development skills\\nLogical and Analytical skills must be really strong\\nMust have worked in DeepLearning Efforts - Especially computer vision.\\nMust have experinece with Object Detection - Custom model training for Object detection\\nShould have experience with atleast one or more of these - Tensorflow, Keras, PyTorch\\n\\nPrimary Skills - Python + tensorflow - Keras / PyTorch, OpenCV\\nPerks and Benefits\\n\\nKindly share your resume to kandavelkumar.lakshmanan @cesltd.com',\n",
       " \"We are hiring Data Scientist and Senior Data Scientist Academic Operations for our leading EdTech Client.\\n\\nCall/WhatsApp- Amit-9379292728\\nEmail: amitkumar.s@randstad.in\\n\\nor Fill the google form - https://tinyurl.com/JobAppForm4\\n\\nJob Responsibilities:\\nYour primary job responsibility will include (and not limited to):\\nOwn the student's learning outcomes by providing them with support on the topics covered in the\\ncurriculum.\\nInvolve in the residency class room sessions to facilitate lectures and lab sessions\\nBe the first point contact for participants for academic queries and manage discussion\\ngroups\\nMonitor participants academic performance and make learning interventions in the\\nform of remedial sessions, coaching and mentoring\\n\\nCoordinate with faculty to create best in class learning material - video, reading material,\\nassignments, exams\\nDesign and conduct examinations to measure the learning outcome of participants\\nIdentify & Solve interesting problems involving rich datasets in various domains.\\nAccordingly, create capstone projects on the evolving use cases in the industry\\nIdentify key emerging trends in the industry and maintain a rich reference material\\nAssist program director and senior operations and academics managers in planning\\non-campus sessions, preparing schedules, evaluation and grading\\nIdentify key reporting metric sand create dashboards to enable quick decision making\\nAutomation of manual data collection, data cleansing and exploratory data analysis\\nCreate and maintain business and technical requirements\\nIdentify technical solutions and perform feasibility analysis\\nCreate technical roadmaps for the operations Team\\nManage, identify and suggest processes for smoother program management to\\nensure a consistent and trouble free learning experience\\nCoordinate with IT and Admin to ensure smooth execution at various locations\\nTravel to other cities if required to manage residencies\\n\\nRelevant Background:\\nGraduate with an exceptional academic track record\\nCompetency: (Top 3)\\n1. Passion for learning and having great learning outcomes\\n2. Ability to multitask and coordinate with multiple stakeholders\\n3. Excellent knowledge in python, tableau and ML concepts\",\n",
       " 'Role Description:\\nA Sr. Data Scientist who lead the development of analytics / machine learning / AI models for generating future prediction using data.\\nResponsibilities : - Understanding the project requirement\\n- Understand if there is any already existing ML model\\n- Leading analytics project & provide necessary guidance to the team\\n- Understand the data & doing EDA\\n- Feature engineering - Building Data Science models\\n- Validate & Piloting ML models\\n- Model tuning & improvement\\nRequired Skills:\\n- Sound theoretical knowledge in ML algorithm and their application\\n- Strong fundamental on statistics\\n- Experience in leading multiple data science projects\\n- Hands on experience on Machine learning / data science\\n- Strong stakeholder management skills\\n- Expert in Python - Hand on experience in SPARK Scala or PySpark\\nAdded Advantage:\\n- Hands on experience in Azure data bricks\\n- Working experience in CPG domain\\nSkills Required:\\nDATA ANALYSIS, Machine learning, Python, Databricks']"
      ]
     },
     "execution_count": 270,
     "metadata": {},
     "output_type": "execute_result"
    }
   ],
   "source": [
    "descrp=[]\n",
    "for i in urls:\n",
    "    driver.get(i)\n",
    "    c=driver.find_element_by_xpath(\"//div[@class='dang-inner-html' or @class='clearboth description' or @class='f14 lh18 alignJ disc-li']\")\n",
    "    descrp.append(c.text)\n",
    "descrp"
   ]
  },
  {
   "cell_type": "code",
   "execution_count": 271,
   "metadata": {},
   "outputs": [
    {
     "data": {
      "text/html": [
       "<div>\n",
       "<style scoped>\n",
       "    .dataframe tbody tr th:only-of-type {\n",
       "        vertical-align: middle;\n",
       "    }\n",
       "\n",
       "    .dataframe tbody tr th {\n",
       "        vertical-align: top;\n",
       "    }\n",
       "\n",
       "    .dataframe thead th {\n",
       "        text-align: right;\n",
       "    }\n",
       "</style>\n",
       "<table border=\"1\" class=\"dataframe\">\n",
       "  <thead>\n",
       "    <tr style=\"text-align: right;\">\n",
       "      <th></th>\n",
       "      <th>Title</th>\n",
       "      <th>Location</th>\n",
       "      <th>Description</th>\n",
       "    </tr>\n",
       "  </thead>\n",
       "  <tbody>\n",
       "    <tr>\n",
       "      <th>0</th>\n",
       "      <td>Data Scientist - Python/ MATLAB/ Machine Learn...</td>\n",
       "      <td>Bengaluru</td>\n",
       "      <td>Data Scientist - Data Mining/ Machine Learning...</td>\n",
       "    </tr>\n",
       "    <tr>\n",
       "      <th>1</th>\n",
       "      <td>Lead Data Scientist - Machine Learning/ Data M...</td>\n",
       "      <td>Bengaluru</td>\n",
       "      <td>Roles and Responsibilities\\nRequirements :\\n\\n...</td>\n",
       "    </tr>\n",
       "    <tr>\n",
       "      <th>2</th>\n",
       "      <td>Data Scientist - Machine Learning (Commerce BU)</td>\n",
       "      <td>Bengaluru</td>\n",
       "      <td>Roles and Responsibilities\\nUnder guidance, or...</td>\n",
       "    </tr>\n",
       "    <tr>\n",
       "      <th>3</th>\n",
       "      <td>Data Scientist</td>\n",
       "      <td>Chennai, Pune, Mumbai, Bengaluru</td>\n",
       "      <td>Working experience in Artificial Intelligence,...</td>\n",
       "    </tr>\n",
       "    <tr>\n",
       "      <th>4</th>\n",
       "      <td>Opening For Sr. Data Scientist @ Tech Mahindra</td>\n",
       "      <td>Pune, Bengaluru</td>\n",
       "      <td>BE or MS or PhD degree in Computer Science, Ar...</td>\n",
       "    </tr>\n",
       "    <tr>\n",
       "      <th>5</th>\n",
       "      <td>Opening For Sr. Data Scientist @ Tech Mahindra</td>\n",
       "      <td>Pune, Bengaluru</td>\n",
       "      <td>Role Sr. Data Scientist\\n\\nExp. 12 – 20 years\\...</td>\n",
       "    </tr>\n",
       "    <tr>\n",
       "      <th>6</th>\n",
       "      <td>Senior Data Scientist - NLP/ Python/ R</td>\n",
       "      <td>Bengaluru, Hyderabad</td>\n",
       "      <td>Roles and Responsibilities\\nSkill : NLP,Semant...</td>\n",
       "    </tr>\n",
       "    <tr>\n",
       "      <th>7</th>\n",
       "      <td>Senior Data Scientist | CES IT LTD | CMMI Level 5</td>\n",
       "      <td>Chennai, Pune, Delhi NCR, Mumbai, Bengaluru, H...</td>\n",
       "      <td>Roles and Responsibilities\\n\\nMust have strong...</td>\n",
       "    </tr>\n",
       "    <tr>\n",
       "      <th>8</th>\n",
       "      <td>Data Scientist and Senior Data Scientist Acade...</td>\n",
       "      <td>Bengaluru</td>\n",
       "      <td>We are hiring Data Scientist and Senior Data S...</td>\n",
       "    </tr>\n",
       "    <tr>\n",
       "      <th>9</th>\n",
       "      <td>Sr. Analyst-Data Scientist</td>\n",
       "      <td>Bengaluru</td>\n",
       "      <td>Role Description:\\nA Sr. Data Scientist who le...</td>\n",
       "    </tr>\n",
       "  </tbody>\n",
       "</table>\n",
       "</div>"
      ],
      "text/plain": [
       "                                               Title  \\\n",
       "0  Data Scientist - Python/ MATLAB/ Machine Learn...   \n",
       "1  Lead Data Scientist - Machine Learning/ Data M...   \n",
       "2    Data Scientist - Machine Learning (Commerce BU)   \n",
       "3                                     Data Scientist   \n",
       "4     Opening For Sr. Data Scientist @ Tech Mahindra   \n",
       "5     Opening For Sr. Data Scientist @ Tech Mahindra   \n",
       "6             Senior Data Scientist - NLP/ Python/ R   \n",
       "7  Senior Data Scientist | CES IT LTD | CMMI Level 5   \n",
       "8  Data Scientist and Senior Data Scientist Acade...   \n",
       "9                         Sr. Analyst-Data Scientist   \n",
       "\n",
       "                                            Location  \\\n",
       "0                                          Bengaluru   \n",
       "1                                          Bengaluru   \n",
       "2                                          Bengaluru   \n",
       "3                   Chennai, Pune, Mumbai, Bengaluru   \n",
       "4                                    Pune, Bengaluru   \n",
       "5                                    Pune, Bengaluru   \n",
       "6                               Bengaluru, Hyderabad   \n",
       "7  Chennai, Pune, Delhi NCR, Mumbai, Bengaluru, H...   \n",
       "8                                          Bengaluru   \n",
       "9                                          Bengaluru   \n",
       "\n",
       "                                         Description  \n",
       "0  Data Scientist - Data Mining/ Machine Learning...  \n",
       "1  Roles and Responsibilities\\nRequirements :\\n\\n...  \n",
       "2  Roles and Responsibilities\\nUnder guidance, or...  \n",
       "3  Working experience in Artificial Intelligence,...  \n",
       "4  BE or MS or PhD degree in Computer Science, Ar...  \n",
       "5  Role Sr. Data Scientist\\n\\nExp. 12 – 20 years\\...  \n",
       "6  Roles and Responsibilities\\nSkill : NLP,Semant...  \n",
       "7  Roles and Responsibilities\\n\\nMust have strong...  \n",
       "8  We are hiring Data Scientist and Senior Data S...  \n",
       "9  Role Description:\\nA Sr. Data Scientist who le...  "
      ]
     },
     "execution_count": 271,
     "metadata": {},
     "output_type": "execute_result"
    }
   ],
   "source": [
    "# Creating a dataframe \n",
    "jobs=pd.DataFrame({})\n",
    "jobs['Title']=title[0:10]\n",
    "jobs['Location']=location[0:10]\n",
    "jobs['Description']=descrp[0:10]\n",
    "\n",
    "jobs"
   ]
  },
  {
   "cell_type": "markdown",
   "metadata": {},
   "source": [
    "# Q3. Scrape data from naukri.com using filters on salary and location."
   ]
  },
  {
   "cell_type": "code",
   "execution_count": 102,
   "metadata": {},
   "outputs": [],
   "source": [
    "#Lets first connect to web driver\n",
    "driver=webdriver.Chrome(\"C:\\web driver\\chromedriver.exe\")"
   ]
  },
  {
   "cell_type": "code",
   "execution_count": 103,
   "metadata": {},
   "outputs": [],
   "source": [
    "driver.get('https://www.naukri.com/')"
   ]
  },
  {
   "cell_type": "code",
   "execution_count": 104,
   "metadata": {},
   "outputs": [],
   "source": [
    "driver.find_element_by_id('qsb-keyword-sugg').send_keys('Data Scientist')\n",
    "driver.find_element_by_xpath(\"//div[@class='search-btn']/button\").click()"
   ]
  },
  {
   "cell_type": "code",
   "execution_count": 105,
   "metadata": {},
   "outputs": [],
   "source": [
    "driver.find_element_by_xpath(\"//label[@for='chk-Delhi/NCR-cityType-']/i\").click()"
   ]
  },
  {
   "cell_type": "code",
   "execution_count": 108,
   "metadata": {},
   "outputs": [],
   "source": [
    "driver.find_element_by_xpath(\"//label[@for='chk-3-6 Lakhs-ctcFilter-']/i\").click()"
   ]
  },
  {
   "cell_type": "code",
   "execution_count": 109,
   "metadata": {},
   "outputs": [],
   "source": [
    "#specifing the url of the webpage to be scraped\n",
    "url3=\"https://www.naukri.com/data-scientist-jobs?k=data%20scientist&cityType=25.9.31&ctcFilter=3to6\""
   ]
  },
  {
   "cell_type": "code",
   "execution_count": 110,
   "metadata": {},
   "outputs": [],
   "source": [
    "# Lets now open required webpage through our webdriver\n",
    "driver.get(url3)"
   ]
  },
  {
   "cell_type": "code",
   "execution_count": 112,
   "metadata": {},
   "outputs": [
    {
     "data": {
      "text/plain": [
       "['Data Scientist',\n",
       " 'Data Scientist',\n",
       " 'Senior Data Scientist - Computer Vision',\n",
       " 'Data Scientist - Machine Learning/ NLP',\n",
       " 'Only Fresher / Data Scientist / Data Analyst / Analytics - MNC',\n",
       " 'Data Scientist',\n",
       " 'Data Scientist - Tableau/Power BI',\n",
       " 'GCP Skilled Analytics Resources (Data engineer / Data scientists)',\n",
       " 'Data Scientist - IT',\n",
       " 'Data Scientist Machine Learning']"
      ]
     },
     "execution_count": 112,
     "metadata": {},
     "output_type": "execute_result"
    }
   ],
   "source": [
    "tit=[]\n",
    "a=driver.find_elements_by_xpath(\"//a[@class='title fw500 ellipsis']\")\n",
    "for i in a:\n",
    "    tit.append(i.text)\n",
    "tit[0:10]\n"
   ]
  },
  {
   "cell_type": "code",
   "execution_count": 114,
   "metadata": {},
   "outputs": [
    {
     "data": {
      "text/plain": [
       "['Ghaziabad, Bhopal, Lucknow, Kanpur, Rajkot, Bengaluru, Gurgaon, Agra, Bharuch, Jaunpur, Nagpur, Delhi, Mumbai, Jaipur, Jhansi',\n",
       " 'Gurgaon Gurugram',\n",
       " 'Delhi NCR',\n",
       " 'Gurgaon Gurugram',\n",
       " 'Delhi NCR, Noida, Gurgaon',\n",
       " 'Gurgaon Gurugram',\n",
       " 'Delhi',\n",
       " 'Pune, Bengaluru, Gurgaon',\n",
       " 'Gurgaon',\n",
       " 'Gurgaon']"
      ]
     },
     "execution_count": 114,
     "metadata": {},
     "output_type": "execute_result"
    }
   ],
   "source": [
    "loc=[]\n",
    "t=driver.find_elements_by_xpath(\"//li[@class='fleft grey-text br2 placeHolderLi location']/span\")\n",
    "for i in t:\n",
    "    loc.append(i.text)\n",
    "loc[0:10]"
   ]
  },
  {
   "cell_type": "code",
   "execution_count": 115,
   "metadata": {},
   "outputs": [
    {
     "data": {
      "text/plain": [
       "['Country Veggie',\n",
       " 'IBM India Pvt. Limited',\n",
       " 'IRIS SOFTWARE Inc',\n",
       " 'TalPro',\n",
       " 'GABA Consultancy services',\n",
       " 'Ciena',\n",
       " 'Talent Stock Solutions',\n",
       " 'Aerial Telecom Solutions Pvt. Ltd.',\n",
       " 'Ehireo',\n",
       " 'Delhivery']"
      ]
     },
     "execution_count": 115,
     "metadata": {},
     "output_type": "execute_result"
    }
   ],
   "source": [
    "com=[]\n",
    "r=driver.find_elements_by_xpath(\"//a[@class='subTitle ellipsis fleft']\")\n",
    "for i in r:\n",
    "    com.append(i.text)\n",
    "com[0:10]"
   ]
  },
  {
   "cell_type": "code",
   "execution_count": 117,
   "metadata": {},
   "outputs": [
    {
     "data": {
      "text/plain": [
       "['1-3 Yrs',\n",
       " '4-8 Yrs',\n",
       " '4-9 Yrs',\n",
       " '2-6 Yrs',\n",
       " '0-0 Yrs',\n",
       " '5-6 Yrs',\n",
       " '1-3 Yrs',\n",
       " '3-8 Yrs',\n",
       " '4-9 Yrs',\n",
       " '1-3 Yrs']"
      ]
     },
     "execution_count": 117,
     "metadata": {},
     "output_type": "execute_result"
    }
   ],
   "source": [
    "exp=[]\n",
    "v=driver.find_elements_by_xpath(\"//li[@class='fleft grey-text br2 placeHolderLi experience']\")\n",
    "for i in v:\n",
    "    exp.append(i.text)\n",
    "exp[0:10]"
   ]
  },
  {
   "cell_type": "code",
   "execution_count": 118,
   "metadata": {},
   "outputs": [
    {
     "data": {
      "text/html": [
       "<div>\n",
       "<style scoped>\n",
       "    .dataframe tbody tr th:only-of-type {\n",
       "        vertical-align: middle;\n",
       "    }\n",
       "\n",
       "    .dataframe tbody tr th {\n",
       "        vertical-align: top;\n",
       "    }\n",
       "\n",
       "    .dataframe thead th {\n",
       "        text-align: right;\n",
       "    }\n",
       "</style>\n",
       "<table border=\"1\" class=\"dataframe\">\n",
       "  <thead>\n",
       "    <tr style=\"text-align: right;\">\n",
       "      <th></th>\n",
       "      <th>Title</th>\n",
       "      <th>Location</th>\n",
       "      <th>Company</th>\n",
       "      <th>Experience</th>\n",
       "    </tr>\n",
       "  </thead>\n",
       "  <tbody>\n",
       "    <tr>\n",
       "      <th>0</th>\n",
       "      <td>Data Scientist</td>\n",
       "      <td>Ghaziabad, Bhopal, Lucknow, Kanpur, Rajkot, Be...</td>\n",
       "      <td>Country Veggie</td>\n",
       "      <td>1-3 Yrs</td>\n",
       "    </tr>\n",
       "    <tr>\n",
       "      <th>1</th>\n",
       "      <td>Data Scientist</td>\n",
       "      <td>Gurgaon Gurugram</td>\n",
       "      <td>IBM India Pvt. Limited</td>\n",
       "      <td>4-8 Yrs</td>\n",
       "    </tr>\n",
       "    <tr>\n",
       "      <th>2</th>\n",
       "      <td>Senior Data Scientist - Computer Vision</td>\n",
       "      <td>Delhi NCR</td>\n",
       "      <td>IRIS SOFTWARE Inc</td>\n",
       "      <td>4-9 Yrs</td>\n",
       "    </tr>\n",
       "    <tr>\n",
       "      <th>3</th>\n",
       "      <td>Data Scientist - Machine Learning/ NLP</td>\n",
       "      <td>Gurgaon Gurugram</td>\n",
       "      <td>TalPro</td>\n",
       "      <td>2-6 Yrs</td>\n",
       "    </tr>\n",
       "    <tr>\n",
       "      <th>4</th>\n",
       "      <td>Only Fresher / Data Scientist / Data Analyst /...</td>\n",
       "      <td>Delhi NCR, Noida, Gurgaon</td>\n",
       "      <td>GABA Consultancy services</td>\n",
       "      <td>0-0 Yrs</td>\n",
       "    </tr>\n",
       "    <tr>\n",
       "      <th>5</th>\n",
       "      <td>Data Scientist</td>\n",
       "      <td>Gurgaon Gurugram</td>\n",
       "      <td>Ciena</td>\n",
       "      <td>5-6 Yrs</td>\n",
       "    </tr>\n",
       "    <tr>\n",
       "      <th>6</th>\n",
       "      <td>Data Scientist - Tableau/Power BI</td>\n",
       "      <td>Delhi</td>\n",
       "      <td>Talent Stock Solutions</td>\n",
       "      <td>1-3 Yrs</td>\n",
       "    </tr>\n",
       "    <tr>\n",
       "      <th>7</th>\n",
       "      <td>GCP Skilled Analytics Resources (Data engineer...</td>\n",
       "      <td>Pune, Bengaluru, Gurgaon</td>\n",
       "      <td>Aerial Telecom Solutions Pvt. Ltd.</td>\n",
       "      <td>3-8 Yrs</td>\n",
       "    </tr>\n",
       "    <tr>\n",
       "      <th>8</th>\n",
       "      <td>Data Scientist - IT</td>\n",
       "      <td>Gurgaon</td>\n",
       "      <td>Ehireo</td>\n",
       "      <td>4-9 Yrs</td>\n",
       "    </tr>\n",
       "    <tr>\n",
       "      <th>9</th>\n",
       "      <td>Data Scientist Machine Learning</td>\n",
       "      <td>Gurgaon</td>\n",
       "      <td>Delhivery</td>\n",
       "      <td>1-3 Yrs</td>\n",
       "    </tr>\n",
       "  </tbody>\n",
       "</table>\n",
       "</div>"
      ],
      "text/plain": [
       "                                               Title  \\\n",
       "0                                     Data Scientist   \n",
       "1                                     Data Scientist   \n",
       "2            Senior Data Scientist - Computer Vision   \n",
       "3             Data Scientist - Machine Learning/ NLP   \n",
       "4  Only Fresher / Data Scientist / Data Analyst /...   \n",
       "5                                     Data Scientist   \n",
       "6                  Data Scientist - Tableau/Power BI   \n",
       "7  GCP Skilled Analytics Resources (Data engineer...   \n",
       "8                                Data Scientist - IT   \n",
       "9                    Data Scientist Machine Learning   \n",
       "\n",
       "                                            Location  \\\n",
       "0  Ghaziabad, Bhopal, Lucknow, Kanpur, Rajkot, Be...   \n",
       "1                                   Gurgaon Gurugram   \n",
       "2                                          Delhi NCR   \n",
       "3                                   Gurgaon Gurugram   \n",
       "4                          Delhi NCR, Noida, Gurgaon   \n",
       "5                                   Gurgaon Gurugram   \n",
       "6                                              Delhi   \n",
       "7                           Pune, Bengaluru, Gurgaon   \n",
       "8                                            Gurgaon   \n",
       "9                                            Gurgaon   \n",
       "\n",
       "                              Company Experience  \n",
       "0                      Country Veggie    1-3 Yrs  \n",
       "1              IBM India Pvt. Limited    4-8 Yrs  \n",
       "2                   IRIS SOFTWARE Inc    4-9 Yrs  \n",
       "3                              TalPro    2-6 Yrs  \n",
       "4           GABA Consultancy services    0-0 Yrs  \n",
       "5                               Ciena    5-6 Yrs  \n",
       "6              Talent Stock Solutions    1-3 Yrs  \n",
       "7  Aerial Telecom Solutions Pvt. Ltd.    3-8 Yrs  \n",
       "8                              Ehireo    4-9 Yrs  \n",
       "9                           Delhivery    1-3 Yrs  "
      ]
     },
     "execution_count": 118,
     "metadata": {},
     "output_type": "execute_result"
    }
   ],
   "source": [
    "# Creating a dataframe\n",
    "jobs=pd.DataFrame({})\n",
    "jobs['Title']=tit[0:10]\n",
    "jobs['Location']=loc[0:10]\n",
    "jobs['Company']=com[0:10]\n",
    "jobs['Experience']=exp[0:10]\n",
    "jobs"
   ]
  },
  {
   "cell_type": "code",
   "execution_count": 272,
   "metadata": {},
   "outputs": [],
   "source": [
    "driver.close()"
   ]
  },
  {
   "cell_type": "markdown",
   "metadata": {},
   "source": [
    "# Q4. Scrape data from Glassdoor.com for Data scientist in Designation  and  Noida as location."
   ]
  },
  {
   "cell_type": "code",
   "execution_count": 54,
   "metadata": {},
   "outputs": [],
   "source": [
    "#Lets first connect to web driver\n",
    "driver=webdriver.Chrome(\"C:\\web driver\\chromedriver.exe\")"
   ]
  },
  {
   "cell_type": "code",
   "execution_count": 55,
   "metadata": {},
   "outputs": [],
   "source": [
    "driver.get('https://www.glassdoor.co.in/index.htm')"
   ]
  },
  {
   "cell_type": "code",
   "execution_count": 57,
   "metadata": {},
   "outputs": [],
   "source": [
    "#finding element for job search bar\n",
    "from selenium.webdriver.common.keys import Keys\n",
    "driver.find_element_by_id('sc.keyword').send_keys('Data Scientist')\n",
    "driver.find_element_by_id('sc.location').send_keys(Keys.BACKSPACE*9,'Noida')"
   ]
  },
  {
   "cell_type": "code",
   "execution_count": 58,
   "metadata": {},
   "outputs": [],
   "source": [
    "driver.find_element_by_xpath(\"//button[@class='gd-ui-button ml-std col-auto SearchStyles__newSearchButton css-iixdfr']/span\").click()"
   ]
  },
  {
   "cell_type": "code",
   "execution_count": 60,
   "metadata": {},
   "outputs": [],
   "source": [
    "#specifing the url of the webpage to be scraped\n",
    "url=\"https://www.glassdoor.co.in/Job/noida-data-scientist-jobs-SRCH_IL.0,5_IC4477468_KO6,20.htm\""
   ]
  },
  {
   "cell_type": "code",
   "execution_count": 61,
   "metadata": {},
   "outputs": [],
   "source": [
    "# Lets now open required webpage through our webdriver\n",
    "driver.get(url)"
   ]
  },
  {
   "cell_type": "code",
   "execution_count": 73,
   "metadata": {},
   "outputs": [],
   "source": [
    "# so now lets first create empty lists. In these lists we will be storing scraped data.\n",
    "company_names=[]\n",
    "No_of_days_ago=[]\n",
    "rating=[]"
   ]
  },
  {
   "cell_type": "code",
   "execution_count": 74,
   "metadata": {},
   "outputs": [],
   "source": [
    "# so lets extract all the tags having the company names\n",
    "company=driver.find_elements_by_xpath(\"//a[@class=' css-l2wjgv e1n63ojh0 jobLink']/span\")\n",
    "for i in company:\n",
    "    company_names.append(i.text)"
   ]
  },
  {
   "cell_type": "code",
   "execution_count": 75,
   "metadata": {},
   "outputs": [
    {
     "data": {
      "text/plain": [
       "['BlackRock',\n",
       " 'BlackRock',\n",
       " 'Adobe',\n",
       " 'Windows Consultants Pvt. Ltd.',\n",
       " 'abc consultants',\n",
       " 'Brickred',\n",
       " 'Biz2Credit Inc',\n",
       " 'Terra Economics & Analytics Lab (TEAL)',\n",
       " 'WishFin',\n",
       " 'Gauge Data Solutions',\n",
       " 'Priority Vendor',\n",
       " 'Microsoft',\n",
       " 'Healtheoz India',\n",
       " 'Srijan Technologies Pvt Ltd',\n",
       " 'Jubna',\n",
       " 'SearchUrCollege',\n",
       " 'Ank Aha',\n",
       " 'Lumiq',\n",
       " 'Techlive',\n",
       " 'IMMO',\n",
       " 'xtLytics',\n",
       " 'Analytics Vidhya',\n",
       " 'Salasar New Age Technologies',\n",
       " 'American Express Global Business Travel',\n",
       " 'Emerging India Group',\n",
       " 'Mahajan Imaging',\n",
       " 'Great Learning',\n",
       " 'Fitfyles',\n",
       " 'Axslogic',\n",
       " 'ESRI, Inc.',\n",
       " 'THSTI',\n",
       " 'Profisor Services']"
      ]
     },
     "execution_count": 75,
     "metadata": {},
     "output_type": "execute_result"
    }
   ],
   "source": [
    "company_names"
   ]
  },
  {
   "cell_type": "code",
   "execution_count": 76,
   "metadata": {},
   "outputs": [
    {
     "data": {
      "text/plain": [
       "['2d',\n",
       " '2d',\n",
       " '4d',\n",
       " '3d',\n",
       " '2d',\n",
       " '21d',\n",
       " '11d',\n",
       " '3d',\n",
       " '13d',\n",
       " '2d',\n",
       " '2d',\n",
       " '21d',\n",
       " '2d',\n",
       " '7d',\n",
       " '16d',\n",
       " '2d',\n",
       " '2d',\n",
       " '21d',\n",
       " '8d',\n",
       " '7d',\n",
       " '16d',\n",
       " '2d',\n",
       " '14d',\n",
       " '8d',\n",
       " '14d',\n",
       " '2d',\n",
       " '2d',\n",
       " '2d',\n",
       " '24h',\n",
       " '18d',\n",
       " '10d',\n",
       " '2d']"
      ]
     },
     "execution_count": 76,
     "metadata": {},
     "output_type": "execute_result"
    }
   ],
   "source": [
    "ago=driver.find_elements_by_xpath(\"//div[@class='d-flex align-items-end pl-std css-mi55ob']\")\n",
    "for i in ago:\n",
    "    No_of_days_ago.append(i.text)\n",
    "No_of_days_ago"
   ]
  },
  {
   "cell_type": "code",
   "execution_count": 78,
   "metadata": {},
   "outputs": [
    {
     "data": {
      "text/plain": [
       "['4.1',\n",
       " '4.1',\n",
       " '4.4',\n",
       " '4.1',\n",
       " '3.9',\n",
       " '3.7',\n",
       " '4.9',\n",
       " '4.0',\n",
       " '3.1',\n",
       " '3.7',\n",
       " '4.4',\n",
       " '4.8',\n",
       " '3.9',\n",
       " '4.1',\n",
       " '3.6',\n",
       " '5.0',\n",
       " '3.0',\n",
       " '4.1',\n",
       " '3.8',\n",
       " '4.0',\n",
       " '4.1',\n",
       " '4.3',\n",
       " '4.3',\n",
       " '3.9',\n",
       " '4.5',\n",
       " '4.1',\n",
       " '4.1',\n",
       " '4.4',\n",
       " '4.1',\n",
       " '3.9',\n",
       " '3.7',\n",
       " '4.9',\n",
       " '4.0',\n",
       " '3.1',\n",
       " '3.7',\n",
       " '4.4',\n",
       " '4.8',\n",
       " '3.9',\n",
       " '4.1',\n",
       " '3.6',\n",
       " '5.0',\n",
       " '3.0',\n",
       " '4.1',\n",
       " '3.8',\n",
       " '4.0',\n",
       " '4.1',\n",
       " '4.3',\n",
       " '4.3',\n",
       " '3.9',\n",
       " '4.5']"
      ]
     },
     "execution_count": 78,
     "metadata": {},
     "output_type": "execute_result"
    }
   ],
   "source": [
    "rate=driver.find_elements_by_xpath(\"//span[@class='css-19pjha7 e1cjmv6j1']\")\n",
    "for i in rate:\n",
    "    rating.append(i.text)\n",
    "rating"
   ]
  },
  {
   "cell_type": "code",
   "execution_count": 79,
   "metadata": {},
   "outputs": [],
   "source": [
    "# Creating a dataframe\n",
    "jobs=pd.DataFrame({})\n",
    "jobs['Company']=company_names[0:10]\n",
    "jobs['No_of_days_ago']=No_of_days_ago[0:10]\n",
    "jobs['Rating']=rating[0:10]"
   ]
  },
  {
   "cell_type": "code",
   "execution_count": 80,
   "metadata": {},
   "outputs": [
    {
     "data": {
      "text/html": [
       "<div>\n",
       "<style scoped>\n",
       "    .dataframe tbody tr th:only-of-type {\n",
       "        vertical-align: middle;\n",
       "    }\n",
       "\n",
       "    .dataframe tbody tr th {\n",
       "        vertical-align: top;\n",
       "    }\n",
       "\n",
       "    .dataframe thead th {\n",
       "        text-align: right;\n",
       "    }\n",
       "</style>\n",
       "<table border=\"1\" class=\"dataframe\">\n",
       "  <thead>\n",
       "    <tr style=\"text-align: right;\">\n",
       "      <th></th>\n",
       "      <th>Company</th>\n",
       "      <th>No_of_days_ago</th>\n",
       "      <th>Rating</th>\n",
       "    </tr>\n",
       "  </thead>\n",
       "  <tbody>\n",
       "    <tr>\n",
       "      <th>0</th>\n",
       "      <td>BlackRock</td>\n",
       "      <td>2d</td>\n",
       "      <td>4.1</td>\n",
       "    </tr>\n",
       "    <tr>\n",
       "      <th>1</th>\n",
       "      <td>BlackRock</td>\n",
       "      <td>2d</td>\n",
       "      <td>4.1</td>\n",
       "    </tr>\n",
       "    <tr>\n",
       "      <th>2</th>\n",
       "      <td>Adobe</td>\n",
       "      <td>4d</td>\n",
       "      <td>4.4</td>\n",
       "    </tr>\n",
       "    <tr>\n",
       "      <th>3</th>\n",
       "      <td>Windows Consultants Pvt. Ltd.</td>\n",
       "      <td>3d</td>\n",
       "      <td>4.1</td>\n",
       "    </tr>\n",
       "    <tr>\n",
       "      <th>4</th>\n",
       "      <td>abc consultants</td>\n",
       "      <td>2d</td>\n",
       "      <td>3.9</td>\n",
       "    </tr>\n",
       "    <tr>\n",
       "      <th>5</th>\n",
       "      <td>Brickred</td>\n",
       "      <td>21d</td>\n",
       "      <td>3.7</td>\n",
       "    </tr>\n",
       "    <tr>\n",
       "      <th>6</th>\n",
       "      <td>Biz2Credit Inc</td>\n",
       "      <td>11d</td>\n",
       "      <td>4.9</td>\n",
       "    </tr>\n",
       "    <tr>\n",
       "      <th>7</th>\n",
       "      <td>Terra Economics &amp; Analytics Lab (TEAL)</td>\n",
       "      <td>3d</td>\n",
       "      <td>4.0</td>\n",
       "    </tr>\n",
       "    <tr>\n",
       "      <th>8</th>\n",
       "      <td>WishFin</td>\n",
       "      <td>13d</td>\n",
       "      <td>3.1</td>\n",
       "    </tr>\n",
       "    <tr>\n",
       "      <th>9</th>\n",
       "      <td>Gauge Data Solutions</td>\n",
       "      <td>2d</td>\n",
       "      <td>3.7</td>\n",
       "    </tr>\n",
       "  </tbody>\n",
       "</table>\n",
       "</div>"
      ],
      "text/plain": [
       "                                  Company No_of_days_ago Rating\n",
       "0                               BlackRock             2d    4.1\n",
       "1                               BlackRock             2d    4.1\n",
       "2                                   Adobe             4d    4.4\n",
       "3           Windows Consultants Pvt. Ltd.             3d    4.1\n",
       "4                         abc consultants             2d    3.9\n",
       "5                                Brickred            21d    3.7\n",
       "6                          Biz2Credit Inc            11d    4.9\n",
       "7  Terra Economics & Analytics Lab (TEAL)             3d    4.0\n",
       "8                                 WishFin            13d    3.1\n",
       "9                    Gauge Data Solutions             2d    3.7"
      ]
     },
     "execution_count": 80,
     "metadata": {},
     "output_type": "execute_result"
    }
   ],
   "source": [
    "jobs"
   ]
  },
  {
   "cell_type": "code",
   "execution_count": 81,
   "metadata": {},
   "outputs": [],
   "source": [
    "driver.close()"
   ]
  },
  {
   "cell_type": "markdown",
   "metadata": {},
   "source": [
    "# Q5. Form Glassdoor.com  scrape the salary data for Data Scientist  in designation and in location as Noida.\n"
   ]
  },
  {
   "cell_type": "code",
   "execution_count": 83,
   "metadata": {},
   "outputs": [],
   "source": [
    "#Lets first connect to web driver\n",
    "driver=webdriver.Chrome(\"C:\\web driver\\chromedriver.exe\")"
   ]
  },
  {
   "cell_type": "code",
   "execution_count": 84,
   "metadata": {},
   "outputs": [],
   "source": [
    "driver.get('https://www.glassdoor.co.in/Salaries/index.htm')"
   ]
  },
  {
   "cell_type": "code",
   "execution_count": 85,
   "metadata": {},
   "outputs": [],
   "source": [
    "#finding element for job search bar\n",
    "from selenium.webdriver.common.keys import Keys\n",
    "driver.find_element_by_id('KeywordSearch').send_keys('Data Scientist')\n",
    "driver.find_element_by_id('LocationSearch').send_keys(Keys.BACKSPACE*9,'Noida')"
   ]
  },
  {
   "cell_type": "code",
   "execution_count": 86,
   "metadata": {},
   "outputs": [],
   "source": [
    "driver.find_element_by_id('HeroSearchButton').click()"
   ]
  },
  {
   "cell_type": "code",
   "execution_count": 87,
   "metadata": {},
   "outputs": [],
   "source": [
    "#specifing the url of the webpage to be scraped\n",
    "url2='https://www.glassdoor.co.in/Salaries/new-delhi-data-scientist-salary-SRCH_IL.0,9_IM1083_KO10,24.htm?clickSource=searchBtn'"
   ]
  },
  {
   "cell_type": "code",
   "execution_count": 88,
   "metadata": {},
   "outputs": [],
   "source": [
    "# Lets now open required webpage through our webdriver\n",
    "driver.get(url2)"
   ]
  },
  {
   "cell_type": "code",
   "execution_count": 90,
   "metadata": {},
   "outputs": [],
   "source": [
    "min=[]\n",
    "a=driver.find_elements_by_xpath(\"//div[@class='common__RangeBarStyle__values common__flex__justifySpaceBetween common__flex__container ']/span[1]\")\n",
    "for i in a:\n",
    "    min.append(i.text)"
   ]
  },
  {
   "cell_type": "code",
   "execution_count": 91,
   "metadata": {},
   "outputs": [
    {
     "data": {
      "text/plain": [
       "['₹450K',\n",
       " '₹350K',\n",
       " '₹336K',\n",
       " '₹577K',\n",
       " '₹587K',\n",
       " '₹717K',\n",
       " '₹502K',\n",
       " '₹621K',\n",
       " '₹793K',\n",
       " '₹576K',\n",
       " '₹202K',\n",
       " '₹972K',\n",
       " '₹632K',\n",
       " '₹808K',\n",
       " '₹1,533K',\n",
       " '₹818K',\n",
       " '₹86K',\n",
       " '₹471K',\n",
       " '₹923K',\n",
       " '₹792K']"
      ]
     },
     "execution_count": 91,
     "metadata": {},
     "output_type": "execute_result"
    }
   ],
   "source": [
    "min"
   ]
  },
  {
   "cell_type": "code",
   "execution_count": 92,
   "metadata": {},
   "outputs": [
    {
     "data": {
      "text/plain": [
       "['₹11,630K',\n",
       " '₹1,614K',\n",
       " '₹1,010K',\n",
       " '₹2,215K',\n",
       " '₹2,732K',\n",
       " '₹1,575K',\n",
       " '₹1,152K',\n",
       " '₹1,696K',\n",
       " '₹1,264K',\n",
       " '₹1,500K',\n",
       " '₹1,811K',\n",
       " '₹1,885K',\n",
       " '₹1,125K',\n",
       " '₹1,571K',\n",
       " '₹3,239K',\n",
       " '₹2,008K',\n",
       " '₹1,359K',\n",
       " '₹1,658K',\n",
       " '₹1,783K',\n",
       " '₹1,896K']"
      ]
     },
     "execution_count": 92,
     "metadata": {},
     "output_type": "execute_result"
    }
   ],
   "source": [
    "max=[]\n",
    "a=driver.find_elements_by_xpath(\"//div[@class='common__RangeBarStyle__values common__flex__justifySpaceBetween common__flex__container ']/span[2]\")\n",
    "for i in a:\n",
    "    max.append(i.text)\n",
    "max"
   ]
  },
  {
   "cell_type": "code",
   "execution_count": 93,
   "metadata": {},
   "outputs": [
    {
     "data": {
      "text/plain": [
       "['Delhivery',\n",
       " 'Ericsson-Worldwide',\n",
       " 'Tata Consultancy Services',\n",
       " 'Accenture',\n",
       " 'IBM',\n",
       " 'UnitedHealth Group',\n",
       " 'Valiance Solutions',\n",
       " 'Innovaccer',\n",
       " 'Cognizant Technology Solutions',\n",
       " 'EXL Service',\n",
       " 'ZS Associates',\n",
       " 'OYO',\n",
       " 'Nagarro',\n",
       " 'Optum',\n",
       " 'Sprinklr',\n",
       " 'dunnhumby',\n",
       " 'Algo8.ai',\n",
       " 'Tech Mahindra',\n",
       " 'Publicis Sapient',\n",
       " 'WNS']"
      ]
     },
     "execution_count": 93,
     "metadata": {},
     "output_type": "execute_result"
    }
   ],
   "source": [
    "comp=[]\n",
    "b=driver.find_elements_by_xpath(\"//p[@class='m-0 ']\")\n",
    "for i in b:\n",
    "    comp.append(i.text)\n",
    "comp"
   ]
  },
  {
   "cell_type": "code",
   "execution_count": 95,
   "metadata": {},
   "outputs": [
    {
     "data": {
      "text/plain": [
       "['₹ 12,64,182',\n",
       " '₹ 7,30,968',\n",
       " '₹ 5,99,668',\n",
       " '₹ 9,94,055',\n",
       " '₹ 7,39,040',\n",
       " '₹ 13,37,114',\n",
       " '₹ 7,80,374',\n",
       " '₹ 11,98,792',\n",
       " '₹ 10,08,143',\n",
       " '₹ 11,34,989',\n",
       " '₹ 10,00,000',\n",
       " '₹ 14,14,106',\n",
       " '₹ 9,81,176',\n",
       " '₹ 12,50,079',\n",
       " '₹ 15,33,073',\n",
       " '₹ 12,91,651',\n",
       " '₹ 5,88,751',\n",
       " '₹ 10,53,484',\n",
       " '₹ 17,00,000',\n",
       " '₹ 11,14,262']"
      ]
     },
     "execution_count": 95,
     "metadata": {},
     "output_type": "execute_result"
    }
   ],
   "source": [
    "avg=[]\n",
    "g=driver.find_elements_by_xpath(\"//div[@class='col-2 d-none d-md-flex flex-row justify-content-end']/strong\")\n",
    "for i in g:\n",
    "    avg.append(i.text)\n",
    "avg"
   ]
  },
  {
   "cell_type": "code",
   "execution_count": 96,
   "metadata": {},
   "outputs": [
    {
     "data": {
      "text/html": [
       "<div>\n",
       "<style scoped>\n",
       "    .dataframe tbody tr th:only-of-type {\n",
       "        vertical-align: middle;\n",
       "    }\n",
       "\n",
       "    .dataframe tbody tr th {\n",
       "        vertical-align: top;\n",
       "    }\n",
       "\n",
       "    .dataframe thead th {\n",
       "        text-align: right;\n",
       "    }\n",
       "</style>\n",
       "<table border=\"1\" class=\"dataframe\">\n",
       "  <thead>\n",
       "    <tr style=\"text-align: right;\">\n",
       "      <th></th>\n",
       "      <th>Minimum_salary</th>\n",
       "      <th>Maximum_salary</th>\n",
       "      <th>Company</th>\n",
       "      <th>Average_salary</th>\n",
       "    </tr>\n",
       "  </thead>\n",
       "  <tbody>\n",
       "    <tr>\n",
       "      <th>0</th>\n",
       "      <td>₹450K</td>\n",
       "      <td>₹11,630K</td>\n",
       "      <td>Delhivery</td>\n",
       "      <td>₹ 12,64,182</td>\n",
       "    </tr>\n",
       "    <tr>\n",
       "      <th>1</th>\n",
       "      <td>₹350K</td>\n",
       "      <td>₹1,614K</td>\n",
       "      <td>Ericsson-Worldwide</td>\n",
       "      <td>₹ 7,30,968</td>\n",
       "    </tr>\n",
       "    <tr>\n",
       "      <th>2</th>\n",
       "      <td>₹336K</td>\n",
       "      <td>₹1,010K</td>\n",
       "      <td>Tata Consultancy Services</td>\n",
       "      <td>₹ 5,99,668</td>\n",
       "    </tr>\n",
       "    <tr>\n",
       "      <th>3</th>\n",
       "      <td>₹577K</td>\n",
       "      <td>₹2,215K</td>\n",
       "      <td>Accenture</td>\n",
       "      <td>₹ 9,94,055</td>\n",
       "    </tr>\n",
       "    <tr>\n",
       "      <th>4</th>\n",
       "      <td>₹587K</td>\n",
       "      <td>₹2,732K</td>\n",
       "      <td>IBM</td>\n",
       "      <td>₹ 7,39,040</td>\n",
       "    </tr>\n",
       "    <tr>\n",
       "      <th>5</th>\n",
       "      <td>₹717K</td>\n",
       "      <td>₹1,575K</td>\n",
       "      <td>UnitedHealth Group</td>\n",
       "      <td>₹ 13,37,114</td>\n",
       "    </tr>\n",
       "    <tr>\n",
       "      <th>6</th>\n",
       "      <td>₹502K</td>\n",
       "      <td>₹1,152K</td>\n",
       "      <td>Valiance Solutions</td>\n",
       "      <td>₹ 7,80,374</td>\n",
       "    </tr>\n",
       "    <tr>\n",
       "      <th>7</th>\n",
       "      <td>₹621K</td>\n",
       "      <td>₹1,696K</td>\n",
       "      <td>Innovaccer</td>\n",
       "      <td>₹ 11,98,792</td>\n",
       "    </tr>\n",
       "    <tr>\n",
       "      <th>8</th>\n",
       "      <td>₹793K</td>\n",
       "      <td>₹1,264K</td>\n",
       "      <td>Cognizant Technology Solutions</td>\n",
       "      <td>₹ 10,08,143</td>\n",
       "    </tr>\n",
       "    <tr>\n",
       "      <th>9</th>\n",
       "      <td>₹576K</td>\n",
       "      <td>₹1,500K</td>\n",
       "      <td>EXL Service</td>\n",
       "      <td>₹ 11,34,989</td>\n",
       "    </tr>\n",
       "  </tbody>\n",
       "</table>\n",
       "</div>"
      ],
      "text/plain": [
       "  Minimum_salary Maximum_salary                         Company Average_salary\n",
       "0          ₹450K       ₹11,630K                       Delhivery    ₹ 12,64,182\n",
       "1          ₹350K        ₹1,614K              Ericsson-Worldwide     ₹ 7,30,968\n",
       "2          ₹336K        ₹1,010K       Tata Consultancy Services     ₹ 5,99,668\n",
       "3          ₹577K        ₹2,215K                       Accenture     ₹ 9,94,055\n",
       "4          ₹587K        ₹2,732K                             IBM     ₹ 7,39,040\n",
       "5          ₹717K        ₹1,575K              UnitedHealth Group    ₹ 13,37,114\n",
       "6          ₹502K        ₹1,152K              Valiance Solutions     ₹ 7,80,374\n",
       "7          ₹621K        ₹1,696K                      Innovaccer    ₹ 11,98,792\n",
       "8          ₹793K        ₹1,264K  Cognizant Technology Solutions    ₹ 10,08,143\n",
       "9          ₹576K        ₹1,500K                     EXL Service    ₹ 11,34,989"
      ]
     },
     "execution_count": 96,
     "metadata": {},
     "output_type": "execute_result"
    }
   ],
   "source": [
    "jobs=pd.DataFrame({})\n",
    "jobs['Minimum_salary']=min[0:10]\n",
    "jobs['Maximum_salary']=max[0:10]\n",
    "jobs['Company']=comp[0:10]\n",
    "jobs['Average_salary']=avg[0:10]\n",
    "jobs"
   ]
  },
  {
   "cell_type": "code",
   "execution_count": 97,
   "metadata": {},
   "outputs": [],
   "source": [
    "driver.close()"
   ]
  },
  {
   "cell_type": "markdown",
   "metadata": {},
   "source": [
    "# Q6.  Scrape data of first 100 sunglasses listings on flipkart.com. "
   ]
  },
  {
   "cell_type": "code",
   "execution_count": 83,
   "metadata": {},
   "outputs": [],
   "source": [
    "#Lets first connect to web driver\n",
    "driver=webdriver.Chrome(\"C:\\web driver\\chromedriver.exe\")"
   ]
  },
  {
   "cell_type": "code",
   "execution_count": 58,
   "metadata": {},
   "outputs": [],
   "source": [
    "driver.get(' https://www.flipkart.com/')"
   ]
  },
  {
   "cell_type": "code",
   "execution_count": 59,
   "metadata": {},
   "outputs": [],
   "source": [
    "#finding element for sunglasses in search bar\n",
    "\n",
    "driver.find_element_by_xpath(\"//input[@class='_3704LK']\").send_keys('sunglasses')\n"
   ]
  },
  {
   "cell_type": "code",
   "execution_count": 60,
   "metadata": {},
   "outputs": [],
   "source": [
    "driver.find_element_by_xpath(\"//button[@class='L0Z3Pu']\").click()"
   ]
  },
  {
   "cell_type": "code",
   "execution_count": 61,
   "metadata": {},
   "outputs": [],
   "source": [
    "#specifing the url of the webpage to be scraped\n",
    "url3='https://www.flipkart.com/search?q=sunglasses&otracker=search&otracker1=search&marketplace=FLIPKART&as-show=on&as=off'"
   ]
  },
  {
   "cell_type": "code",
   "execution_count": 62,
   "metadata": {},
   "outputs": [
    {
     "data": {
      "text/plain": [
       "['Royal Son',\n",
       " 'Spexra',\n",
       " 'Fastrack',\n",
       " 'Fastrack',\n",
       " 'Fastrack',\n",
       " 'Fastrack',\n",
       " 'Fastrack',\n",
       " 'Fastrack',\n",
       " 'Fastrack',\n",
       " 'Fastrack',\n",
       " 'Fastrack',\n",
       " 'Fastrack',\n",
       " 'PIRASO',\n",
       " 'Aislin',\n",
       " 'PIRASO',\n",
       " 'ROZZETTA CRAFT',\n",
       " 'ROZZETTA CRAFT',\n",
       " 'Fastrack',\n",
       " 'Fastrack',\n",
       " 'NuVew',\n",
       " 'Fastrack',\n",
       " 'Fastrack',\n",
       " 'PIRASO',\n",
       " 'Aislin',\n",
       " 'Gansta',\n",
       " 'Fastrack',\n",
       " 'Fastrack',\n",
       " 'PIRASO',\n",
       " 'NuVew',\n",
       " 'Aislin',\n",
       " 'Deixels',\n",
       " 'Royal Son',\n",
       " 'Silver Kartz',\n",
       " 'NuVew',\n",
       " 'Silver Kartz',\n",
       " 'ROZZETTA CRAFT',\n",
       " 'Fastrack',\n",
       " 'Fastrack',\n",
       " 'Fastrack',\n",
       " 'Aislin']"
      ]
     },
     "execution_count": 62,
     "metadata": {},
     "output_type": "execute_result"
    }
   ],
   "source": [
    "br=[]\n",
    "a=driver.find_elements_by_xpath(\"//div[@class='_2WkVRV']\")\n",
    "for i in a:\n",
    "    br.append(i.text)\n",
    "br"
   ]
  },
  {
   "cell_type": "code",
   "execution_count": 63,
   "metadata": {},
   "outputs": [
    {
     "data": {
      "text/plain": [
       "['UV Protection Spectacle Sunglasses (Free Size)',\n",
       " 'Gradient, UV Protection Wayfarer Sunglasses (Free Size)',\n",
       " 'Gradient, UV Protection Wayfarer Sunglasses (Free Size)',\n",
       " 'UV Protection Wayfarer Sunglasses (Free Size)',\n",
       " 'Mirrored, UV Protection Wayfarer Sunglasses (Free Size)',\n",
       " 'UV Protection Wayfarer Sunglasses (56)',\n",
       " 'UV Protection Aviator Sunglasses (Free Size)',\n",
       " 'UV Protection Wrap-around Sunglasses (Free Size)',\n",
       " 'UV Protection Aviator Sunglasses (58)',\n",
       " 'Gradient, UV Protection Wayfarer Sunglasses (Free Size)',\n",
       " 'UV Protection Wayfarer Sunglasses (Free Size)',\n",
       " 'UV Protection Aviator Sunglasses (Free Size)',\n",
       " 'Polarized, UV Protection Wayfarer Sunglasses (56)',\n",
       " 'UV Protection Aviator Sunglasses (54)',\n",
       " 'UV Protection Retro Square Sunglasses (Free Size)',\n",
       " 'UV Protection, Gradient Rectangular Sunglasses (Free Si...',\n",
       " 'UV Protection Aviator Sunglasses (58)',\n",
       " 'UV Protection Shield Sunglasses (Free Size)',\n",
       " 'UV Protection, Night Vision, Riding Glasses, Polarized ...',\n",
       " 'Gradient, UV Protection Wayfarer Sunglasses (Free Size)',\n",
       " 'UV Protection Wayfarer Sunglasses (56)',\n",
       " 'UV Protection Aviator Sunglasses (54)',\n",
       " 'UV Protection, Gradient Butterfly, Wayfarer Sunglasses ...',\n",
       " 'UV Protection Aviator Sunglasses (57)',\n",
       " 'UV Protection Aviator Sunglasses (Free Size)',\n",
       " 'UV Protection, Polarized Wayfarer Sunglasses (56)',\n",
       " 'UV Protection Aviator Sunglasses (58)',\n",
       " 'UV Protection Aviator Sunglasses (58)',\n",
       " 'Polarized, UV Protection, Gradient Wayfarer, Rectangula...',\n",
       " 'UV Protection Wayfarer Sunglasses (Free Size)',\n",
       " 'UV Protection Wayfarer Sunglasses (55)',\n",
       " 'UV Protection Wayfarer Sunglasses (Free Size)',\n",
       " 'UV Protection, Mirrored, Night Vision Aviator, Wayfarer...',\n",
       " 'UV Protection Oval Sunglasses (56)',\n",
       " 'UV Protection Retro Square Sunglasses (Free Size)',\n",
       " 'UV Protection Wayfarer Sunglasses (Free Size)',\n",
       " 'UV Protection Rectangular Sunglasses (59)',\n",
       " 'UV Protection Wrap-around Sunglasses (Free Size)',\n",
       " 'Polarized, UV Protection Wayfarer, Rectangular Sunglass...']"
      ]
     },
     "execution_count": 63,
     "metadata": {},
     "output_type": "execute_result"
    }
   ],
   "source": [
    "prod=[]\n",
    "d=driver.find_elements_by_xpath(\"//a[@class='IRpwTa']\")\n",
    "for i in d:\n",
    "    prod.append(i.text)\n",
    "prod"
   ]
  },
  {
   "cell_type": "code",
   "execution_count": 64,
   "metadata": {},
   "outputs": [
    {
     "data": {
      "text/plain": [
       "['₹664',\n",
       " '₹219',\n",
       " '₹499',\n",
       " '₹499',\n",
       " '₹599',\n",
       " '₹549',\n",
       " '₹599',\n",
       " '₹599',\n",
       " '₹549',\n",
       " '₹896',\n",
       " '₹599',\n",
       " '₹399',\n",
       " '₹314',\n",
       " '₹946',\n",
       " '₹225',\n",
       " '₹499',\n",
       " '₹404',\n",
       " '₹909',\n",
       " '₹649',\n",
       " '₹316',\n",
       " '₹596',\n",
       " '₹499',\n",
       " '₹225',\n",
       " '₹450',\n",
       " '₹284',\n",
       " '₹549',\n",
       " '₹599',\n",
       " '₹349',\n",
       " '₹195',\n",
       " '₹1,078',\n",
       " '₹189',\n",
       " '₹242',\n",
       " '₹233',\n",
       " '₹377',\n",
       " '₹251',\n",
       " '₹499',\n",
       " '₹559',\n",
       " '₹899',\n",
       " '₹699',\n",
       " '₹540']"
      ]
     },
     "execution_count": 64,
     "metadata": {},
     "output_type": "execute_result"
    }
   ],
   "source": [
    "pri=[]\n",
    "e=driver.find_elements_by_xpath(\"//div[@class='_30jeq3']\")\n",
    "for i in e:\n",
    "    pri.append(i.text)\n",
    "pri"
   ]
  },
  {
   "cell_type": "code",
   "execution_count": 65,
   "metadata": {},
   "outputs": [
    {
     "data": {
      "text/plain": [
       "['66% off',\n",
       " '83% off',\n",
       " '37% off',\n",
       " '37% off',\n",
       " '33% off',\n",
       " '45% off',\n",
       " '33% off',\n",
       " '33% off',\n",
       " '38% off',\n",
       " '31% off',\n",
       " '40% off',\n",
       " '50% off',\n",
       " '80% off',\n",
       " '77% off',\n",
       " '85% off',\n",
       " '77% off',\n",
       " '79% off',\n",
       " '30% off',\n",
       " '27% off',\n",
       " '80% off',\n",
       " '25% off',\n",
       " '44% off',\n",
       " '85% off',\n",
       " '70% off',\n",
       " '85% off',\n",
       " '38% off',\n",
       " '33% off',\n",
       " '86% off',\n",
       " '75% off',\n",
       " '74% off',\n",
       " '89% off',\n",
       " '81% off',\n",
       " '84% off',\n",
       " '69% off',\n",
       " '79% off',\n",
       " '77% off',\n",
       " '30% off',\n",
       " '30% off',\n",
       " '36% off',\n",
       " '77% off']"
      ]
     },
     "execution_count": 65,
     "metadata": {},
     "output_type": "execute_result"
    }
   ],
   "source": [
    "dis=[]\n",
    "j=driver.find_elements_by_xpath(\"//div[@class='_3Ay6Sb']/span\")\n",
    "for i in j:\n",
    "    dis.append(i.text)\n",
    "dis"
   ]
  },
  {
   "cell_type": "code",
   "execution_count": 66,
   "metadata": {},
   "outputs": [],
   "source": [
    "driver.find_element_by_xpath(\"//a[@class='_1LKTO3']\").click()"
   ]
  },
  {
   "cell_type": "code",
   "execution_count": 50,
   "metadata": {},
   "outputs": [],
   "source": [
    "#specifing the url of the webpage to be scraped\n",
    "url4='https://www.flipkart.com/search?q=sunglasses&otracker=search&otracker1=search&marketplace=FLIPKART&as-show=on&as=off&page=2'"
   ]
  },
  {
   "cell_type": "code",
   "execution_count": 67,
   "metadata": {},
   "outputs": [
    {
     "data": {
      "text/plain": [
       "['Gansta',\n",
       " 'Fastrack',\n",
       " 'PIRASO',\n",
       " 'Aislin',\n",
       " 'Fastrack',\n",
       " 'Fastrack',\n",
       " 'Fastrack',\n",
       " 'ALEYBEE',\n",
       " 'Fravy',\n",
       " 'NuVew',\n",
       " 'PIRASO',\n",
       " 'ROZZETTA CRAFT',\n",
       " 'Fravy',\n",
       " 'Aislin',\n",
       " 'Fastrack',\n",
       " 'Fastrack',\n",
       " 'ROZZETTA CRAFT',\n",
       " 'Gansta',\n",
       " 'Deixels',\n",
       " 'NuVew',\n",
       " 'Gansta',\n",
       " 'PIRASO',\n",
       " 'Fravy',\n",
       " 'NuVew',\n",
       " 'Silver Kartz',\n",
       " 'ROZZETTA CRAFT',\n",
       " 'NuVew',\n",
       " 'Royal Son',\n",
       " 'Aislin',\n",
       " 'NuVew',\n",
       " 'Fastrack',\n",
       " 'hipe',\n",
       " 'Gansta',\n",
       " 'Aislin',\n",
       " 'ROZZETTA CRAFT',\n",
       " 'ROZZETTA CRAFT',\n",
       " 'PIRASO',\n",
       " 'NuVew',\n",
       " 'Aislin',\n",
       " 'Aislin']"
      ]
     },
     "execution_count": 67,
     "metadata": {},
     "output_type": "execute_result"
    }
   ],
   "source": [
    "br=[]\n",
    "a=driver.find_elements_by_xpath(\"//div[@class='_2WkVRV']\")\n",
    "for i in a:\n",
    "    br.append(i.text)\n",
    "br"
   ]
  },
  {
   "cell_type": "code",
   "execution_count": 68,
   "metadata": {},
   "outputs": [
    {
     "data": {
      "text/plain": [
       "['UV Protection Aviator Sunglasses (57)',\n",
       " 'UV Protection Wayfarer Sunglasses (53)',\n",
       " 'UV Protection Wayfarer Sunglasses (32)',\n",
       " 'Polarized, UV Protection, Gradient Aviator Sunglasses (...',\n",
       " 'UV Protection Aviator Sunglasses (61)',\n",
       " 'UV Protection Aviator Sunglasses (Free Size)',\n",
       " 'UV Protection Wayfarer Sunglasses (53)',\n",
       " 'UV Protection Round Sunglasses (54)',\n",
       " 'UV Protection, Gradient, Night Vision Retro Square Sung...',\n",
       " 'UV Protection, Riding Glasses Shield Sunglasses (70)',\n",
       " 'UV Protection Aviator Sunglasses (54)',\n",
       " 'UV Protection, Riding Glasses Rectangular Sunglasses (F...',\n",
       " 'UV Protection Retro Square Sunglasses (Free Size)',\n",
       " 'Polarized, UV Protection Rectangular, Wayfarer Sunglass...',\n",
       " 'UV Protection Round Sunglasses (52)',\n",
       " 'UV Protection Wayfarer Sunglasses (Free Size)',\n",
       " 'Mirrored, UV Protection Round Sunglasses (Free Size)',\n",
       " 'UV Protection, Riding Glasses Wayfarer Sunglasses (53)',\n",
       " 'UV Protection Rectangular Sunglasses (Free Size)',\n",
       " 'UV Protection, Gradient Over-sized, Retro Square Sungla...',\n",
       " 'UV Protection Aviator Sunglasses (57)',\n",
       " 'UV Protection Aviator Sunglasses (50)',\n",
       " 'UV Protection, Others Retro Square Sunglasses (Free Siz...',\n",
       " 'UV Protection, Mirrored, Riding Glasses Round Sunglasse...',\n",
       " 'UV Protection Oval Sunglasses (56)',\n",
       " 'Polarized, UV Protection Aviator Sunglasses (Free Size)',\n",
       " 'UV Protection, Night Vision, Riding Glasses Sports Sung...',\n",
       " 'Mirrored Aviator Sunglasses (55)',\n",
       " 'UV Protection, Gradient Butterfly, Retro Square Sunglas...',\n",
       " 'UV Protection Cat-eye Sunglasses (60)',\n",
       " 'UV Protection Retro Square Sunglasses (54)',\n",
       " 'UV Protection, Mirrored, Night Vision, Gradient, Riding...',\n",
       " 'UV Protection, Gradient Wayfarer Sunglasses (53)',\n",
       " 'UV Protection Cat-eye Sunglasses (58)',\n",
       " 'UV Protection, Gradient Round Sunglasses (Free Size)',\n",
       " 'Gradient, UV Protection Round Sunglasses (Free Size)',\n",
       " 'UV Protection Aviator Sunglasses (Free Size)',\n",
       " 'UV Protection Aviator Sunglasses (Free Size)',\n",
       " 'UV Protection, Gradient Oval Sunglasses (58)',\n",
       " 'UV Protection, Gradient Aviator Sunglasses (58)']"
      ]
     },
     "execution_count": 68,
     "metadata": {},
     "output_type": "execute_result"
    }
   ],
   "source": [
    "prod=[]\n",
    "d=driver.find_elements_by_xpath(\"//a[@class='IRpwTa']\")\n",
    "for i in d:\n",
    "    prod.append(i.text)\n",
    "prod"
   ]
  },
  {
   "cell_type": "code",
   "execution_count": 69,
   "metadata": {},
   "outputs": [
    {
     "data": {
      "text/plain": [
       "['₹288',\n",
       " '₹629',\n",
       " '₹225',\n",
       " '₹1,078',\n",
       " '₹609',\n",
       " '₹588',\n",
       " '₹599',\n",
       " '₹179',\n",
       " '₹299',\n",
       " '₹206',\n",
       " '₹225',\n",
       " '₹426',\n",
       " '₹269',\n",
       " '₹504',\n",
       " '₹909',\n",
       " '₹759',\n",
       " '₹399',\n",
       " '₹249',\n",
       " '₹179',\n",
       " '₹257',\n",
       " '₹274',\n",
       " '₹314',\n",
       " '₹259',\n",
       " '₹386',\n",
       " '₹251',\n",
       " '₹426',\n",
       " '₹177',\n",
       " '₹379',\n",
       " '₹450',\n",
       " '₹403',\n",
       " '₹629',\n",
       " '₹219',\n",
       " '₹284',\n",
       " '₹386',\n",
       " '₹404',\n",
       " '₹403',\n",
       " '₹314',\n",
       " '₹375',\n",
       " '₹425',\n",
       " '₹446']"
      ]
     },
     "execution_count": 69,
     "metadata": {},
     "output_type": "execute_result"
    }
   ],
   "source": [
    "pri=[]\n",
    "e=driver.find_elements_by_xpath(\"//div[@class='_30jeq3']\")\n",
    "for i in e:\n",
    "    pri.append(i.text)\n",
    "pri"
   ]
  },
  {
   "cell_type": "code",
   "execution_count": 70,
   "metadata": {},
   "outputs": [
    {
     "data": {
      "text/plain": [
       "['85% off',\n",
       " '30% off',\n",
       " '85% off',\n",
       " '74% off',\n",
       " '32% off',\n",
       " '34% off',\n",
       " '33% off',\n",
       " '88% off',\n",
       " '85% off',\n",
       " '84% off',\n",
       " '85% off',\n",
       " '80% off',\n",
       " '82% off',\n",
       " '76% off',\n",
       " '30% off',\n",
       " '15% off',\n",
       " '72% off',\n",
       " '87% off',\n",
       " '85% off',\n",
       " '83% off',\n",
       " '86% off',\n",
       " '80% off',\n",
       " '82% off',\n",
       " '77% off',\n",
       " '79% off',\n",
       " '78% off',\n",
       " '81% off',\n",
       " '74% off',\n",
       " '70% off',\n",
       " '72% off',\n",
       " '30% off',\n",
       " '84% off',\n",
       " '85% off',\n",
       " '84% off',\n",
       " '84% off',\n",
       " '79% off',\n",
       " '80% off',\n",
       " '70% off',\n",
       " '72% off',\n",
       " '72% off']"
      ]
     },
     "execution_count": 70,
     "metadata": {},
     "output_type": "execute_result"
    }
   ],
   "source": [
    "dis=[]\n",
    "j=driver.find_elements_by_xpath(\"//div[@class='_3Ay6Sb']/span\")\n",
    "for i in j:\n",
    "    dis.append(i.text)\n",
    "dis"
   ]
  },
  {
   "cell_type": "code",
   "execution_count": 72,
   "metadata": {},
   "outputs": [],
   "source": [
    "driver.find_element_by_xpath(\"//a[@class='_1LKTO3'][2]/span\").click()"
   ]
  },
  {
   "cell_type": "code",
   "execution_count": 73,
   "metadata": {},
   "outputs": [],
   "source": [
    "#specifing the url of the webpage to be scraped\n",
    "url5='https://www.flipkart.com/search?q=sunglasses&otracker=search&otracker1=search&marketplace=FLIPKART&as-show=on&as=off&page=3'"
   ]
  },
  {
   "cell_type": "code",
   "execution_count": 78,
   "metadata": {},
   "outputs": [
    {
     "data": {
      "text/plain": [
       "['Gansta',\n",
       " 'hipe',\n",
       " 'Royal Son',\n",
       " 'Deixels',\n",
       " 'Gansta',\n",
       " 'Silver Kartz',\n",
       " 'IDEE',\n",
       " 'Gansta',\n",
       " 'Gansta',\n",
       " 'Gansta',\n",
       " 'ROZZETTA CRAFT',\n",
       " 'Rozzetta Craft',\n",
       " 'Silver Kartz',\n",
       " 'PIRASO',\n",
       " 'ROZZETTA CRAFT',\n",
       " 'Fastrack',\n",
       " 'Elegant',\n",
       " 'Royal Son',\n",
       " 'NuVew',\n",
       " 'ROZZETTA CRAFT']"
      ]
     },
     "execution_count": 78,
     "metadata": {},
     "output_type": "execute_result"
    }
   ],
   "source": [
    "br=[]\n",
    "a=driver.find_elements_by_xpath(\"//div[@class='_2WkVRV']\")\n",
    "for i in a:\n",
    "    br.append(i.text)\n",
    "br[0:20]"
   ]
  },
  {
   "cell_type": "code",
   "execution_count": 79,
   "metadata": {},
   "outputs": [
    {
     "data": {
      "text/plain": [
       "['UV Protection, Mirrored Wayfarer Sunglasses (53)',\n",
       " 'Mirrored Wayfarer Sunglasses (55)',\n",
       " 'UV Protection, Gradient Wayfarer Sunglasses (55)',\n",
       " 'UV Protection Aviator, Wayfarer Sunglasses (Free Size)',\n",
       " 'UV Protection, Riding Glasses Wayfarer Sunglasses (53)',\n",
       " 'UV Protection Aviator Sunglasses (88)',\n",
       " 'Polarized Aviator Sunglasses (58)',\n",
       " 'UV Protection, Mirrored, Gradient Wayfarer Sunglasses (...',\n",
       " 'UV Protection Aviator Sunglasses (57)',\n",
       " 'UV Protection Wrap-around Sunglasses (63)',\n",
       " 'Polarized, Night Vision, UV Protection Aviator Sunglass...',\n",
       " 'UV Protection, Gradient Rectangular Sunglasses (Free Si...',\n",
       " 'UV Protection Wayfarer Sunglasses (Free Size)',\n",
       " 'UV Protection Aviator Sunglasses (50)',\n",
       " 'UV Protection, Gradient Round Sunglasses (Free Size)',\n",
       " 'UV Protection Rectangular Sunglasses (59)',\n",
       " 'UV Protection Retro Square Sunglasses (Free Size)',\n",
       " 'Polarized Aviator Sunglasses (58)',\n",
       " 'UV Protection, Night Vision, Riding Glasses Sports Sung...',\n",
       " 'UV Protection Retro Square Sunglasses (Free Size)']"
      ]
     },
     "execution_count": 79,
     "metadata": {},
     "output_type": "execute_result"
    }
   ],
   "source": [
    "prod=[]\n",
    "d=driver.find_elements_by_xpath(\"//a[@class='IRpwTa']\")\n",
    "for i in d:\n",
    "    prod.append(i.text)\n",
    "prod[0:20]"
   ]
  },
  {
   "cell_type": "code",
   "execution_count": 80,
   "metadata": {},
   "outputs": [
    {
     "data": {
      "text/plain": [
       "['₹199',\n",
       " '₹219',\n",
       " '₹217',\n",
       " '₹202',\n",
       " '₹249',\n",
       " '₹242',\n",
       " '₹1,176',\n",
       " '₹269',\n",
       " '₹374',\n",
       " '₹269',\n",
       " '₹426',\n",
       " '₹474',\n",
       " '₹206',\n",
       " '₹314',\n",
       " '₹399',\n",
       " '₹909',\n",
       " '₹244',\n",
       " '₹711',\n",
       " '₹253',\n",
       " '₹349']"
      ]
     },
     "execution_count": 80,
     "metadata": {},
     "output_type": "execute_result"
    }
   ],
   "source": [
    "pri=[]\n",
    "e=driver.find_elements_by_xpath(\"//div[@class='_30jeq3']\")\n",
    "for i in e:\n",
    "    pri.append(i.text)\n",
    "pri[0:20]"
   ]
  },
  {
   "cell_type": "code",
   "execution_count": 81,
   "metadata": {},
   "outputs": [
    {
     "data": {
      "text/plain": [
       "['80% off',\n",
       " '78% off',\n",
       " '78% off',\n",
       " '83% off',\n",
       " '87% off',\n",
       " '79% off',\n",
       " '60% off',\n",
       " '86% off',\n",
       " '81% off',\n",
       " '86% off',\n",
       " '78% off',\n",
       " '78% off',\n",
       " '79% off',\n",
       " '80% off',\n",
       " '80% off',\n",
       " '30% off',\n",
       " '83% off',\n",
       " '64% off',\n",
       " '67% off',\n",
       " '80% off']"
      ]
     },
     "execution_count": 81,
     "metadata": {},
     "output_type": "execute_result"
    }
   ],
   "source": [
    "dis=[]\n",
    "j=driver.find_elements_by_xpath(\"//div[@class='_3Ay6Sb']/span\")\n",
    "for i in j:\n",
    "    dis.append(i.text)\n",
    "dis[0:20]"
   ]
  },
  {
   "cell_type": "code",
   "execution_count": 84,
   "metadata": {},
   "outputs": [],
   "source": [
    "driver.close()"
   ]
  },
  {
   "cell_type": "markdown",
   "metadata": {},
   "source": [
    "# Q7: Scrape 100 reviews data from flipkart.com for iphone11 phone. "
   ]
  },
  {
   "cell_type": "code",
   "execution_count": 108,
   "metadata": {},
   "outputs": [],
   "source": [
    "#Lets first connect to web driver\n",
    "driver=webdriver.Chrome(\"C:\\web driver\\chromedriver.exe\")"
   ]
  },
  {
   "cell_type": "code",
   "execution_count": 109,
   "metadata": {},
   "outputs": [],
   "source": [
    "driver.get('https://www.flipkart.com/apple-iphone-11-black-64-gb-includes-earpods-power-adapter/p/itm0f37c2240b217?pid=MOBFKCTSVZAXUHGR&lid=LSTMOBFKCTSVZAXUHGREPBFGI&marketplace')"
   ]
  },
  {
   "cell_type": "code",
   "execution_count": 110,
   "metadata": {},
   "outputs": [],
   "source": [
    "#specifing the url of the webpage to be scraped\n",
    "url='https://www.flipkart.com/apple-iphone-11-black-64-gb-includes-earpods-power-adapter/p/itm0f37c2240b217?pid=MOBFKCTSVZAXUHGR&lid=LSTMOBFKCTSVZAXUHGREPBFGI&marketplace'"
   ]
  },
  {
   "cell_type": "code",
   "execution_count": 111,
   "metadata": {},
   "outputs": [],
   "source": [
    "driver.find_element_by_xpath(\"//div[@class='_3UAT2v _16PBlm']/span\").click()"
   ]
  },
  {
   "cell_type": "code",
   "execution_count": 114,
   "metadata": {},
   "outputs": [],
   "source": [
    "driver.get('https://www.flipkart.com/apple-iphone-11-black-64-gb-includes-earpods-power-adapter/product-reviews/itm0f37c2240b217?pid=MOBFKCTSVZAXUHGR&lid=LSTMOBFKCTSVZAXUHGR3QP11A&marketplace=FLIPKART')"
   ]
  },
  {
   "cell_type": "code",
   "execution_count": 121,
   "metadata": {},
   "outputs": [
    {
     "data": {
      "text/plain": [
       "['https://www.flipkart.com/apple-iphone-11-black-64-gb-includes-earpods-power-adapter/product-reviews/itm0f37c2240b217?pid=MOBFKCTSVZAXUHGR&lid=LSTMOBFKCTSVZAXUHGR3QP11A&marketplace=FLIPKART&page=1',\n",
       " 'https://www.flipkart.com/apple-iphone-11-black-64-gb-includes-earpods-power-adapter/product-reviews/itm0f37c2240b217?pid=MOBFKCTSVZAXUHGR&lid=LSTMOBFKCTSVZAXUHGR3QP11A&marketplace=FLIPKART&page=2',\n",
       " 'https://www.flipkart.com/apple-iphone-11-black-64-gb-includes-earpods-power-adapter/product-reviews/itm0f37c2240b217?pid=MOBFKCTSVZAXUHGR&lid=LSTMOBFKCTSVZAXUHGR3QP11A&marketplace=FLIPKART&page=3',\n",
       " 'https://www.flipkart.com/apple-iphone-11-black-64-gb-includes-earpods-power-adapter/product-reviews/itm0f37c2240b217?pid=MOBFKCTSVZAXUHGR&lid=LSTMOBFKCTSVZAXUHGR3QP11A&marketplace=FLIPKART&page=4',\n",
       " 'https://www.flipkart.com/apple-iphone-11-black-64-gb-includes-earpods-power-adapter/product-reviews/itm0f37c2240b217?pid=MOBFKCTSVZAXUHGR&lid=LSTMOBFKCTSVZAXUHGR3QP11A&marketplace=FLIPKART&page=5',\n",
       " 'https://www.flipkart.com/apple-iphone-11-black-64-gb-includes-earpods-power-adapter/product-reviews/itm0f37c2240b217?pid=MOBFKCTSVZAXUHGR&lid=LSTMOBFKCTSVZAXUHGR3QP11A&marketplace=FLIPKART&page=6',\n",
       " 'https://www.flipkart.com/apple-iphone-11-black-64-gb-includes-earpods-power-adapter/product-reviews/itm0f37c2240b217?pid=MOBFKCTSVZAXUHGR&lid=LSTMOBFKCTSVZAXUHGR3QP11A&marketplace=FLIPKART&page=7',\n",
       " 'https://www.flipkart.com/apple-iphone-11-black-64-gb-includes-earpods-power-adapter/product-reviews/itm0f37c2240b217?pid=MOBFKCTSVZAXUHGR&lid=LSTMOBFKCTSVZAXUHGR3QP11A&marketplace=FLIPKART&page=8',\n",
       " 'https://www.flipkart.com/apple-iphone-11-black-64-gb-includes-earpods-power-adapter/product-reviews/itm0f37c2240b217?pid=MOBFKCTSVZAXUHGR&lid=LSTMOBFKCTSVZAXUHGR3QP11A&marketplace=FLIPKART&page=9',\n",
       " 'https://www.flipkart.com/apple-iphone-11-black-64-gb-includes-earpods-power-adapter/product-reviews/itm0f37c2240b217?pid=MOBFKCTSVZAXUHGR&lid=LSTMOBFKCTSVZAXUHGR3QP11A&marketplace=FLIPKART&page=10']"
      ]
     },
     "execution_count": 121,
     "metadata": {},
     "output_type": "execute_result"
    }
   ],
   "source": [
    "urls=driver.find_elements_by_xpath(\"//nav[@class='yFHi8N']/a\")\n",
    "link=[i.get_attribute('href') for i in urls[0:10]]\n",
    "link"
   ]
  },
  {
   "cell_type": "code",
   "execution_count": 162,
   "metadata": {},
   "outputs": [],
   "source": [
    "rate=[]\n",
    "descrip=[]\n",
    "revi=[]\n",
    "for i in link:\n",
    "    driver.get(i)\n",
    "    r=driver.find_elements_by_xpath(\"//div[@class='_3LWZlK _1BLPMq' or @class='_3LWZlK _1rdVr6 _1BLPMq']\")\n",
    "    rate.append([i.text for i in r])\n",
    "    \n",
    "    g=driver.find_elements_by_xpath(\"//p[@class='_2-N8zT']\")\n",
    "    descrip.append([i.text for i in g])\n",
    "    \n",
    "    f=driver.find_elements_by_xpath(\"//div[@class='t-ZTKy']\")\n",
    "    revi.append([i.text for i in f])\n"
   ]
  },
  {
   "cell_type": "code",
   "execution_count": 163,
   "metadata": {},
   "outputs": [
    {
     "data": {
      "text/plain": [
       "[['5', '5', '5', '5', '5', '5', '5', '5', '5', '4'],\n",
       " ['5', '5', '5', '5', '5', '5', '5', '5', '5', '5'],\n",
       " ['5', '5', '5', '5', '4', '5', '1', '5', '5', '5'],\n",
       " ['4', '5', '5', '5', '5', '5', '5', '5', '5', '5'],\n",
       " ['5', '5', '5', '5', '5', '5', '3', '5', '5', '5'],\n",
       " ['5', '4', '5', '5', '5', '5', '5', '5', '5', '5'],\n",
       " ['5', '4', '4', '5', '5', '5', '5', '5', '4', '5'],\n",
       " ['4', '5', '5', '5', '3', '5', '5', '5', '5', '5'],\n",
       " ['5', '5', '5', '5', '5', '5', '5', '4', '5', '5'],\n",
       " ['5', '5', '5', '5', '5', '4', '5', '5', '5', '5']]"
      ]
     },
     "execution_count": 163,
     "metadata": {},
     "output_type": "execute_result"
    }
   ],
   "source": [
    "rate"
   ]
  },
  {
   "cell_type": "code",
   "execution_count": 164,
   "metadata": {},
   "outputs": [
    {
     "data": {
      "text/plain": [
       "['Amazing phone with great cameras and better battery which gives you the best performance. I just love the camera .',\n",
       " 'Amazing Powerful and Durable Gadget.\\n\\nI’m am very happy with the camera picture quality, Amazing face id unlocked in dark room, Strong battery with perfect screen size as you can carry easily in pocket. This is my third iPhone.\\n\\nI shifted from android Samsung Note series to iPhone because of the strong build quality and peace of mind for next 3-4 years.\\n\\nDon’t think to much just go for it and I suggest you to go for minimum 128gb variant or more 256gb.\\n\\nI’ve attached my puppy pics and no fi...\\nREAD MORE',\n",
       " 'iphone 11 is a very good phone to buy only if you can compromise for the display. The display on this is device is pretty good but you can get other options with better displays in this price segment.\\nIf you can survive with an HD+ LCD panel with thicker bezels and a notch up top then this is a very good phone for you.\\nCameras are awesome, battery backup excellent, great performance and a decent premium look. Good job Apple !',\n",
       " 'It’s a must buy who is looking for an upgrade from previous generation of iPhones. If you are using XR then still you can hold on for sometime and upgrade to 2020 model else this phone is a must buy . Camera quality is amazing and wide angle is something to count upon. Performance wise it’s amazing and feels premium while holding in hand. So a big YES for this device. Go for 128 GB variant as the 4K videos will occupy lots of space and the storage can get over very quickly. Try to buy it with...\\nREAD MORE',\n",
       " 'The Best Phone for the Money\\n\\nThe iPhone 11 offers superb cameras, a more durable design and excellent battery life for an affordable price.\\n\\nCompelling ultra-wide camera\\nNew Night mode is excellent\\nLong battery life',\n",
       " 'Value for money❤️❤️\\nIts awesome mobile phone in the world ...\\nDisplay was very good and bright ..\\nTrust me freinds you r never regret after Buying..\\nJust go for it....\\nI love this phone and i switch to iphone x to 11',\n",
       " 'Best budget Iphone till date ❤️ go for it guys without second thought. Let me explain you guys about Camera, Display, battery, and performance.\\n\\nCamera: at this price range there is no comparison of camera, you’ll love the picture quality as well as video quality. I am a Vlogger I wanted an iPhone with 4k video by front camera and I got this phone and I am more than happy 😃\\n\\nBattery: I use this phone roughly as I am active social media person and I have a youtube channel. so the battery ba...\\nREAD MORE',\n",
       " 'It’s been almost a month since I have been using this phone. I upgraded from an iPhone 8. The main issue with my 8 was battery and this phone is just awesome when it comes to battery. It lasts a day and a half for me with my regular use , internet connected always with 4g\\nCan’t move forward without saying this. Battery of this phone is a life saver when I am traveling or at work when I don’t get the option to charge\\nCamera is superb. Front cam selfies and back cam photos are just awesome.\\n...\\nREAD MORE',\n",
       " '*Review after 10 months of usage*\\nDoesn\\'t seem bulky with decent touch and camera. The \"standard maintained\" quality of IPhone. Go for it, if your budget is not more enough for pro models. It\\'s a value for money among the 11 series Stereo speakers are so good, you will love the stereo sound. Battery backup is not decent but still better than Iphone 7 and 8.Processor is fast, the phone doesn\\'t lag at all even with heavy games, waterproof, faster face id and with no fingerprint scanners. The ca...\\nREAD MORE',\n",
       " 'Awesome Phone. Slightly high price but worth. Better than iPhone XR.\\nCamera is superb and wide angle camera is very clear.\\n12MP selfie camera is also very good.\\nA13 Chip gives a very good and smooth performance.',\n",
       " \"Iphone is just awesome.. battery backup is very very nice.. continuously for 10 hours we can use it.camera is just awesome.. display is just fab.i love it alot..i had to wait 15 days for it as i pre ordered it..overalll it's worth the price..these all images are clicked by my iPhone..and i love it.\",\n",
       " 'Really worth of money. i just love it. It is the best phone ever.',\n",
       " 'Upgraded from iphone 6 to 11 best phone for iphone users battery is much better than other iphones camera is awesome love to use it.camera is so clear in night.',\n",
       " 'It’s an amazing product from apple and the camera is simply superb. Phone is faster.Night shot is simply superb and detailing and colour differentiation from camera is an added advantage\\n\\nThis review I have written from iPhone 11 only and I am glad to say outside.\\n\\nCons wise if we see HD+ display only, no battery percentage indicator as in older iPhone 8.\\nNo assistive touch control button in it\\nNo oleophobic coating on back panel glass and finger prints are visible but since I bought mint gr...\\nREAD MORE',\n",
       " 'This will help you more. See if you are planning to buy iPhone 11. I will say. Yes. But there are some plans I just want to disclose before you buy. 1) If you are an existing iPhone X/XS/XS Max/ XR user, better you guys do not think it to buy. You guys have more or less better gadget. 2) If you are an android user and planning to buy premium phone. I will suggest them to please buy iPhone instead of buying an Android. I bet you will never go back to android after using IOS. Now I want to shar...\\nREAD MORE',\n",
       " 'I have migrated from OP 7pro... and trust me, iPhone 11 is totally worth it.. following are the reasons:-\\n1)there is ABSOLUTELY NO ISSUE WITH THE DISPLAY... its crisp, sharp and I found it to be much much better than OP7 pro. Netflix, Prime video all run crisply... you won’t miss a thing. True Tone works flawlessly...the display brightness is perfect. OP have not calibrated their screens properly.\\n2) iPhone 11 series have really good cameras... others have spoken in depth about them.\\n3) bat...\\nREAD MORE',\n",
       " 'Previously I was using one plus 3t it was a great phone\\nAnd then I decided to upgrade I am stuck between Samsung s10 plus or iPhone 11\\nI have seen the specs and everything were good except the display it’s somewhere between 720-1080 and it’s not even an amoled it’s an LCD display\\nBut I decided to go with iPhone because I have never used an IOS device I have Been an android user from the past 9 years I ordered IPhone 11 (128gb) product red\\nMy experience after using 3 weeks\\n1. The delivery ...\\nREAD MORE',\n",
       " 'This is my first ever I phone. Before this I was using my google nexus 5. But moving from android to iOS is a great experience. It’s worth at this price. I will highly recommend it if you want to move to iOS. The best part of this phone is it’s camera and it’s battery life. This two things have won my heart. I loved it. Happy to have it in my hand. Still exploring its features. And can’t forget to mention Flipkart service. Very prompt service and fast delivery.',\n",
       " 'Well you all know the specifications . One of a kind. Best iPhone till date. Many enhancements to the camera app with many options. Love the glass body with matte finish in the lens area on the back. Lovely colours to choose from. Best battery in an iPhone till date, enough to last more than a day in normal usage. I tested my iPhone 11 battery and lasted for than 24 hours after full charge still with 30% battery charge left. Watched movies for some time. Normal usage on calls, browsing, musi...\\nREAD MORE',\n",
       " \"It's my first time to use iOS phone and I am loving my upgradation 😍😍 I love the color, I love the assebility of the phone....I need to learn more about its functionality, but as far as I have seen, it's quite easy and it has a lot of functions to work on, specially if you are a content writer or a blogger you get a lot of content creation platforms and they are really amazing.\\n\\nThis phone not only for good quality photography but a lot of other task too.😍💯\",\n",
       " 'Best Quality Product OF iPhone Series , Sound Quality & Camera quality is very awesome, Battery Life is very Sufficient for 24 hr Backup With Full Internet Access , I love this this Product too much , It is very fast & making me Very fast in all my daily Routine\\nHighlights;\\n1.Camera: 5 STAR\\n2.Video Recording: 5 star\\n3.Night mODE sHOOTING & Camera:4 star\\n4. Audio Quality: Awesome\\n5. Battery : 5 Star\\n6. Touch:5 Star\\n7. Processor: Very Fast\\nThe M...\\nREAD MORE',\n",
       " 'The built quality is not very premium.\\nThe battery back is great .\\nThe LCD panel is not so sharp but the brightness level is very High .\\nCamera is super duper awesome.\\nThe red colour which people think is bright is actually very soothing and excellent colour to choose from .\\nThe A13 Bionic chip is really a flagship processor and can beat any phone which even has 12 gb ram .\\nCamera module is very great and looks very stylish.',\n",
       " 'First thanks to Flipkart for this amazing deal and phone is outstanding. I upgraded from iPhone 7 and this is like very big upgrade. But the packaging was very basic I expected a good packaging as they only wrapped one layer of bubble wrap which I don’t think is enough to protect this expensive phone. And I recommend this phone and seller as well.\\n\\nAnd I’m posting this review after using it for 4 days.',\n",
       " 'Excellent camera, good performance, no lag. The lcd display is also good.. but difference come when we watch movie in prime and Netflix, the colours are not vibrant.. as we see in amoled display.. and the charger in box is of 5 watts.. takes more than 3 hours to charge from 0 to 100.. so guys be prepare to buy 18 watts charger . Finally I am an android user, it was my first Iapple phone, I promise u guys the iOS is so smooth.. overall the phone is damn good.... close eyes to buy it.. thanks t...\\nREAD MORE',\n",
       " 'it is very good at performance. Camera is best like before and very smooth response even in water. Don’t buy 12 mini buy iPhone 11 , it is far better than 12 mini believe me ! Have a nice day \\uf8ff ☺️',\n",
       " 'I just directly switch from iphone 6s to iphone 11 .The best premium smartphone I recommend to everyone. Excellent quality and colors the iphone have in 11 series.\\nCamera quality is just awesome and the major feel when we hold in our hands. The sound quality and volume is also higher then the previous models.\\nI will recommend to buy iphone 11 instead of pro models , there is nothing much difference as this model contains everything which fulfill our needs.\\n\\nOnly one thing that I dislike abo...\\nREAD MORE',\n",
       " 'Reviewing again after 5 months. At the beginning the battery and performance was good but it degraded soon. Also I was facing heating issues. The mobile will heat up like a stove sometimes. You cannot even play Pubg even in low settings properly, performance is not a problem but heating is. Also if you play that game for 10 mins the brightness will be automatically down due to over heating even when the auto brightness is set to off. This will not be solved even if u manually increase the bri...\\nREAD MORE',\n",
       " 'Well while switching from android to iOS the first thing you need to be careful about is that you will loose all your whatsapp chat backups as both are different operating systems. Camera clarity is awesome and though being an lcd screen clarity and resolution is good. Battery backup is also good unlike previous gen iPhone. So far the experience is good will Padre after a few months of usage.\\n\\nP.S the black is more of a dark grey shade and not jet black',\n",
       " 'In love with this iphone great performance,camera ,battery everything. Go for it have a uncompareble battery backup, no doubts in iPhone camera here You can see the picture which is shot on my iPhone In love with this iphone great performance,camera ,battery everything. Go for it have a uncompareble battery backup, no doubts in iPhone camera here You can see the picture which is shot on my iPhone In love with this iphone great performance,camera ,battery everything. Go for it have a uncompare...\\nREAD MORE',\n",
       " 'Very excited to have this phone. This phone has the real power unlike the android phones having SD 855 . The battery life is very good and the camera quality is excellent as comapred to redmi and other phones except google pixel. I M enjoying every single bit of it. Would recommed only if you have the budget.',\n",
       " 'So far it’s been an AMAZING experience coming back to iOS after nearly a decade but it’s not as versatile as android though phone is sturdy dropped it accidentally a couple of times and nothing happened fortunately camera is awesome',\n",
       " 'After 1 month use I found camera quality best compared to my previous Samsung note 10+.Display not good as note 10 also charging too slow.Apple should add fast charger like 11 plus and pro.Best phone for daily use',\n",
       " 'What a camera .....just awesome ..you can feel this iPhone just awesome . Good for gaming also ...try pubg in hd it’s just wow',\n",
       " 'Amazing camera and feel super machine I am not describe my feeling but this is amazing Phone I am so lucky I have this',\n",
       " 'Really good actually this is my first apple product am using its really awesome performance wise excellent. Am really happy with this iphone11',\n",
       " 'awesome phone to have. it has got many smart features apart from mind blowing looks, camera, display, battery and sound. have fallen in love with this phone. must buy phone if you have got enough money. thanks to flipkart and apple of course..',\n",
       " \"It's very high performances devise i am like the service of flipkart delevary very fast and packing very nice perfect phone\",\n",
       " 'This is my first iOS phone. I am very happy with this product. Very much satisfied with this. I love this phone.',\n",
       " 'i11 is worthy to buy, too much happy with the product. Thank u flipkart I received the item on time..loved it..',\n",
       " 'Superb Product !!!\\nA big and worthy upgrade from mi 3S to iphone 11 .\\nTotally loved it !',\n",
       " 'awesome Phone Smooth Touch Too good Sexyy looks one word Awesome',\n",
       " 'Awesome purchase. Amazing phone with good battery backup. It’s a top notch device. White colour looks amazing. Phone has a few extra feature than iPhone XR. Overall, this is value for money',\n",
       " 'Really satisfied with the Product I received... It’s totally genuine and the packaging was also really good so if ur planning to buy just go for it.',\n",
       " 'Best in class. Battery backup is good especially when you play games like Pubg COD. But it is sort of heavy when you hold in hands. Portrait mode is best to click pictures. Stage light effect is awesome. Try to click photos outside in nature because photos inside home or room will not give you the quality in any phone even in DSLR.',\n",
       " 'Excellent camera and display touching very nice and smooth very improvement against iPhone XR and new processor is very fast',\n",
       " \"Just an awesome phone...upgraded from 6s to 11 and trust me guys it's super cool with amazing features..loved it ♥️ and a big thank you to Flipkart for delivering it in just 2 days ?\",\n",
       " 'Everything u ll like it when u use this iPhone. Simple changes only not many to lower models but it’s nice to use. Little heavy compared to previous models like 7,8',\n",
       " 'I purchased the iPhone 11 a month back. I must say Apple has impressed me yet again . I have been an Apple user for past 5 years . The phone is power packed with amazing features . What impressed me the most was the battery backup the phone offers . Battery can easily run upto 1.5 days in single charge with moderate to\\nHeavy usage . If you’re looking for a value for money device , I don’t see any other phone in the price range which can match the iPhone 11 .\\nOne thing I didn’t like was that ...\\nREAD MORE',\n",
       " 'Value for money product. This iphone 11 is really amazing. Again nice release by apple. Great camera, battery backup is excellent. I just love this phone',\n",
       " 'Battery backup is extraordinary, camera is decent & performance offered by A13 bionic is awsome. The display is good in practical usage like the visibility of display is very good in direct sun light compare to pro models. Iam extremely satisfied for the money I spent.',\n",
       " 'This is very second time I am using iphone I am not a huge fan of I phone but as my past experience iphone is always iphone whn you use it in your hand and it feel firmly buildup and camera quality is awesome processing is fast and realy smooth while using it.Night mode is awesome and photography is brilliant. Go for it and it will be great if you buy it worth it',\n",
       " 'I was torn between the oneplus 8 pro and the iphone 11. I had to shell out extra money for this, but I say if you can afford it, this truely is the best package.\\nMind blowing camera, battery and overall performance. Face Id works like magic even in complete darkness without firing up the screen brightness. The phones with in display fingerprint scanners do this at night time and it really burns your eyes.\\nI wanted the oneplus for its display but tbh the OLEDs on oneplus is really bad. Flick...\\nREAD MORE',\n",
       " \"It's a great phone. From camera to display everything is best for the price.\\nBest camera , best performance. I think everyone should buy it . This phone has best battery life so far in iphone series which I had used earlier. Happy to have it. Thanks Flipkart\",\n",
       " 'I use a Note10+ and have been using both iOS and Android devices.\\n\\nCamera has really good features and portraits are super good, better than Samsung flagship. Overall camera setup can still be enhanced and hopeful for better upgrades on software in next release\\n\\nOperating system is quite a breeze and user experience of daily usage is very high as compared to Android. I moved to iOS very swiftly in 2 days for all my office work from Note10+\\n\\nBattery holds up quite well with 4 hrs of call and ...\\nREAD MORE',\n",
       " 'Good buy.. working perfectly !\\n\\nThat was upgrade from 6S to 11. I see no deference in both the phones except:\\n1. Battery performance\\n2. Camera quality\\n3. Face detection unlock\\n\\nGo for it..!',\n",
       " 'The phone is completely good\\nAs far as camera Apple is king of it\\nAnd its a beast in performance\\nAnd the battery is pretty good too',\n",
       " \"I can say I'm damn impressed with iPhone 11. As they says iPhone 11 have the toughest glass ever in the smartphone which you'll find on the front and back and it's totally smooth. The fit and finish is full apple quality - there's no sense that any cheaping out has happened in the construction. Without saying it's camera features this review won't complete. The iPhone 11 has a dual camera system, consisting of a wide angle len's that's pretty much same as found on the iPhone XR last year, but...\\nREAD MORE\",\n",
       " 'Superfast delivery by Flipkart. Thanks.\\n\\n1. iPhone 11 is a pretty solid phone for the money you are paying.\\n2. All the bad reviews about the display is confusing. It’s not that bad.\\n3. I switched from a Oneplus 7t. I have no complaints about the display quality of iPhone. Yes, it’s not OLED, so, we are missing on the deep blacks. But that’s it. It is a very colour accurate display. Gets adequately bright and I could not find any pixelation.\\n4. Performance is one of the best, if not best, in ...\\nREAD MORE',\n",
       " 'Great iphone.\\nI am writing this review after 2 months of usage.\\nCamera is excellent, especially the nightmode\\nDisplay perfect\\nBattery backup awesome\\nSound quality very good\\nOverall Apple gives you a perfect iphone in this range.\\nReally in love with iPhone 11',\n",
       " 'Well , as we all know if its not an Iphone , its not an iphone . The iphones are always beast . The camera game has been level up . The A13 Bionic is just fabulous . The update this year are certainly the camera which is damn good with d addition of wide angle lens as well as ultra wide . If anyones purchasing an iphone for the first time , do opt for the black color . Its just feels more than premium . Battery life is damn good with lasting fully a day . Overall a nice package . Well managed...\\nREAD MORE',\n",
       " 'The ultimate performance\\nCamera is superb\\nThe battery backup also very good i never saw iphone gives this much of battery backup\\nIf any one wana buy iphone 11 definitely i will recommend this mobile\\nIt has the better battery and powerfull processer peak performance glorious camera and the display also 100% high quality lcd display if u had money for for 12 if u dont wana invest much money on that then go for iphone 11 it has maximum same specs only main difference between the 12 and 11 is...\\nREAD MORE',\n",
       " 'Awesome camera, smooth and fast UI, display is great (though not LED) but the black area at the top could have been reduced. Battery remains a day even if used heavily. Charger in the box is ok, but 12 or 18W could have been nothing like anything. Overall an excellent product and comfortable to use. I have got it almost a month back and so far so good.',\n",
       " 'As usual a great product from Apple. but the look wise there were some scope to make it more attractive. from the back it looks nice. picture quality is awesome . face id is blazing fast. The lightning fast bionic processor makes the phone butter smooth.Battery back up is unbeatable and best of the released iPhone.full display is still missing. however, a iPhone is a iPhone. The iPhone lovers know the value of an iPhone 🙂',\n",
       " 'Its Very awesome product working and good camera quality and all about best product and also flipkart is very great deal and offer nice price',\n",
       " \"i was confused between 11 and 11 pro. i was going towards 11 pro, but the screen size was not enough for me.\\nAnd i saw 11 in the showroom. i didn't find much difference in screen quality.And cameras seems to be ok with me. And i saw offer's in flipkart and made the purchase.\\nthe device is fabulous. The hardware and software quality is excellent. The new iOS is something you need to experience yourself. The drawback i found was absence of fast charger, but the pricing can compensate that. Am...\\nREAD MORE\",\n",
       " 'Worth the money’ starting first from its performance it beats out all phones , second the smoothness of camera is awesome, contrast ratio is much than expected. Price will not matter if u r a quality person, if not other phones are available with better discount',\n",
       " 'Seller - SuperComNet ( my trust in you has grown deeper. Thanks for the genuine product )\\nThe package came packed perfectly. The box was sealed which gave me a big relief.\\n\\nApple needs no introduction since its the dominant market player. I just love the way how IPhone 11 stands out so boldly. The moment I took it out from the box, I could feel the premium intensity. The body is remarkable and crafted for giving you a elite vibe.\\n\\nCamera is to die for. There is no other phone that can beat...\\nREAD MORE',\n",
       " 'Can’t beat the software and hardware integration of apple.\\nPerforms like a beast. Great quality camera\\n6-7 hours screen on time which is good. Nothing much to complaint about the screen. Good connectivity speeds.\\nGreat buy and Flipkart’s delivery top notch as usual',\n",
       " 'Looking so good 👍 😍 super 👌 stylish 😎 phone\\nClean box 📦 good 👍 delivery 👌 fast delivery\\nOriginal box Original iphone 📱 👌 😍😍😍',\n",
       " 'I’d like to start by saying that the overall experience with the iPhone 11 is super smooth and amazing in every aspect. It’s an absolute powerhouse.\\n\\nPerformance - The Apple A13 Bionic is super optimised. You will not face any performance issue at all. You will never have to worry about the lag on this one.\\n\\nBattery - Battery life is one of the best you can get in a iPhone at this time. It’s better than the XR. Average use can get you more than a day and heavy use will get you through the da...\\nREAD MORE',\n",
       " 'impressive super phone and best in class camera ,sound and face unlock is super fast just see and phone is unlock and fast in daily apps use',\n",
       " 'I will just say its an awesome phone. Starting from speed , battery life, resolutions, camera quality, features it is superior in all department versus its predecessor. Also would like to state that at this price point it is an extraordinary value product. Recommend anyone who is looking for a highend smart phone within a range of 60k to 100K. .',\n",
       " 'I really liked the budget iPhone. First I thought display would be issue as it is a LCD with less pixels, then after using my perception changed and I never felt like I am using an outdated display. Though I also use S 10+ with Amoled display.\\n\\nSo this is perfect iPhone and a real value for money.',\n",
       " 'Amazing phone and on great deal I received with super fast delivery by Flipkart...',\n",
       " \"Genuine review after few weeks.\\nDecent camera quality.\\nDon't expect to meet the quality and features of the upcoming brands with cheaper prices and better megapixels. Overall smooth experience and everything seems so good. If you have used iOS before, you know the ease of using it.\\nLooks so secure and fast.\\nDefinately it beats my 6GB phones in performance.\\nIf you play games don't bother about RAM, the processor kills it.\\nOverall a good choice to switch from Android to iOS.\\nDon't expect that V...\\nREAD MORE\",\n",
       " 'Very good smartphone and value for smoother and speedy response and work',\n",
       " 'This is very nice phone with great camera, performance, battery but their display is not good as their price overall best iphone to purchase right now',\n",
       " 'Good product nice experience with Flipkart but I am unhappy with the packaging part because such a valuable product comes under normal cover without any additional wrapping and that too for Plus customers. Expecting good Packaging in future from Sellers.',\n",
       " 'Got delivered by good packing from Flipkart with a agreed time line. Apple always stood good and great products towards their customers and this is my 2nd Iphone overall experience with phone is great, Especially when it comes battery gives long-standing performance for applications and gaming purposes, Camera is one of the great features includes in this mobile\\n\\nI will strongly suggest this !',\n",
       " 'Quite osm more then expected . Purple color truly recommended its lookin so beautiful then others .Someone suggest me and have selected the same color its beautiful.\\n\\n\\nPerformance is far better then my last i phone',\n",
       " 'Excellent service by Flipkart. The phone is true value for money, the camera is great especially the low light night photography.\\nThe processor is fast making gaming a lot of fun.\\nI read a lot of negative reviews about the display but I was using a OnePlus before and somehow the iphone 11 display is more easy on the eyes and the adaptive brightness is more effective than any of the other phones that I have used.\\nCharging is a bit slow owing to the smaller charger included in the box inste...\\nREAD MORE',\n",
       " 'It’s a quiet good for new users. And I’m happy with it. Thanks apple and Flipkart too. 😊♥️',\n",
       " 'My first iPhone. Still wondering where was I lost all this while. Always thought that an iPhone is just to pricey and not worth its cost. Trust me, I didn’t regret once for this mighty purchase. It is a different ecosystem all together and I have become an Apple fan instantly. Now all my gadgets ought to be Apple. Just seamless, timeless, super smooth, flamboyant, style statement, and the list is endless. The back camera is worth the hype not the selfie camera. Sound quality is surround sound...\\nREAD MORE',\n",
       " 'PROS:\\n1. Ballistic performance\\n2. Amazing image quality from the camera setup\\n3. Superb battery performance,\\n4. Design\\n5. Fit and finish.\\n6. iOS 13 integration with the hardware.\\nCONS:\\n1. Display quality leaves a lot to be desired. The non-1080p display is hardly noticeable during regular usage and is more than a pass. But if you are someone who use their phone for a majority of video playback, you’re in for a disappointment. Otherwise, it’s perfect for every other need.\\n2. The overall s...\\nREAD MORE',\n",
       " 'iPhone 11 is good but if someone want Superior phone then go for 11 pro because screen display is too good from iPhone 11 and as well as camera quality',\n",
       " 'Everything good as expected from Apple, but only thing thing missing is the 18w power adapter, because if the phone is compatible for fast charging and it takes more than 3 hours for full charge on a normal charger then it should come bundled with the 18w adapter.',\n",
       " 'The only issue is the unavailability of fast charging adapter in the box. It really takes a hell lotta time to get 100%.\\nApart from that.. it really is a premium smart phone.\\nOne can easily fall in love with the fast and efficient performance.',\n",
       " 'Great product as usual. Handy phone with best processor and camera quality in the market. Recommended 128GB storage 👍',\n",
       " 'It’s being awesome to buy an apple product simply awesome first time use so don’t know that much about device still apple clearly wins from android.🤓',\n",
       " 'excellent mobile phone with amazing feautures. 100% value for money.The greatest attribute was its battery(all day long usage). dont hesitate to buy. Only difference between 11pro and 11 is display and its telescope lens remaining all are same',\n",
       " 'Terrific!!! Lucky to get this phone in first lot. First switch over for me from android. awesome camera.. One of the best in class.. go for iphone 11 if you are the first time user.',\n",
       " 'finally an iPhone with very nice battery backup. update from iPhone 7 and happy to have it. camera is not up to the mark in low light but overall a recommended phone if your budget allows 😀',\n",
       " 'This is phone is super duper sexy.\\nYou will get in love with this phone the moment you will unbox it.\\nPerformance is awesome.\\nSo smooth, easy to handle.\\nSometimes, if working continuously, you will feel that the phone is heavy otherwise you won’t if worked for shorter period of time.\\nI would personally suggest you to go for 128GB version because it will be a true value for money.\\nTalking about colour, I find white colour as a royal one.',\n",
       " 'Just go for it without a second thought, if you are looking for a best phone in the market and want to save 40k to not go for iPhone 11 pro, the only thing i think this product is feel missing is Oled display software do the job of portrait, so go for it rather than 11 pro. Everything is at top with this phone. I am writing this review after using this phone for more than 2 months.',\n",
       " \"no complaint against the display it's very crisp , though it is not the OLED but if you put side by side and compare with iPhone xs you hardly notice any difference , i noticed the brightness because 11 has 600 nits compare to 1200 nits on xs . other wise you never feel that its a 720 p display. very very good quality LCD screen you can't compare with any other LCD screen it's far better than any other LCD screen available in market. battery is very impressive , and Love the sound of stereo s...\\nREAD MORE\",\n",
       " 'Nice camera for front and back.. The display is not as good because it makes sound when we tap on it! But overall it’s a good phone.',\n",
       " \"I got this beast today. And I must say the picture quality of its camera is awesome. Both the cameras works fine.\\n\\nAs for as the processing is concerned, it runs without any lag. You can play and do whatever you want without a glitch.\\n\\nThe battery runs for a day with medium and high workload.\\n\\nThe display is good and the speakers are working fine.\\n\\nThe earphones doesn't have any base and you can use it for calling mostly.\\n\\nThe charging time is approximately for 90 minutes for full charging...\\nREAD MORE\",\n",
       " 'Best phone in this price segment people say that it is a IPS display but don’t judge a book with the specs sheet only I have not seen any LCD Display like this in any smartphone industry leading IPS display . Everything is awesome in this phone but sometime but apple should have been giving OLED in this price segment',\n",
       " \"Got mobile @56,990 on 8 oct 2020 when all other platforms were selling iPhone 11 for more than 65k.\\nThank you Flipkart for bank offer and great discount. Also mobile is delivered under 15 hrs from order.\\nScreen is LCD but won't matter much, and little bit bulky. No Problem phone or you can say Default IPhone for all.\\nI'm using ios devices for last 6 years and this piece is best in every Aspect (using ios 14).\\nNo camera comparison with other smartphone in this range. Night mode also works best...\\nREAD MORE\",\n",
       " 'Have used both iPhone X and iPhone XR and I can say upgrade only if you want better camera it’s awesome with great display even though lcd but still better than oled on iPhone X or XS.\\nThe camera is huge improvement in low light and very nice improvement in less light and times better than iPhone X but not that big improvement on iPhone XR in day light but very big improvement in low light.']"
      ]
     },
     "execution_count": 164,
     "metadata": {},
     "output_type": "execute_result"
    }
   ],
   "source": [
    "Rate=[]\n",
    "for i in range(0,10):\n",
    "    for j in rate[i]:\n",
    "        Rate.append(j)\n",
    "Rate\n",
    "\n",
    "Descrip=[]\n",
    "for i in range(0,10):\n",
    "    for j in descrip[i]:\n",
    "        Descrip.append(j)\n",
    "Descrip\n",
    "\n",
    "Revi=[]\n",
    "for i in range(0,10):\n",
    "    for j in revi[i]:\n",
    "        Revi.append(j)\n",
    "Revi"
   ]
  },
  {
   "cell_type": "code",
   "execution_count": 170,
   "metadata": {},
   "outputs": [
    {
     "data": {
      "text/html": [
       "<div>\n",
       "<style scoped>\n",
       "    .dataframe tbody tr th:only-of-type {\n",
       "        vertical-align: middle;\n",
       "    }\n",
       "\n",
       "    .dataframe tbody tr th {\n",
       "        vertical-align: top;\n",
       "    }\n",
       "\n",
       "    .dataframe thead th {\n",
       "        text-align: right;\n",
       "    }\n",
       "</style>\n",
       "<table border=\"1\" class=\"dataframe\">\n",
       "  <thead>\n",
       "    <tr style=\"text-align: right;\">\n",
       "      <th></th>\n",
       "      <th>Rate</th>\n",
       "      <th>Description</th>\n",
       "      <th>Review</th>\n",
       "    </tr>\n",
       "  </thead>\n",
       "  <tbody>\n",
       "    <tr>\n",
       "      <th>0</th>\n",
       "      <td>5</td>\n",
       "      <td>Perfect product!</td>\n",
       "      <td>Amazing phone with great cameras and better ba...</td>\n",
       "    </tr>\n",
       "    <tr>\n",
       "      <th>1</th>\n",
       "      <td>5</td>\n",
       "      <td>Great product</td>\n",
       "      <td>Amazing Powerful and Durable Gadget.\\n\\nI’m am...</td>\n",
       "    </tr>\n",
       "    <tr>\n",
       "      <th>2</th>\n",
       "      <td>5</td>\n",
       "      <td>Highly recommended</td>\n",
       "      <td>iphone 11 is a very good phone to buy only if ...</td>\n",
       "    </tr>\n",
       "    <tr>\n",
       "      <th>3</th>\n",
       "      <td>5</td>\n",
       "      <td>Perfect product!</td>\n",
       "      <td>It’s a must buy who is looking for an upgrade ...</td>\n",
       "    </tr>\n",
       "    <tr>\n",
       "      <th>4</th>\n",
       "      <td>5</td>\n",
       "      <td>Brilliant</td>\n",
       "      <td>The Best Phone for the Money\\n\\nThe iPhone 11 ...</td>\n",
       "    </tr>\n",
       "    <tr>\n",
       "      <th>...</th>\n",
       "      <td>...</td>\n",
       "      <td>...</td>\n",
       "      <td>...</td>\n",
       "    </tr>\n",
       "    <tr>\n",
       "      <th>95</th>\n",
       "      <td>4</td>\n",
       "      <td>Delightful</td>\n",
       "      <td>Nice camera for front and back.. The display i...</td>\n",
       "    </tr>\n",
       "    <tr>\n",
       "      <th>96</th>\n",
       "      <td>5</td>\n",
       "      <td>Terrific</td>\n",
       "      <td>I got this beast today. And I must say the pic...</td>\n",
       "    </tr>\n",
       "    <tr>\n",
       "      <th>97</th>\n",
       "      <td>5</td>\n",
       "      <td>Fabulous!</td>\n",
       "      <td>Best phone in this price segment people say th...</td>\n",
       "    </tr>\n",
       "    <tr>\n",
       "      <th>98</th>\n",
       "      <td>5</td>\n",
       "      <td>Excellent</td>\n",
       "      <td>Got mobile @56,990 on 8 oct 2020 when all othe...</td>\n",
       "    </tr>\n",
       "    <tr>\n",
       "      <th>99</th>\n",
       "      <td>5</td>\n",
       "      <td>Terrific</td>\n",
       "      <td>Have used both iPhone X and iPhone XR and I ca...</td>\n",
       "    </tr>\n",
       "  </tbody>\n",
       "</table>\n",
       "<p>100 rows × 3 columns</p>\n",
       "</div>"
      ],
      "text/plain": [
       "   Rate         Description                                             Review\n",
       "0     5    Perfect product!  Amazing phone with great cameras and better ba...\n",
       "1     5       Great product  Amazing Powerful and Durable Gadget.\\n\\nI’m am...\n",
       "2     5  Highly recommended  iphone 11 is a very good phone to buy only if ...\n",
       "3     5    Perfect product!  It’s a must buy who is looking for an upgrade ...\n",
       "4     5           Brilliant  The Best Phone for the Money\\n\\nThe iPhone 11 ...\n",
       "..  ...                 ...                                                ...\n",
       "95    4          Delightful  Nice camera for front and back.. The display i...\n",
       "96    5            Terrific  I got this beast today. And I must say the pic...\n",
       "97    5           Fabulous!  Best phone in this price segment people say th...\n",
       "98    5           Excellent  Got mobile @56,990 on 8 oct 2020 when all othe...\n",
       "99    5            Terrific  Have used both iPhone X and iPhone XR and I ca...\n",
       "\n",
       "[100 rows x 3 columns]"
      ]
     },
     "execution_count": 170,
     "metadata": {},
     "output_type": "execute_result"
    }
   ],
   "source": [
    "iphone=pd.DataFrame({})\n",
    "iphone['Rate']=Rate\n",
    "iphone['Description']=Descrip\n",
    "iphone['Review']=Revi\n",
    "iphone"
   ]
  },
  {
   "cell_type": "code",
   "execution_count": 172,
   "metadata": {},
   "outputs": [],
   "source": [
    "driver.close()"
   ]
  },
  {
   "cell_type": "markdown",
   "metadata": {},
   "source": [
    "# Q8: Scrape data for first 100 sneakers you find when you visit flipkart.com and search for “sneakers” in the search field."
   ]
  },
  {
   "cell_type": "code",
   "execution_count": 219,
   "metadata": {},
   "outputs": [],
   "source": [
    "#Lets first connect to web driver\n",
    "driver=webdriver.Chrome(\"C:\\web driver\\chromedriver.exe\")"
   ]
  },
  {
   "cell_type": "code",
   "execution_count": 175,
   "metadata": {},
   "outputs": [],
   "source": [
    "driver.get(' https://www.flipkart.com/')"
   ]
  },
  {
   "cell_type": "code",
   "execution_count": 176,
   "metadata": {},
   "outputs": [],
   "source": [
    "#finding element for shoes in search bar\n",
    "\n",
    "driver.find_element_by_xpath(\"//input[@class='_3704LK']\").send_keys('shoes')"
   ]
  },
  {
   "cell_type": "code",
   "execution_count": 177,
   "metadata": {},
   "outputs": [],
   "source": [
    "driver.find_element_by_xpath(\"//button[@class='L0Z3Pu']\").click()"
   ]
  },
  {
   "cell_type": "code",
   "execution_count": 178,
   "metadata": {},
   "outputs": [],
   "source": [
    "#specifing the url of the webpage to be scraped\n",
    "url='https://www.flipkart.com/search?q=shoes&otracker=search&otracker1=search&marketplace=FLIPKART&as-show=on&as=off'"
   ]
  },
  {
   "cell_type": "code",
   "execution_count": 181,
   "metadata": {},
   "outputs": [
    {
     "data": {
      "text/plain": [
       "['Aadi',\n",
       " 'BIG FOX',\n",
       " 'Port',\n",
       " 'Aadi',\n",
       " 'GS',\n",
       " 'MILESWALKER',\n",
       " 'Asian',\n",
       " 'Beerock',\n",
       " 'Asian',\n",
       " 'Chevit',\n",
       " 'Aadi',\n",
       " 'BOXER',\n",
       " 'Shoes Bank',\n",
       " 'Woakers',\n",
       " 'Aadi',\n",
       " 'Magnolia',\n",
       " 'Nike',\n",
       " 'Asian',\n",
       " 'SUSON',\n",
       " 'FASHION CITY',\n",
       " 'Aadi',\n",
       " 'DIGITRENDZZ',\n",
       " 'Swiggy',\n",
       " 'Walkstyle',\n",
       " 'Asian',\n",
       " 'Asian',\n",
       " 'Kraasa',\n",
       " 'LeatherKraft',\n",
       " 'D-SNEAKERZ',\n",
       " 'Taurene',\n",
       " 'Kraasa',\n",
       " 'Knoos',\n",
       " 'World Wear Footwear',\n",
       " 'ZOVIM',\n",
       " 'Puma',\n",
       " 'Kzaara',\n",
       " 'Asian',\n",
       " 'Beerock',\n",
       " 'Asian',\n",
       " 'Big Fox']"
      ]
     },
     "execution_count": 181,
     "metadata": {},
     "output_type": "execute_result"
    }
   ],
   "source": [
    "br=[]\n",
    "a=driver.find_elements_by_xpath(\"//div[@class='_2WkVRV']\")\n",
    "for i in a:\n",
    "    br.append(i.text)\n",
    "br"
   ]
  },
  {
   "cell_type": "code",
   "execution_count": 184,
   "metadata": {},
   "outputs": [
    {
     "data": {
      "text/plain": [
       "['Walking Shoes For Men',\n",
       " 'Classic Suede Footwear Loafers For Men',\n",
       " 'Running Shoes For Men',\n",
       " 'Running Shoes For Men',\n",
       " 'Running Shoes Walking Shoes For Men',\n",
       " 'Running Shoes For Men',\n",
       " 'WNDR-13 Running Shoes For Men',\n",
       " 'Oxygen Running Shoes For Men',\n",
       " 'Bouncer-01 Running shoes for boys | sports shoes for me...',\n",
       " '445 Sports Shoes (Walking & Gym Shoes) Running Shoes Fo...',\n",
       " 'Casuals For Men',\n",
       " \"Trending Sneakers For Men's Casual Boxer Shoes Black Hi...\",\n",
       " \"White Sneaker For Men's/Boy's Sneakers For Men\",\n",
       " 'Running Shoes For Men',\n",
       " 'Casuals For Men',\n",
       " 'White Sneakers Sneakers For Men',\n",
       " 'Wmns Tanjun Running Shoes For Women',\n",
       " 'Creta-12 sports shoes for men | Latest Stylish Casual s...',\n",
       " 'Black Gym/Walking/Running Sports Sneakers For Men',\n",
       " 'Running Shoes For Men',\n",
       " 'Lightweight Gymwear Sport Running Shoes For Men Walking...',\n",
       " 'Casual sneakers and loafers shoes Combo(MR)-1720-1244 (...',\n",
       " 'Loafers For Men',\n",
       " 'Cosko Sports Shoes,Running Shoes,Walking Shoes,Training...',\n",
       " 'Cosko Sports Shoes,Running Shoes,Walking Shoes,Training...',\n",
       " 'Sports Casual Running Shoes For Men',\n",
       " 'Sneakers For Men',\n",
       " \"Casual , Partywear Sneakers Shoes For Men's And Boys Wh...\",\n",
       " 'SOCKS Running Shoes For Men',\n",
       " 'Climber Boots For Men',\n",
       " 'Brown Synthetic Leather Casual Loafer Loafers For Men',\n",
       " 'Combo Pack of 2 Latest Collection Stylish casual Sports...',\n",
       " 'shoes for men Sneakers For Men',\n",
       " 'Cruxston Wn s MU IDP Running Shoes For Women',\n",
       " 'Lace Up For Men',\n",
       " 'WNDR-13 Running Shoes For Men',\n",
       " 'Oxygen Running Shoes For Men',\n",
       " 'Creta-12 sports shoes for men | Latest Stylish Casual s...',\n",
       " 'Casual Kiltie Tassled Loafers For Men']"
      ]
     },
     "execution_count": 184,
     "metadata": {},
     "output_type": "execute_result"
    }
   ],
   "source": [
    "Pd=[]\n",
    "p=driver.find_elements_by_xpath(\"//a[@class='IRpwTa']\")\n",
    "for i in p:\n",
    "    Pd.append(i.text)\n",
    "Pd"
   ]
  },
  {
   "cell_type": "code",
   "execution_count": 185,
   "metadata": {},
   "outputs": [
    {
     "data": {
      "text/plain": [
       "['₹399',\n",
       " '₹584',\n",
       " '₹318',\n",
       " '₹299',\n",
       " '₹299',\n",
       " '₹318',\n",
       " '₹471',\n",
       " '₹460',\n",
       " '₹719',\n",
       " '₹348',\n",
       " '₹474',\n",
       " '₹235',\n",
       " '₹349',\n",
       " '₹549',\n",
       " '₹299',\n",
       " '₹293',\n",
       " '₹4,995',\n",
       " '₹764',\n",
       " '₹314',\n",
       " '₹499',\n",
       " '₹399',\n",
       " '₹317',\n",
       " '₹498',\n",
       " '₹569',\n",
       " '₹584',\n",
       " '₹584',\n",
       " '₹424',\n",
       " '₹299',\n",
       " '₹368',\n",
       " '₹499',\n",
       " '₹424',\n",
       " '₹449',\n",
       " '₹495',\n",
       " '₹378',\n",
       " '₹1,000',\n",
       " '₹379',\n",
       " '₹471',\n",
       " '₹474',\n",
       " '₹764',\n",
       " '₹629']"
      ]
     },
     "execution_count": 185,
     "metadata": {},
     "output_type": "execute_result"
    }
   ],
   "source": [
    "Pr=[]\n",
    "r=driver.find_elements_by_xpath(\"//div[@class='_30jeq3']\")\n",
    "for i in r:\n",
    "    Pr.append(i.text)\n",
    "Pr"
   ]
  },
  {
   "cell_type": "code",
   "execution_count": 186,
   "metadata": {},
   "outputs": [
    {
     "data": {
      "text/plain": [
       "['60% off',\n",
       " '41% off',\n",
       " '68% off',\n",
       " '70% off',\n",
       " '70% off',\n",
       " '68% off',\n",
       " '21% off',\n",
       " '53% off',\n",
       " '28% off',\n",
       " '30% off',\n",
       " '52% off',\n",
       " '60% off',\n",
       " '65% off',\n",
       " '65% off',\n",
       " '70% off',\n",
       " '70% off',\n",
       " '41% off',\n",
       " '68% off',\n",
       " '50% off',\n",
       " '60% off',\n",
       " '68% off',\n",
       " '50% off',\n",
       " '62% off',\n",
       " '41% off',\n",
       " '41% off',\n",
       " '57% off',\n",
       " '70% off',\n",
       " '44% off',\n",
       " '50% off',\n",
       " '57% off',\n",
       " '55% off',\n",
       " '50% off',\n",
       " '62% off',\n",
       " '74% off',\n",
       " '62% off',\n",
       " '21% off',\n",
       " '52% off',\n",
       " '41% off',\n",
       " '37% off']"
      ]
     },
     "execution_count": 186,
     "metadata": {},
     "output_type": "execute_result"
    }
   ],
   "source": [
    "di=[]\n",
    "l=driver.find_elements_by_xpath(\"//div[@class='_3Ay6Sb']\")\n",
    "for i in l:\n",
    "    di.append(i.text)\n",
    "di"
   ]
  },
  {
   "cell_type": "code",
   "execution_count": 189,
   "metadata": {},
   "outputs": [],
   "source": [
    "driver.find_element_by_xpath(\"//a[@class='_1LKTO3']\").click()"
   ]
  },
  {
   "cell_type": "code",
   "execution_count": 190,
   "metadata": {},
   "outputs": [],
   "source": [
    "#specifing the url of the webpage to be scraped\n",
    "url1='https://www.flipkart.com/search?q=shoes&otracker=search&otracker1=search&marketplace=FLIPKART&as-show=on&as=off&page=2'"
   ]
  },
  {
   "cell_type": "code",
   "execution_count": 203,
   "metadata": {},
   "outputs": [
    {
     "data": {
      "text/plain": [
       "['Kraasa',\n",
       " 'Puma',\n",
       " 'GS',\n",
       " 'Swiggy',\n",
       " 'Campus',\n",
       " 'D-SNEAKERZ',\n",
       " 'Nike',\n",
       " 'RUFFBIRD',\n",
       " 'Beerock',\n",
       " 'Aadi',\n",
       " 'Campus',\n",
       " 'Asian',\n",
       " 'Puma',\n",
       " 'Aadi',\n",
       " 'Aadi',\n",
       " 'SUSON',\n",
       " 'FREEDOM DAISY',\n",
       " 'Marc Ecko',\n",
       " 'T-Rock',\n",
       " 'BIG FOX',\n",
       " 'BRUTON',\n",
       " 'Asian',\n",
       " 'Rebelbe',\n",
       " 'Aadi',\n",
       " 'Asian',\n",
       " 'T-Rock',\n",
       " 'REEBOK',\n",
       " 'Asian',\n",
       " 'Asian',\n",
       " 'MILESWALKER',\n",
       " 'SCATCHITE',\n",
       " 'Aadi',\n",
       " 'Skechers',\n",
       " 'Woakers',\n",
       " 'T-Rock',\n",
       " 'Kaneggye',\n",
       " 'Kraasa',\n",
       " 'DOLLER',\n",
       " 'Puma',\n",
       " 'FASHION CITY',\n",
       " 'Kraasa',\n",
       " 'Puma',\n",
       " 'GS',\n",
       " 'Swiggy',\n",
       " 'Campus',\n",
       " 'D-SNEAKERZ',\n",
       " 'Nike',\n",
       " 'RUFFBIRD',\n",
       " 'Beerock',\n",
       " 'Aadi',\n",
       " 'Campus',\n",
       " 'Asian',\n",
       " 'Puma',\n",
       " 'Aadi',\n",
       " 'Aadi',\n",
       " 'SUSON',\n",
       " 'FREEDOM DAISY',\n",
       " 'Marc Ecko',\n",
       " 'T-Rock',\n",
       " 'BIG FOX',\n",
       " 'BRUTON',\n",
       " 'Asian',\n",
       " 'Rebelbe',\n",
       " 'Aadi',\n",
       " 'Asian',\n",
       " 'T-Rock',\n",
       " 'REEBOK',\n",
       " 'Asian',\n",
       " 'Asian',\n",
       " 'MILESWALKER',\n",
       " 'SCATCHITE',\n",
       " 'Aadi',\n",
       " 'Skechers',\n",
       " 'Woakers',\n",
       " 'T-Rock',\n",
       " 'Kaneggye',\n",
       " 'Kraasa',\n",
       " 'DOLLER',\n",
       " 'Puma',\n",
       " 'FASHION CITY']"
      ]
     },
     "execution_count": 203,
     "metadata": {},
     "output_type": "execute_result"
    }
   ],
   "source": [
    "a=driver.find_elements_by_xpath(\"//div[@class='_2WkVRV']\")\n",
    "for i in a:\n",
    "    br.append(i.text)\n",
    "br"
   ]
  },
  {
   "cell_type": "code",
   "execution_count": 205,
   "metadata": {},
   "outputs": [
    {
     "data": {
      "text/plain": [
       "['Climber Boots For Men',\n",
       " 'Ontario IDP Sneakers For Men',\n",
       " 'Party Casuals For Men',\n",
       " 'shoes For Mens Combo Running Shoes For Men',\n",
       " 'OXYFIT Casuals For Men',\n",
       " \"Casual , Partywear Sneakers Shoes For Men's And Boys Wh...\",\n",
       " 'Wmns Tanjun Running Shoes For Women',\n",
       " 'Lightweight Gymwear Sport Running Shoes Cricket Shoes F...',\n",
       " 'Oxygen Running Shoes For Men',\n",
       " 'Walking Shoes For Men',\n",
       " 'OXYFIT Casuals For Men',\n",
       " 'Captain-12 Running shoes for boys | sports shoes for me...',\n",
       " 'Dwane IDP Running Shoes For Men',\n",
       " 'Walking Shoes For Men',\n",
       " 'Running Shoes For Men',\n",
       " 'Leisure Running Mesh Version Of Fashion Students Breath...',\n",
       " 'Running Shoes For Men',\n",
       " 'Sneakers For Men',\n",
       " 'Loafers For Men',\n",
       " 'Classic Suede Footwear Loafers For Men',\n",
       " 'Combo Pack Of 5 Casual Shoes Canvas Shoes For Men',\n",
       " 'SM-162 Navy Blue Walking Shoes,Training Shoes,Sneakers,...',\n",
       " 'Outdoor Casual Boots for Mens Boots For Men',\n",
       " 'Walking Shoes For Men',\n",
       " 'Walking Shoes For Women',\n",
       " 'Socks Stylish Cricket , Walking Shoes , Light Weight Sp...',\n",
       " 'SPEED RUNNER LP Running Shoes For Men',\n",
       " 'Walking Shoes For Men',\n",
       " 'Walking Shoes For Men',\n",
       " 'Running Shoes For Men',\n",
       " 'Sneakers For Men',\n",
       " 'Walking Shoes For Men',\n",
       " 'GO RUN FAST - STEADFAST Running Shoes For Men',\n",
       " 'Running Shoes For Men',\n",
       " 'Light Weight Sports Shoes Walking Shoes For Men',\n",
       " 'Canvas Shoes For Men',\n",
       " 'Mocassin, Casuals, Party Wear Loafers For Men',\n",
       " 'casual for men sneaker shoes high top shoes stylish Hig...',\n",
       " 'Ontario IDP Sneakers For Men',\n",
       " 'Climber Boots For Men',\n",
       " 'Ontario IDP Sneakers For Men',\n",
       " 'Party Casuals For Men',\n",
       " 'shoes For Mens Combo Running Shoes For Men',\n",
       " 'OXYFIT Casuals For Men',\n",
       " \"Casual , Partywear Sneakers Shoes For Men's And Boys Wh...\",\n",
       " 'Wmns Tanjun Running Shoes For Women',\n",
       " 'Lightweight Gymwear Sport Running Shoes Cricket Shoes F...',\n",
       " 'Oxygen Running Shoes For Men',\n",
       " 'Walking Shoes For Men',\n",
       " 'OXYFIT Casuals For Men',\n",
       " 'Captain-12 Running shoes for boys | sports shoes for me...',\n",
       " 'Dwane IDP Running Shoes For Men',\n",
       " 'Walking Shoes For Men',\n",
       " 'Running Shoes For Men',\n",
       " 'Leisure Running Mesh Version Of Fashion Students Breath...',\n",
       " 'Running Shoes For Men',\n",
       " 'Sneakers For Men',\n",
       " 'Loafers For Men',\n",
       " 'Classic Suede Footwear Loafers For Men',\n",
       " 'Combo Pack Of 5 Casual Shoes Canvas Shoes For Men',\n",
       " 'SM-162 Navy Blue Walking Shoes,Training Shoes,Sneakers,...',\n",
       " 'Outdoor Casual Boots for Mens Boots For Men',\n",
       " 'Walking Shoes For Men',\n",
       " 'Walking Shoes For Women',\n",
       " 'Socks Stylish Cricket , Walking Shoes , Light Weight Sp...',\n",
       " 'SPEED RUNNER LP Running Shoes For Men',\n",
       " 'Walking Shoes For Men',\n",
       " 'Walking Shoes For Men',\n",
       " 'Running Shoes For Men',\n",
       " 'Sneakers For Men',\n",
       " 'Walking Shoes For Men',\n",
       " 'GO RUN FAST - STEADFAST Running Shoes For Men',\n",
       " 'Running Shoes For Men',\n",
       " 'Light Weight Sports Shoes Walking Shoes For Men',\n",
       " 'Canvas Shoes For Men',\n",
       " 'Mocassin, Casuals, Party Wear Loafers For Men',\n",
       " 'casual for men sneaker shoes high top shoes stylish Hig...',\n",
       " 'Ontario IDP Sneakers For Men',\n",
       " 'Climber Boots For Men',\n",
       " 'Ontario IDP Sneakers For Men',\n",
       " 'Party Casuals For Men',\n",
       " 'shoes For Mens Combo Running Shoes For Men',\n",
       " 'OXYFIT Casuals For Men',\n",
       " \"Casual , Partywear Sneakers Shoes For Men's And Boys Wh...\",\n",
       " 'Wmns Tanjun Running Shoes For Women',\n",
       " 'Lightweight Gymwear Sport Running Shoes Cricket Shoes F...',\n",
       " 'Oxygen Running Shoes For Men',\n",
       " 'Walking Shoes For Men',\n",
       " 'OXYFIT Casuals For Men',\n",
       " 'Captain-12 Running shoes for boys | sports shoes for me...',\n",
       " 'Dwane IDP Running Shoes For Men',\n",
       " 'Walking Shoes For Men',\n",
       " 'Running Shoes For Men',\n",
       " 'Leisure Running Mesh Version Of Fashion Students Breath...',\n",
       " 'Running Shoes For Men',\n",
       " 'Sneakers For Men',\n",
       " 'Loafers For Men',\n",
       " 'Classic Suede Footwear Loafers For Men',\n",
       " 'Combo Pack Of 5 Casual Shoes Canvas Shoes For Men',\n",
       " 'SM-162 Navy Blue Walking Shoes,Training Shoes,Sneakers,...',\n",
       " 'Outdoor Casual Boots for Mens Boots For Men',\n",
       " 'Walking Shoes For Men',\n",
       " 'Walking Shoes For Women',\n",
       " 'Socks Stylish Cricket , Walking Shoes , Light Weight Sp...',\n",
       " 'SPEED RUNNER LP Running Shoes For Men',\n",
       " 'Walking Shoes For Men',\n",
       " 'Walking Shoes For Men',\n",
       " 'Running Shoes For Men',\n",
       " 'Sneakers For Men',\n",
       " 'Walking Shoes For Men',\n",
       " 'GO RUN FAST - STEADFAST Running Shoes For Men',\n",
       " 'Running Shoes For Men',\n",
       " 'Light Weight Sports Shoes Walking Shoes For Men',\n",
       " 'Canvas Shoes For Men',\n",
       " 'Mocassin, Casuals, Party Wear Loafers For Men',\n",
       " 'casual for men sneaker shoes high top shoes stylish Hig...',\n",
       " 'Ontario IDP Sneakers For Men']"
      ]
     },
     "execution_count": 205,
     "metadata": {},
     "output_type": "execute_result"
    }
   ],
   "source": [
    "p=driver.find_elements_by_xpath(\"//a[@class='IRpwTa']\")\n",
    "for i in p:\n",
    "    Pd.append(i.text)\n",
    "Pd"
   ]
  },
  {
   "cell_type": "code",
   "execution_count": 206,
   "metadata": {},
   "outputs": [
    {
     "data": {
      "text/plain": [
       "['₹424',\n",
       " '₹1,047',\n",
       " '₹299',\n",
       " '₹498',\n",
       " '₹679',\n",
       " '₹365',\n",
       " '₹4,995',\n",
       " '₹310',\n",
       " '₹474',\n",
       " '₹426',\n",
       " '₹779',\n",
       " '₹629',\n",
       " '₹1,479',\n",
       " '₹399',\n",
       " '₹426',\n",
       " '₹318',\n",
       " '₹350',\n",
       " '₹599',\n",
       " '₹341',\n",
       " '₹584',\n",
       " '₹699',\n",
       " '₹474',\n",
       " '₹538',\n",
       " '₹426',\n",
       " '₹640',\n",
       " '₹398',\n",
       " '₹1,259',\n",
       " '₹499',\n",
       " '₹764',\n",
       " '₹318',\n",
       " '₹398',\n",
       " '₹474',\n",
       " '₹2,499',\n",
       " '₹549',\n",
       " '₹404',\n",
       " '₹284',\n",
       " '₹424',\n",
       " '₹449',\n",
       " '₹1,047',\n",
       " '₹499',\n",
       " '₹424',\n",
       " '₹1,047',\n",
       " '₹299',\n",
       " '₹498',\n",
       " '₹679',\n",
       " '₹365',\n",
       " '₹4,995',\n",
       " '₹310',\n",
       " '₹474',\n",
       " '₹426',\n",
       " '₹779',\n",
       " '₹629',\n",
       " '₹1,479',\n",
       " '₹399',\n",
       " '₹426',\n",
       " '₹318',\n",
       " '₹350',\n",
       " '₹599',\n",
       " '₹341',\n",
       " '₹584',\n",
       " '₹699',\n",
       " '₹474',\n",
       " '₹538',\n",
       " '₹426',\n",
       " '₹640',\n",
       " '₹398',\n",
       " '₹1,259',\n",
       " '₹499',\n",
       " '₹764',\n",
       " '₹318',\n",
       " '₹398',\n",
       " '₹474',\n",
       " '₹2,499',\n",
       " '₹549',\n",
       " '₹404',\n",
       " '₹284',\n",
       " '₹424',\n",
       " '₹449',\n",
       " '₹1,047',\n",
       " '₹499']"
      ]
     },
     "execution_count": 206,
     "metadata": {},
     "output_type": "execute_result"
    }
   ],
   "source": [
    "r=driver.find_elements_by_xpath(\"//div[@class='_30jeq3']\")\n",
    "for i in r:\n",
    "    Pr.append(i.text)\n",
    "Pr"
   ]
  },
  {
   "cell_type": "code",
   "execution_count": 207,
   "metadata": {},
   "outputs": [
    {
     "data": {
      "text/plain": [
       "['57% off',\n",
       " '65% off',\n",
       " '70% off',\n",
       " '50% off',\n",
       " '15% off',\n",
       " '63% off',\n",
       " '68% off',\n",
       " '52% off',\n",
       " '57% off',\n",
       " '2% off',\n",
       " '37% off',\n",
       " '63% off',\n",
       " '60% off',\n",
       " '57% off',\n",
       " '68% off',\n",
       " '64% off',\n",
       " '72% off',\n",
       " '65% off',\n",
       " '41% off',\n",
       " '82% off',\n",
       " '5% off',\n",
       " '46% off',\n",
       " '57% off',\n",
       " '57% off',\n",
       " '60% off',\n",
       " '55% off',\n",
       " '16% off',\n",
       " '41% off',\n",
       " '68% off',\n",
       " '60% off',\n",
       " '52% off',\n",
       " '50% off',\n",
       " '65% off',\n",
       " '59% off',\n",
       " '43% off',\n",
       " '57% off',\n",
       " '55% off',\n",
       " '65% off',\n",
       " '50% off',\n",
       " '57% off',\n",
       " '65% off',\n",
       " '70% off',\n",
       " '50% off',\n",
       " '15% off',\n",
       " '63% off',\n",
       " '68% off',\n",
       " '52% off',\n",
       " '57% off',\n",
       " '2% off',\n",
       " '37% off',\n",
       " '63% off',\n",
       " '60% off',\n",
       " '57% off',\n",
       " '68% off',\n",
       " '64% off',\n",
       " '72% off',\n",
       " '65% off',\n",
       " '41% off',\n",
       " '82% off',\n",
       " '5% off',\n",
       " '46% off',\n",
       " '57% off',\n",
       " '57% off',\n",
       " '60% off',\n",
       " '55% off',\n",
       " '16% off',\n",
       " '41% off',\n",
       " '68% off',\n",
       " '60% off',\n",
       " '52% off',\n",
       " '50% off',\n",
       " '65% off',\n",
       " '59% off',\n",
       " '43% off',\n",
       " '57% off',\n",
       " '55% off',\n",
       " '65% off',\n",
       " '50% off']"
      ]
     },
     "execution_count": 207,
     "metadata": {},
     "output_type": "execute_result"
    }
   ],
   "source": [
    "l=driver.find_elements_by_xpath(\"//div[@class='_3Ay6Sb']\")\n",
    "for i in l:\n",
    "    di.append(i.text)\n",
    "di"
   ]
  },
  {
   "cell_type": "code",
   "execution_count": 208,
   "metadata": {},
   "outputs": [],
   "source": [
    "driver.find_element_by_xpath(\"//a[@class='_1LKTO3'][2]/span\").click()"
   ]
  },
  {
   "cell_type": "code",
   "execution_count": 196,
   "metadata": {},
   "outputs": [],
   "source": [
    "url2='https://www.flipkart.com/search?q=shoes&otracker=search&otracker1=search&marketplace=FLIPKART&as-show=on&as=off&page=3'"
   ]
  },
  {
   "cell_type": "code",
   "execution_count": 211,
   "metadata": {},
   "outputs": [
    {
     "data": {
      "text/plain": [
       "['Kraasa',\n",
       " 'Puma',\n",
       " 'GS',\n",
       " 'Swiggy',\n",
       " 'Campus',\n",
       " 'D-SNEAKERZ',\n",
       " 'Nike',\n",
       " 'RUFFBIRD',\n",
       " 'Beerock',\n",
       " 'Aadi',\n",
       " 'Campus',\n",
       " 'Asian',\n",
       " 'Puma',\n",
       " 'Aadi',\n",
       " 'Aadi',\n",
       " 'SUSON',\n",
       " 'FREEDOM DAISY',\n",
       " 'Marc Ecko',\n",
       " 'T-Rock',\n",
       " 'BIG FOX',\n",
       " 'BRUTON',\n",
       " 'Asian',\n",
       " 'Rebelbe',\n",
       " 'Aadi',\n",
       " 'Asian',\n",
       " 'T-Rock',\n",
       " 'REEBOK',\n",
       " 'Asian',\n",
       " 'Asian',\n",
       " 'MILESWALKER',\n",
       " 'SCATCHITE',\n",
       " 'Aadi',\n",
       " 'Skechers',\n",
       " 'Woakers',\n",
       " 'T-Rock',\n",
       " 'Kaneggye',\n",
       " 'Kraasa',\n",
       " 'DOLLER',\n",
       " 'Puma',\n",
       " 'FASHION CITY',\n",
       " 'Kraasa',\n",
       " 'Puma',\n",
       " 'GS',\n",
       " 'Swiggy',\n",
       " 'Campus',\n",
       " 'D-SNEAKERZ',\n",
       " 'Nike',\n",
       " 'RUFFBIRD',\n",
       " 'Beerock',\n",
       " 'Aadi',\n",
       " 'Campus',\n",
       " 'Asian',\n",
       " 'Puma',\n",
       " 'Aadi',\n",
       " 'Aadi',\n",
       " 'SUSON',\n",
       " 'FREEDOM DAISY',\n",
       " 'Marc Ecko',\n",
       " 'T-Rock',\n",
       " 'BIG FOX',\n",
       " 'BRUTON',\n",
       " 'Asian',\n",
       " 'Rebelbe',\n",
       " 'Aadi',\n",
       " 'Asian',\n",
       " 'T-Rock',\n",
       " 'REEBOK',\n",
       " 'Asian',\n",
       " 'Asian',\n",
       " 'MILESWALKER',\n",
       " 'SCATCHITE',\n",
       " 'Aadi',\n",
       " 'Skechers',\n",
       " 'Woakers',\n",
       " 'T-Rock',\n",
       " 'Kaneggye',\n",
       " 'Kraasa',\n",
       " 'DOLLER',\n",
       " 'Puma',\n",
       " 'FASHION CITY',\n",
       " 'Robbie jones',\n",
       " 'Asian',\n",
       " 'Layasa',\n",
       " 'Aadi',\n",
       " 'Aadi',\n",
       " 'T-Rock',\n",
       " 'Asian',\n",
       " 'Asian',\n",
       " 'Asian',\n",
       " 'BIG FOX',\n",
       " 'Yonex',\n",
       " 'Beerock',\n",
       " 'Asian',\n",
       " 'Aadi',\n",
       " 'Sukun',\n",
       " 'World Wear Footwear',\n",
       " 'Oricum',\n",
       " 'BRUTON',\n",
       " 'REEBOK',\n",
       " 'MILESWALKER',\n",
       " 'ADIDAS',\n",
       " 'Puma',\n",
       " 'Yonex',\n",
       " 'Woakers',\n",
       " 'BRUTON',\n",
       " 'Skechers',\n",
       " 'Asian',\n",
       " 'EZDEZARIO',\n",
       " 'Swiggy',\n",
       " 'FASHION CITY',\n",
       " 'Density',\n",
       " 'Kraasa',\n",
       " 'Rebelbe',\n",
       " 'XYLUS',\n",
       " 'BRUTON',\n",
       " 'World Wear Footwear',\n",
       " 'Longwalk',\n",
       " 'REEBOK',\n",
       " 'Layasa',\n",
       " 'Taurene',\n",
       " 'Robbie jones',\n",
       " 'Asian',\n",
       " 'Layasa',\n",
       " 'Aadi',\n",
       " 'Aadi',\n",
       " 'T-Rock',\n",
       " 'Asian',\n",
       " 'Asian',\n",
       " 'Asian',\n",
       " 'BIG FOX',\n",
       " 'Yonex',\n",
       " 'Beerock',\n",
       " 'Asian',\n",
       " 'Aadi',\n",
       " 'Sukun',\n",
       " 'World Wear Footwear',\n",
       " 'Oricum',\n",
       " 'BRUTON',\n",
       " 'REEBOK',\n",
       " 'MILESWALKER',\n",
       " 'ADIDAS',\n",
       " 'Puma',\n",
       " 'Yonex',\n",
       " 'Woakers',\n",
       " 'BRUTON',\n",
       " 'Skechers',\n",
       " 'Asian',\n",
       " 'EZDEZARIO',\n",
       " 'Swiggy',\n",
       " 'FASHION CITY',\n",
       " 'Density',\n",
       " 'Kraasa',\n",
       " 'Rebelbe',\n",
       " 'XYLUS',\n",
       " 'BRUTON',\n",
       " 'World Wear Footwear',\n",
       " 'Longwalk',\n",
       " 'REEBOK',\n",
       " 'Layasa',\n",
       " 'Taurene',\n",
       " 'Robbie jones',\n",
       " 'Asian',\n",
       " 'Layasa',\n",
       " 'Aadi',\n",
       " 'Aadi',\n",
       " 'T-Rock',\n",
       " 'Asian',\n",
       " 'Asian',\n",
       " 'Asian',\n",
       " 'BIG FOX',\n",
       " 'Yonex',\n",
       " 'Beerock',\n",
       " 'Asian',\n",
       " 'Aadi',\n",
       " 'Sukun',\n",
       " 'World Wear Footwear',\n",
       " 'Oricum',\n",
       " 'BRUTON',\n",
       " 'REEBOK',\n",
       " 'MILESWALKER',\n",
       " 'ADIDAS',\n",
       " 'Puma',\n",
       " 'Yonex',\n",
       " 'Woakers',\n",
       " 'BRUTON',\n",
       " 'Skechers',\n",
       " 'Asian',\n",
       " 'EZDEZARIO',\n",
       " 'Swiggy',\n",
       " 'FASHION CITY',\n",
       " 'Density',\n",
       " 'Kraasa',\n",
       " 'Rebelbe',\n",
       " 'XYLUS',\n",
       " 'BRUTON',\n",
       " 'World Wear Footwear',\n",
       " 'Longwalk',\n",
       " 'REEBOK',\n",
       " 'Layasa',\n",
       " 'Taurene']"
      ]
     },
     "execution_count": 211,
     "metadata": {},
     "output_type": "execute_result"
    }
   ],
   "source": [
    "a=driver.find_elements_by_xpath(\"//div[@class='_2WkVRV']\")\n",
    "for i in a:\n",
    "    br.append(i.text)\n",
    "br"
   ]
  },
  {
   "cell_type": "code",
   "execution_count": 212,
   "metadata": {},
   "outputs": [
    {
     "data": {
      "text/plain": [
       "['Climber Boots For Men',\n",
       " 'Ontario IDP Sneakers For Men',\n",
       " 'Party Casuals For Men',\n",
       " 'shoes For Mens Combo Running Shoes For Men',\n",
       " 'OXYFIT Casuals For Men',\n",
       " \"Casual , Partywear Sneakers Shoes For Men's And Boys Wh...\",\n",
       " 'Wmns Tanjun Running Shoes For Women',\n",
       " 'Lightweight Gymwear Sport Running Shoes Cricket Shoes F...',\n",
       " 'Oxygen Running Shoes For Men',\n",
       " 'Walking Shoes For Men',\n",
       " 'OXYFIT Casuals For Men',\n",
       " 'Captain-12 Running shoes for boys | sports shoes for me...',\n",
       " 'Dwane IDP Running Shoes For Men',\n",
       " 'Walking Shoes For Men',\n",
       " 'Running Shoes For Men',\n",
       " 'Leisure Running Mesh Version Of Fashion Students Breath...',\n",
       " 'Running Shoes For Men',\n",
       " 'Sneakers For Men',\n",
       " 'Loafers For Men',\n",
       " 'Classic Suede Footwear Loafers For Men',\n",
       " 'Combo Pack Of 5 Casual Shoes Canvas Shoes For Men',\n",
       " 'SM-162 Navy Blue Walking Shoes,Training Shoes,Sneakers,...',\n",
       " 'Outdoor Casual Boots for Mens Boots For Men',\n",
       " 'Walking Shoes For Men',\n",
       " 'Walking Shoes For Women',\n",
       " 'Socks Stylish Cricket , Walking Shoes , Light Weight Sp...',\n",
       " 'SPEED RUNNER LP Running Shoes For Men',\n",
       " 'Walking Shoes For Men',\n",
       " 'Walking Shoes For Men',\n",
       " 'Running Shoes For Men',\n",
       " 'Sneakers For Men',\n",
       " 'Walking Shoes For Men',\n",
       " 'GO RUN FAST - STEADFAST Running Shoes For Men',\n",
       " 'Running Shoes For Men',\n",
       " 'Light Weight Sports Shoes Walking Shoes For Men',\n",
       " 'Canvas Shoes For Men',\n",
       " 'Mocassin, Casuals, Party Wear Loafers For Men',\n",
       " 'casual for men sneaker shoes high top shoes stylish Hig...',\n",
       " 'Ontario IDP Sneakers For Men',\n",
       " 'Climber Boots For Men',\n",
       " 'Ontario IDP Sneakers For Men',\n",
       " 'Party Casuals For Men',\n",
       " 'shoes For Mens Combo Running Shoes For Men',\n",
       " 'OXYFIT Casuals For Men',\n",
       " \"Casual , Partywear Sneakers Shoes For Men's And Boys Wh...\",\n",
       " 'Wmns Tanjun Running Shoes For Women',\n",
       " 'Lightweight Gymwear Sport Running Shoes Cricket Shoes F...',\n",
       " 'Oxygen Running Shoes For Men',\n",
       " 'Walking Shoes For Men',\n",
       " 'OXYFIT Casuals For Men',\n",
       " 'Captain-12 Running shoes for boys | sports shoes for me...',\n",
       " 'Dwane IDP Running Shoes For Men',\n",
       " 'Walking Shoes For Men',\n",
       " 'Running Shoes For Men',\n",
       " 'Leisure Running Mesh Version Of Fashion Students Breath...',\n",
       " 'Running Shoes For Men',\n",
       " 'Sneakers For Men',\n",
       " 'Loafers For Men',\n",
       " 'Classic Suede Footwear Loafers For Men',\n",
       " 'Combo Pack Of 5 Casual Shoes Canvas Shoes For Men',\n",
       " 'SM-162 Navy Blue Walking Shoes,Training Shoes,Sneakers,...',\n",
       " 'Outdoor Casual Boots for Mens Boots For Men',\n",
       " 'Walking Shoes For Men',\n",
       " 'Walking Shoes For Women',\n",
       " 'Socks Stylish Cricket , Walking Shoes , Light Weight Sp...',\n",
       " 'SPEED RUNNER LP Running Shoes For Men',\n",
       " 'Walking Shoes For Men',\n",
       " 'Walking Shoes For Men',\n",
       " 'Running Shoes For Men',\n",
       " 'Sneakers For Men',\n",
       " 'Walking Shoes For Men',\n",
       " 'GO RUN FAST - STEADFAST Running Shoes For Men',\n",
       " 'Running Shoes For Men',\n",
       " 'Light Weight Sports Shoes Walking Shoes For Men',\n",
       " 'Canvas Shoes For Men',\n",
       " 'Mocassin, Casuals, Party Wear Loafers For Men',\n",
       " 'casual for men sneaker shoes high top shoes stylish Hig...',\n",
       " 'Ontario IDP Sneakers For Men',\n",
       " 'Climber Boots For Men',\n",
       " 'Ontario IDP Sneakers For Men',\n",
       " 'Party Casuals For Men',\n",
       " 'shoes For Mens Combo Running Shoes For Men',\n",
       " 'OXYFIT Casuals For Men',\n",
       " \"Casual , Partywear Sneakers Shoes For Men's And Boys Wh...\",\n",
       " 'Wmns Tanjun Running Shoes For Women',\n",
       " 'Lightweight Gymwear Sport Running Shoes Cricket Shoes F...',\n",
       " 'Oxygen Running Shoes For Men',\n",
       " 'Walking Shoes For Men',\n",
       " 'OXYFIT Casuals For Men',\n",
       " 'Captain-12 Running shoes for boys | sports shoes for me...',\n",
       " 'Dwane IDP Running Shoes For Men',\n",
       " 'Walking Shoes For Men',\n",
       " 'Running Shoes For Men',\n",
       " 'Leisure Running Mesh Version Of Fashion Students Breath...',\n",
       " 'Running Shoes For Men',\n",
       " 'Sneakers For Men',\n",
       " 'Loafers For Men',\n",
       " 'Classic Suede Footwear Loafers For Men',\n",
       " 'Combo Pack Of 5 Casual Shoes Canvas Shoes For Men',\n",
       " 'SM-162 Navy Blue Walking Shoes,Training Shoes,Sneakers,...',\n",
       " 'Outdoor Casual Boots for Mens Boots For Men',\n",
       " 'Walking Shoes For Men',\n",
       " 'Walking Shoes For Women',\n",
       " 'Socks Stylish Cricket , Walking Shoes , Light Weight Sp...',\n",
       " 'SPEED RUNNER LP Running Shoes For Men',\n",
       " 'Walking Shoes For Men',\n",
       " 'Walking Shoes For Men',\n",
       " 'Running Shoes For Men',\n",
       " 'Sneakers For Men',\n",
       " 'Walking Shoes For Men',\n",
       " 'GO RUN FAST - STEADFAST Running Shoes For Men',\n",
       " 'Running Shoes For Men',\n",
       " 'Light Weight Sports Shoes Walking Shoes For Men',\n",
       " 'Canvas Shoes For Men',\n",
       " 'Mocassin, Casuals, Party Wear Loafers For Men',\n",
       " 'casual for men sneaker shoes high top shoes stylish Hig...',\n",
       " 'Ontario IDP Sneakers For Men',\n",
       " 'Walking Shoes For Women',\n",
       " 'Running Shoes For Men',\n",
       " 'Walking Shoes For Men',\n",
       " 'Mesh Sports Walking Shoes For Men',\n",
       " 'Socks Stylish Cricket , Walking Shoes , Light Weight Sp...',\n",
       " 'Future-01 running shoes For Men',\n",
       " 'Worldcup-03 Running shoes for boys | sports shoes for m...',\n",
       " 'Jio-13 Running Shoes For Men',\n",
       " 'Classic Suede Footwear Loafers For Men',\n",
       " 'COURTKING2 Badminton Shoes For Men',\n",
       " 'Oxygen Running Shoes For Men',\n",
       " 'Skypy-31 Walking Shoes,Training Shoes,Sneakers,Loafers,...',\n",
       " 'Walking Shoes For Men',\n",
       " 'Casuals For Men',\n",
       " 'Combo Pack of 4 Latest Collection Stylish Casual Loafer...',\n",
       " 'Boxer-303 Sneakers For Men',\n",
       " 'Fit-Man Slip On Sneakers For Men',\n",
       " 'STRIDE RUNNER Running Shoes For Women',\n",
       " 'Running Shoes For Men',\n",
       " 'Adi-Pace M Running Shoes For Men',\n",
       " 'Zod Runner V3 IDP Running Shoes For Men',\n",
       " 'Smash Badminton Shoes For Men',\n",
       " 'Running Shoes For Men',\n",
       " 'MCW-145 Running Shoes For Men',\n",
       " 'GORUNFAST-QUAKE Running Shoes For Men',\n",
       " \"Airsocks-12 Men's Flyknit Socks Sneakers,Ultra-lightwei...\",\n",
       " 'Casual sneakers and loafers shoes Combo(MR)-1720-1243 (...',\n",
       " 'SOCKS Casuals For Men',\n",
       " 'Casuals, Canvas, Partywear Sneakers For Men',\n",
       " 'Outdoor Casual Boots for Mens Boots For Men',\n",
       " 'Combo Pack Of 2 Casual Shoes Slip On Sneakers For Men',\n",
       " '5011-Latest Collection Stylish Casual Loafer Sneakers S...',\n",
       " 'Perfect Stylish Girls Casual Shoes Sneakers For Women',\n",
       " 'TRAVELLAR LP Running Shoes For Men',\n",
       " 'sports shoes for men | Latest Stylish Casual sneakers f...',\n",
       " 'SOCKS Running Shoes For Men']"
      ]
     },
     "execution_count": 212,
     "metadata": {},
     "output_type": "execute_result"
    }
   ],
   "source": [
    "p=driver.find_elements_by_xpath(\"//a[@class='IRpwTa']\")\n",
    "for i in p:\n",
    "    Pd.append(i.text)\n",
    "Pd"
   ]
  },
  {
   "cell_type": "code",
   "execution_count": 213,
   "metadata": {},
   "outputs": [
    {
     "data": {
      "text/plain": [
       "['₹424',\n",
       " '₹1,047',\n",
       " '₹299',\n",
       " '₹498',\n",
       " '₹679',\n",
       " '₹365',\n",
       " '₹4,995',\n",
       " '₹310',\n",
       " '₹474',\n",
       " '₹426',\n",
       " '₹779',\n",
       " '₹629',\n",
       " '₹1,479',\n",
       " '₹399',\n",
       " '₹426',\n",
       " '₹318',\n",
       " '₹350',\n",
       " '₹599',\n",
       " '₹341',\n",
       " '₹584',\n",
       " '₹699',\n",
       " '₹474',\n",
       " '₹538',\n",
       " '₹426',\n",
       " '₹640',\n",
       " '₹398',\n",
       " '₹1,259',\n",
       " '₹499',\n",
       " '₹764',\n",
       " '₹318',\n",
       " '₹398',\n",
       " '₹474',\n",
       " '₹2,499',\n",
       " '₹549',\n",
       " '₹404',\n",
       " '₹284',\n",
       " '₹424',\n",
       " '₹449',\n",
       " '₹1,047',\n",
       " '₹499',\n",
       " '₹424',\n",
       " '₹1,047',\n",
       " '₹299',\n",
       " '₹498',\n",
       " '₹679',\n",
       " '₹365',\n",
       " '₹4,995',\n",
       " '₹310',\n",
       " '₹474',\n",
       " '₹426',\n",
       " '₹779',\n",
       " '₹629',\n",
       " '₹1,479',\n",
       " '₹399',\n",
       " '₹426',\n",
       " '₹318',\n",
       " '₹350',\n",
       " '₹599',\n",
       " '₹341',\n",
       " '₹584',\n",
       " '₹699',\n",
       " '₹474',\n",
       " '₹538',\n",
       " '₹426',\n",
       " '₹640',\n",
       " '₹398',\n",
       " '₹1,259',\n",
       " '₹499',\n",
       " '₹764',\n",
       " '₹318',\n",
       " '₹398',\n",
       " '₹474',\n",
       " '₹2,499',\n",
       " '₹549',\n",
       " '₹404',\n",
       " '₹284',\n",
       " '₹424',\n",
       " '₹449',\n",
       " '₹1,047',\n",
       " '₹499',\n",
       " '₹379',\n",
       " '₹640',\n",
       " '₹349',\n",
       " '₹399',\n",
       " '₹299',\n",
       " '₹399',\n",
       " '₹474',\n",
       " '₹1,349',\n",
       " '₹497',\n",
       " '₹584',\n",
       " '₹1,253',\n",
       " '₹474',\n",
       " '₹569',\n",
       " '₹426',\n",
       " '₹426',\n",
       " '₹474',\n",
       " '₹284',\n",
       " '₹255',\n",
       " '₹1,322',\n",
       " '₹318',\n",
       " '₹2,599',\n",
       " '₹1,579',\n",
       " '₹1,393',\n",
       " '₹549',\n",
       " '₹299',\n",
       " '₹2,649',\n",
       " '₹629',\n",
       " '₹399',\n",
       " '₹498',\n",
       " '₹499',\n",
       " '₹426',\n",
       " '₹424',\n",
       " '₹538',\n",
       " '₹407',\n",
       " '₹299',\n",
       " '₹216',\n",
       " '₹255',\n",
       " '₹1,559',\n",
       " '₹379',\n",
       " '₹499']"
      ]
     },
     "execution_count": 213,
     "metadata": {},
     "output_type": "execute_result"
    }
   ],
   "source": [
    "r=driver.find_elements_by_xpath(\"//div[@class='_30jeq3']\")\n",
    "for i in r:\n",
    "    Pr.append(i.text)\n",
    "Pr"
   ]
  },
  {
   "cell_type": "code",
   "execution_count": 214,
   "metadata": {},
   "outputs": [
    {
     "data": {
      "text/plain": [
       "['57% off',\n",
       " '65% off',\n",
       " '70% off',\n",
       " '50% off',\n",
       " '15% off',\n",
       " '63% off',\n",
       " '68% off',\n",
       " '52% off',\n",
       " '57% off',\n",
       " '2% off',\n",
       " '37% off',\n",
       " '63% off',\n",
       " '60% off',\n",
       " '57% off',\n",
       " '68% off',\n",
       " '64% off',\n",
       " '72% off',\n",
       " '65% off',\n",
       " '41% off',\n",
       " '82% off',\n",
       " '5% off',\n",
       " '46% off',\n",
       " '57% off',\n",
       " '57% off',\n",
       " '60% off',\n",
       " '55% off',\n",
       " '16% off',\n",
       " '41% off',\n",
       " '68% off',\n",
       " '60% off',\n",
       " '52% off',\n",
       " '50% off',\n",
       " '65% off',\n",
       " '59% off',\n",
       " '43% off',\n",
       " '57% off',\n",
       " '55% off',\n",
       " '65% off',\n",
       " '50% off',\n",
       " '57% off',\n",
       " '65% off',\n",
       " '70% off',\n",
       " '50% off',\n",
       " '15% off',\n",
       " '63% off',\n",
       " '68% off',\n",
       " '52% off',\n",
       " '57% off',\n",
       " '2% off',\n",
       " '37% off',\n",
       " '63% off',\n",
       " '60% off',\n",
       " '57% off',\n",
       " '68% off',\n",
       " '64% off',\n",
       " '72% off',\n",
       " '65% off',\n",
       " '41% off',\n",
       " '82% off',\n",
       " '5% off',\n",
       " '46% off',\n",
       " '57% off',\n",
       " '57% off',\n",
       " '60% off',\n",
       " '55% off',\n",
       " '16% off',\n",
       " '41% off',\n",
       " '68% off',\n",
       " '60% off',\n",
       " '52% off',\n",
       " '50% off',\n",
       " '65% off',\n",
       " '59% off',\n",
       " '43% off',\n",
       " '57% off',\n",
       " '55% off',\n",
       " '65% off',\n",
       " '50% off',\n",
       " '62% off',\n",
       " '57% off',\n",
       " '65% off',\n",
       " '60% off',\n",
       " '70% off',\n",
       " '60% off',\n",
       " '13% off',\n",
       " '32% off',\n",
       " '17% off',\n",
       " '41% off',\n",
       " '30% off',\n",
       " '52% off',\n",
       " '5% off',\n",
       " '57% off',\n",
       " '57% off',\n",
       " '76% off',\n",
       " '43% off',\n",
       " '80% off',\n",
       " '37% off',\n",
       " '68% off',\n",
       " '48% off',\n",
       " '60% off',\n",
       " '30% off',\n",
       " '65% off',\n",
       " '76% off',\n",
       " '50% off',\n",
       " '58% off',\n",
       " '60% off',\n",
       " '50% off',\n",
       " '50% off',\n",
       " '57% off',\n",
       " '57% off',\n",
       " '46% off',\n",
       " '59% off',\n",
       " '88% off',\n",
       " '56% off',\n",
       " '48% off',\n",
       " '48% off',\n",
       " '62% off',\n",
       " '50% off']"
      ]
     },
     "execution_count": 214,
     "metadata": {},
     "output_type": "execute_result"
    }
   ],
   "source": [
    "l=driver.find_elements_by_xpath(\"//div[@class='_3Ay6Sb']\")\n",
    "for i in l:\n",
    "    di.append(i.text)\n",
    "di"
   ]
  },
  {
   "cell_type": "code",
   "execution_count": 216,
   "metadata": {},
   "outputs": [
    {
     "data": {
      "text/html": [
       "<div>\n",
       "<style scoped>\n",
       "    .dataframe tbody tr th:only-of-type {\n",
       "        vertical-align: middle;\n",
       "    }\n",
       "\n",
       "    .dataframe tbody tr th {\n",
       "        vertical-align: top;\n",
       "    }\n",
       "\n",
       "    .dataframe thead th {\n",
       "        text-align: right;\n",
       "    }\n",
       "</style>\n",
       "<table border=\"1\" class=\"dataframe\">\n",
       "  <thead>\n",
       "    <tr style=\"text-align: right;\">\n",
       "      <th></th>\n",
       "      <th>Brand</th>\n",
       "      <th>Product_description</th>\n",
       "      <th>Price</th>\n",
       "      <th>Discount</th>\n",
       "    </tr>\n",
       "  </thead>\n",
       "  <tbody>\n",
       "    <tr>\n",
       "      <th>0</th>\n",
       "      <td>Kraasa</td>\n",
       "      <td>Climber Boots For Men</td>\n",
       "      <td>₹424</td>\n",
       "      <td>57% off</td>\n",
       "    </tr>\n",
       "    <tr>\n",
       "      <th>1</th>\n",
       "      <td>Puma</td>\n",
       "      <td>Ontario IDP Sneakers For Men</td>\n",
       "      <td>₹1,047</td>\n",
       "      <td>65% off</td>\n",
       "    </tr>\n",
       "    <tr>\n",
       "      <th>2</th>\n",
       "      <td>GS</td>\n",
       "      <td>Party Casuals For Men</td>\n",
       "      <td>₹299</td>\n",
       "      <td>70% off</td>\n",
       "    </tr>\n",
       "    <tr>\n",
       "      <th>3</th>\n",
       "      <td>Swiggy</td>\n",
       "      <td>shoes For Mens Combo Running Shoes For Men</td>\n",
       "      <td>₹498</td>\n",
       "      <td>50% off</td>\n",
       "    </tr>\n",
       "    <tr>\n",
       "      <th>4</th>\n",
       "      <td>Campus</td>\n",
       "      <td>OXYFIT Casuals For Men</td>\n",
       "      <td>₹679</td>\n",
       "      <td>15% off</td>\n",
       "    </tr>\n",
       "    <tr>\n",
       "      <th>...</th>\n",
       "      <td>...</td>\n",
       "      <td>...</td>\n",
       "      <td>...</td>\n",
       "      <td>...</td>\n",
       "    </tr>\n",
       "    <tr>\n",
       "      <th>95</th>\n",
       "      <td>World Wear Footwear</td>\n",
       "      <td>Sneakers For Men</td>\n",
       "      <td>₹474</td>\n",
       "      <td>80% off</td>\n",
       "    </tr>\n",
       "    <tr>\n",
       "      <th>96</th>\n",
       "      <td>Oricum</td>\n",
       "      <td>Loafers For Men</td>\n",
       "      <td>₹284</td>\n",
       "      <td>37% off</td>\n",
       "    </tr>\n",
       "    <tr>\n",
       "      <th>97</th>\n",
       "      <td>BRUTON</td>\n",
       "      <td>Classic Suede Footwear Loafers For Men</td>\n",
       "      <td>₹255</td>\n",
       "      <td>68% off</td>\n",
       "    </tr>\n",
       "    <tr>\n",
       "      <th>98</th>\n",
       "      <td>REEBOK</td>\n",
       "      <td>Combo Pack Of 5 Casual Shoes Canvas Shoes For Men</td>\n",
       "      <td>₹1,322</td>\n",
       "      <td>48% off</td>\n",
       "    </tr>\n",
       "    <tr>\n",
       "      <th>99</th>\n",
       "      <td>MILESWALKER</td>\n",
       "      <td>SM-162 Navy Blue Walking Shoes,Training Shoes,...</td>\n",
       "      <td>₹318</td>\n",
       "      <td>60% off</td>\n",
       "    </tr>\n",
       "  </tbody>\n",
       "</table>\n",
       "<p>100 rows × 4 columns</p>\n",
       "</div>"
      ],
      "text/plain": [
       "                  Brand                                Product_description  \\\n",
       "0                Kraasa                              Climber Boots For Men   \n",
       "1                  Puma                       Ontario IDP Sneakers For Men   \n",
       "2                    GS                              Party Casuals For Men   \n",
       "3                Swiggy         shoes For Mens Combo Running Shoes For Men   \n",
       "4                Campus                             OXYFIT Casuals For Men   \n",
       "..                  ...                                                ...   \n",
       "95  World Wear Footwear                                   Sneakers For Men   \n",
       "96               Oricum                                    Loafers For Men   \n",
       "97               BRUTON             Classic Suede Footwear Loafers For Men   \n",
       "98               REEBOK  Combo Pack Of 5 Casual Shoes Canvas Shoes For Men   \n",
       "99          MILESWALKER  SM-162 Navy Blue Walking Shoes,Training Shoes,...   \n",
       "\n",
       "     Price Discount  \n",
       "0     ₹424  57% off  \n",
       "1   ₹1,047  65% off  \n",
       "2     ₹299  70% off  \n",
       "3     ₹498  50% off  \n",
       "4     ₹679  15% off  \n",
       "..     ...      ...  \n",
       "95    ₹474  80% off  \n",
       "96    ₹284  37% off  \n",
       "97    ₹255  68% off  \n",
       "98  ₹1,322  48% off  \n",
       "99    ₹318  60% off  \n",
       "\n",
       "[100 rows x 4 columns]"
      ]
     },
     "execution_count": 216,
     "metadata": {},
     "output_type": "execute_result"
    }
   ],
   "source": [
    "# Creating a dataframe for shoes. \n",
    "shoe=pd.DataFrame({})\n",
    "shoe['Brand']=br[0:100]\n",
    "shoe['Product_description']=Pd[0:100]\n",
    "shoe['Price']=Pr[0:100]\n",
    "shoe['Discount']=di[0:100]\n",
    "shoe"
   ]
  },
  {
   "cell_type": "code",
   "execution_count": 220,
   "metadata": {},
   "outputs": [],
   "source": [
    "driver.close()"
   ]
  },
  {
   "cell_type": "markdown",
   "metadata": {},
   "source": [
    "# Q9. Scrape 100 shoes from myntra.com using filter price & and colour as black."
   ]
  },
  {
   "cell_type": "code",
   "execution_count": 108,
   "metadata": {},
   "outputs": [],
   "source": [
    "#Lets first connect to web driver\n",
    "driver=webdriver.Chrome(\"C:\\web driver\\chromedriver.exe\")"
   ]
  },
  {
   "cell_type": "code",
   "execution_count": 109,
   "metadata": {},
   "outputs": [],
   "source": [
    "driver.get('https://www.myntra.com/shoes')"
   ]
  },
  {
   "cell_type": "code",
   "execution_count": 110,
   "metadata": {},
   "outputs": [],
   "source": [
    "driver.find_element_by_xpath(\"//label[@class='common-customCheckbox']/div\").click()"
   ]
  },
  {
   "cell_type": "code",
   "execution_count": 111,
   "metadata": {},
   "outputs": [],
   "source": [
    "driver.find_element_by_xpath(\"//ul[@class='price-list']//li[2]\").click()"
   ]
  },
  {
   "cell_type": "code",
   "execution_count": 112,
   "metadata": {},
   "outputs": [],
   "source": [
    "#specifing the url of the webpage to be scraped\n",
    "url='https://www.myntra.com/shoes?f=Color%3ABlack_36454f&plaEnabled=false&rf=Price%3A249.0_6687.0_249.0%20TO%206687.0%2C6589.0_13059.0_6589.0%20TO%2013059.0'"
   ]
  },
  {
   "cell_type": "code",
   "execution_count": 113,
   "metadata": {},
   "outputs": [
    {
     "data": {
      "text/plain": [
       "['Nike',\n",
       " 'Puma',\n",
       " 'Nike',\n",
       " 'ADIDAS Originals',\n",
       " 'Nike',\n",
       " 'Nike',\n",
       " 'Cole Haan',\n",
       " 'Nike',\n",
       " 'Nike',\n",
       " 'ADIDAS',\n",
       " 'Geox',\n",
       " 'Nike',\n",
       " 'ADIDAS Originals',\n",
       " 'Nike',\n",
       " 'Puma',\n",
       " 'ADIDAS Originals',\n",
       " 'Hush Puppies',\n",
       " 'Cole Haan',\n",
       " 'Nike',\n",
       " 'Cole Haan',\n",
       " 'Geox',\n",
       " 'ADIDAS Originals',\n",
       " 'Hush Puppies',\n",
       " 'Geox',\n",
       " 'ADIDAS Originals',\n",
       " 'Geox',\n",
       " 'Geox',\n",
       " 'Hush Puppies',\n",
       " 'Nike',\n",
       " 'ADIDAS Originals',\n",
       " 'ADIDAS Originals',\n",
       " 'UNDER ARMOUR',\n",
       " 'Nike',\n",
       " 'ADIDAS',\n",
       " 'Hush Puppies',\n",
       " 'Cole Haan',\n",
       " 'ADIDAS Originals',\n",
       " 'Geox',\n",
       " 'Cole Haan',\n",
       " 'Nike',\n",
       " 'Geox',\n",
       " 'Cole Haan',\n",
       " 'Geox',\n",
       " 'Kenneth Cole',\n",
       " 'Kenneth Cole',\n",
       " 'Heel & Buckle London',\n",
       " 'UNDER ARMOUR',\n",
       " 'Geox',\n",
       " 'Geox',\n",
       " 'Geox']"
      ]
     },
     "execution_count": 113,
     "metadata": {},
     "output_type": "execute_result"
    }
   ],
   "source": [
    "br=[]\n",
    "a=driver.find_elements_by_xpath(\"//h3[@class='product-brand']\")\n",
    "for i in a:\n",
    "    br.append(i.text)\n",
    "br"
   ]
  },
  {
   "cell_type": "code",
   "execution_count": 114,
   "metadata": {},
   "outputs": [
    {
     "data": {
      "text/plain": [
       "['Men AIR MAX 90 Sneakers',\n",
       " 'Men HYBRID NETFIT Running Shoe',\n",
       " 'PEGASUS FLYEASE Running Shoes',\n",
       " 'Men Nite Jogger Fluid Sneakers',\n",
       " 'Men AIR ZOOM VOMERO Running',\n",
       " 'Men JORDAN DELTA Basketball',\n",
       " 'Women Leather Sneakers',\n",
       " 'Men JOYRIDE Running Shoes',\n",
       " 'AIR ZOOM PEGASUS Running Shoes',\n",
       " 'Men SOLAR DRIVE 19 M Running',\n",
       " 'Men Leather Driving Shoes',\n",
       " 'Women PEGASUS 37 Running Shoes',\n",
       " 'Women Swift Run Sneakers',\n",
       " 'Men React Infinity Running',\n",
       " 'Men SPEED 500 2 Running Shoes',\n",
       " 'Men Solid NMD_R1 Sneakers',\n",
       " 'Men Solid Leather Formal Slip-Ons',\n",
       " 'Men Solid Sneakers',\n",
       " 'Women AIR ZOOM Running Shoes',\n",
       " 'Men GENERATION ZEROGRAND STITCHLITE',\n",
       " 'Men Leather Sneakers',\n",
       " 'Men NITE JOGGER Sneakers',\n",
       " 'Men Leather Slip-On Sneakers',\n",
       " 'Men Leather Driving Shoes',\n",
       " 'Men Superstar Sneakers',\n",
       " 'Men Leather Formal Derbys',\n",
       " 'Men Solid Leather Sneakers',\n",
       " 'Men Colourblocked Driving Shoes',\n",
       " 'Women REACT Running Shoes',\n",
       " 'Women DEERUPT Runner Sneakers',\n",
       " 'Men YUNG-1 Sneakers',\n",
       " 'HOVR Guardian 2 Sports Shoes',\n",
       " 'Men AIR ZOOM Running Shoes',\n",
       " 'Men ALPHATORSION Running Shoes',\n",
       " 'Men Solid Slip-On Sneakers',\n",
       " 'Leather Sneakers',\n",
       " 'Men Superstar Vegan Sneakers',\n",
       " 'Women Sequinned Sneakers',\n",
       " 'Men Traveller Leather Penny Loafers',\n",
       " 'Men KD13 EP Basketball Shoes',\n",
       " 'Men Leather Formal Oxfords',\n",
       " 'Men Wingtip Oxford Sneakers',\n",
       " 'Men Leather Formal Oxfords',\n",
       " 'Women Solid Flat Boots',\n",
       " 'Women LeatherSneakers',\n",
       " 'Men Leather Formal Oxfords',\n",
       " 'Men HOVR Strt Walking Shoes',\n",
       " 'Women Slip-On Sneakers',\n",
       " 'Women Leather Ballerinas',\n",
       " 'Women Leather Ballerinas']"
      ]
     },
     "execution_count": 114,
     "metadata": {},
     "output_type": "execute_result"
    }
   ],
   "source": [
    "descrp=[]\n",
    "b=driver.find_elements_by_xpath(\"//h4[@class='product-product']\")\n",
    "for i in b:\n",
    "    descrp.append(i.text)\n",
    "descrp"
   ]
  },
  {
   "cell_type": "code",
   "execution_count": 115,
   "metadata": {},
   "outputs": [
    {
     "data": {
      "text/plain": [
       "['Rs. 7927Rs. 10295',\n",
       " 'Rs. 7927',\n",
       " 'Rs. 6599Rs. 10999',\n",
       " 'Rs. 6599',\n",
       " 'Rs. 7496Rs. 9995',\n",
       " 'Rs. 7496',\n",
       " 'Rs. 10399Rs. 12999',\n",
       " 'Rs. 10399',\n",
       " 'Rs. 10796Rs. 13495',\n",
       " 'Rs. 10796',\n",
       " 'Rs. 12495',\n",
       " 'Rs. 10999',\n",
       " 'Rs. 11996Rs. 14995',\n",
       " 'Rs. 11996',\n",
       " 'Rs. 8621Rs. 11495',\n",
       " 'Rs. 8621',\n",
       " 'Rs. 8399Rs. 11999',\n",
       " 'Rs. 8399',\n",
       " 'Rs. 9999',\n",
       " 'Rs. 7996Rs. 9995',\n",
       " 'Rs. 7996',\n",
       " 'Rs. 7999',\n",
       " 'Rs. 11931Rs. 15495',\n",
       " 'Rs. 11931',\n",
       " 'Rs. 7999Rs. 9999',\n",
       " 'Rs. 7999',\n",
       " 'Rs. 9099Rs. 12999',\n",
       " 'Rs. 9099',\n",
       " 'Rs. 9999',\n",
       " 'Rs. 8499Rs. 16999',\n",
       " 'Rs. 8499',\n",
       " 'Rs. 7496Rs. 9995',\n",
       " 'Rs. 7496',\n",
       " 'Rs. 11999',\n",
       " 'Rs. 9999',\n",
       " 'Rs. 11199Rs. 13999',\n",
       " 'Rs. 11199',\n",
       " 'Rs. 6999',\n",
       " 'Rs. 7999',\n",
       " 'Rs. 8799Rs. 10999',\n",
       " 'Rs. 8799',\n",
       " 'Rs. 11490',\n",
       " 'Rs. 11999',\n",
       " 'Rs. 8999',\n",
       " 'Rs. 8636Rs. 11995',\n",
       " 'Rs. 8636',\n",
       " 'Rs. 8999',\n",
       " 'Rs. 6819Rs. 10999',\n",
       " 'Rs. 6819',\n",
       " 'Rs. 11999',\n",
       " 'Rs. 7721Rs. 10295',\n",
       " 'Rs. 7721',\n",
       " 'Rs. 7499Rs. 9999',\n",
       " 'Rs. 7499',\n",
       " 'Rs. 6999',\n",
       " 'Rs. 10999',\n",
       " 'Rs. 6799Rs. 7999',\n",
       " 'Rs. 6799',\n",
       " 'Rs. 9999',\n",
       " 'Rs. 9999Rs. 19999',\n",
       " 'Rs. 9999',\n",
       " 'Rs. 9746Rs. 12995',\n",
       " 'Rs. 9746',\n",
       " 'Rs. 10490',\n",
       " 'Rs. 12999',\n",
       " 'Rs. 12490',\n",
       " 'Rs. 9513Rs. 13590',\n",
       " 'Rs. 9513',\n",
       " 'Rs. 7343Rs. 10490',\n",
       " 'Rs. 7343',\n",
       " 'Rs. 7693Rs. 10990',\n",
       " 'Rs. 7693',\n",
       " 'Rs. 9999',\n",
       " 'Rs. 8499',\n",
       " 'Rs. 8499',\n",
       " 'Rs. 8499']"
      ]
     },
     "execution_count": 115,
     "metadata": {},
     "output_type": "execute_result"
    }
   ],
   "source": [
    "pr=[]\n",
    "n=driver.find_elements_by_xpath(\"//div[@class='product-price']//span[1]\")\n",
    "for i in n:\n",
    "    pr.append(i.text)\n",
    "pr"
   ]
  },
  {
   "cell_type": "code",
   "execution_count": 116,
   "metadata": {},
   "outputs": [
    {
     "data": {
      "text/plain": [
       "['Rs. 7927',\n",
       " 'Rs. 6599',\n",
       " 'Rs. 7496',\n",
       " 'Rs. 8621',\n",
       " 'Rs. 8399',\n",
       " 'Rs. 9999',\n",
       " 'Rs. 7996',\n",
       " 'Rs. 7999',\n",
       " 'Rs. 7999',\n",
       " 'Rs. 9099',\n",
       " 'Rs. 9999',\n",
       " 'Rs. 8499',\n",
       " 'Rs. 7496',\n",
       " 'Rs. 9999',\n",
       " 'Rs. 6999',\n",
       " 'Rs. 7999',\n",
       " 'Rs. 8799',\n",
       " 'Rs. 8999',\n",
       " 'Rs. 8636',\n",
       " 'Rs. 8999',\n",
       " 'Rs. 6819',\n",
       " 'Rs. 7721',\n",
       " 'Rs. 7499',\n",
       " 'Rs. 6999',\n",
       " 'Rs. 6799',\n",
       " 'Rs. 9999',\n",
       " 'Rs. 9999',\n",
       " 'Rs. 9746',\n",
       " 'Rs. 9513',\n",
       " 'Rs. 7343',\n",
       " 'Rs. 7693',\n",
       " 'Rs. 9999',\n",
       " 'Rs. 8499',\n",
       " 'Rs. 8499',\n",
       " 'Rs. 8499']"
      ]
     },
     "execution_count": 116,
     "metadata": {},
     "output_type": "execute_result"
    }
   ],
   "source": [
    "price=[]\n",
    "for i in pr:\n",
    "    if len(i)<9:\n",
    "        price.append(i)\n",
    "price"
   ]
  },
  {
   "cell_type": "code",
   "execution_count": 117,
   "metadata": {},
   "outputs": [
    {
     "data": {
      "text/plain": [
       "35"
      ]
     },
     "execution_count": 117,
     "metadata": {},
     "output_type": "execute_result"
    }
   ],
   "source": [
    "len(price)"
   ]
  },
  {
   "cell_type": "code",
   "execution_count": 118,
   "metadata": {},
   "outputs": [],
   "source": [
    "driver.find_element_by_xpath(\"//li[@class='pagination-next']/a\").click()\n"
   ]
  },
  {
   "cell_type": "code",
   "execution_count": 119,
   "metadata": {},
   "outputs": [],
   "source": [
    "#specifying the url of the webpage to be scraped from the website.\n",
    "url1='https://www.myntra.com/shoes?f=Color%3ABlack_36454f&p=2&plaEnabled=false&rf=Price%3A249.0_6687.0_249.0%20TO%206687.0%2C6589.0_13059.0_6589.0%20TO%2013059.0'"
   ]
  },
  {
   "cell_type": "code",
   "execution_count": 120,
   "metadata": {},
   "outputs": [
    {
     "data": {
      "text/plain": [
       "['Nike',\n",
       " 'Puma',\n",
       " 'Nike',\n",
       " 'ADIDAS Originals',\n",
       " 'Nike',\n",
       " 'Nike',\n",
       " 'Cole Haan',\n",
       " 'Nike',\n",
       " 'Nike',\n",
       " 'ADIDAS',\n",
       " 'Geox',\n",
       " 'Nike',\n",
       " 'ADIDAS Originals',\n",
       " 'Nike',\n",
       " 'Puma',\n",
       " 'ADIDAS Originals',\n",
       " 'Hush Puppies',\n",
       " 'Cole Haan',\n",
       " 'Nike',\n",
       " 'Cole Haan',\n",
       " 'Geox',\n",
       " 'ADIDAS Originals',\n",
       " 'Hush Puppies',\n",
       " 'Geox',\n",
       " 'ADIDAS Originals',\n",
       " 'Geox',\n",
       " 'Geox',\n",
       " 'Hush Puppies',\n",
       " 'Nike',\n",
       " 'ADIDAS Originals',\n",
       " 'ADIDAS Originals',\n",
       " 'UNDER ARMOUR',\n",
       " 'Nike',\n",
       " 'ADIDAS',\n",
       " 'Hush Puppies',\n",
       " 'Cole Haan',\n",
       " 'ADIDAS Originals',\n",
       " 'Geox',\n",
       " 'Cole Haan',\n",
       " 'Nike',\n",
       " 'Geox',\n",
       " 'Cole Haan',\n",
       " 'Geox',\n",
       " 'Kenneth Cole',\n",
       " 'Kenneth Cole',\n",
       " 'Heel & Buckle London',\n",
       " 'UNDER ARMOUR',\n",
       " 'Geox',\n",
       " 'Geox',\n",
       " 'Geox',\n",
       " 'ADIDAS',\n",
       " 'Cole Haan',\n",
       " 'Kenneth Cole',\n",
       " 'Hush Puppies',\n",
       " 'DIESEL',\n",
       " 'Nike',\n",
       " 'Kenneth Cole',\n",
       " 'Hush Puppies',\n",
       " 'Hush Puppies',\n",
       " 'Puma',\n",
       " 'Nike',\n",
       " 'Kenneth Cole',\n",
       " 'Geox',\n",
       " 'Kenneth Cole',\n",
       " 'UNDER ARMOUR',\n",
       " 'Cole Haan',\n",
       " 'Saint G',\n",
       " 'Kenneth Cole',\n",
       " 'Kenneth Cole',\n",
       " 'Xtep',\n",
       " 'Cole Haan',\n",
       " 'ADIDAS Originals',\n",
       " 'Puma',\n",
       " 'ADIDAS Originals',\n",
       " 'Reebok',\n",
       " 'Ruosh',\n",
       " 'Hush Puppies',\n",
       " 'Reebok',\n",
       " 'Geox',\n",
       " 'Heel & Buckle London',\n",
       " 'Ruosh',\n",
       " 'UNDER ARMOUR',\n",
       " 'UNDER ARMOUR',\n",
       " 'Reebok',\n",
       " 'Puma',\n",
       " 'UNDER ARMOUR',\n",
       " 'Ruosh',\n",
       " 'UNDER ARMOUR',\n",
       " 'Ruosh',\n",
       " 'UNDER ARMOUR',\n",
       " 'FILA',\n",
       " 'UNDER ARMOUR',\n",
       " 'UNDER ARMOUR',\n",
       " 'Geox',\n",
       " 'UNDER ARMOUR',\n",
       " 'UNDER ARMOUR',\n",
       " 'Geox',\n",
       " 'Hush Puppies',\n",
       " 'Saint G',\n",
       " 'Geox']"
      ]
     },
     "execution_count": 120,
     "metadata": {},
     "output_type": "execute_result"
    }
   ],
   "source": [
    "g=driver.find_elements_by_xpath(\"//h3[@class='product-brand']\")\n",
    "for i in g:\n",
    "    br.append(i.text)\n",
    "br"
   ]
  },
  {
   "cell_type": "code",
   "execution_count": 121,
   "metadata": {},
   "outputs": [
    {
     "data": {
      "text/plain": [
       "['Men AIR MAX 90 Sneakers',\n",
       " 'Men HYBRID NETFIT Running Shoe',\n",
       " 'PEGASUS FLYEASE Running Shoes',\n",
       " 'Men Nite Jogger Fluid Sneakers',\n",
       " 'Men AIR ZOOM VOMERO Running',\n",
       " 'Men JORDAN DELTA Basketball',\n",
       " 'Women Leather Sneakers',\n",
       " 'Men JOYRIDE Running Shoes',\n",
       " 'AIR ZOOM PEGASUS Running Shoes',\n",
       " 'Men SOLAR DRIVE 19 M Running',\n",
       " 'Men Leather Driving Shoes',\n",
       " 'Women PEGASUS 37 Running Shoes',\n",
       " 'Women Swift Run Sneakers',\n",
       " 'Men React Infinity Running',\n",
       " 'Men SPEED 500 2 Running Shoes',\n",
       " 'Men Solid NMD_R1 Sneakers',\n",
       " 'Men Solid Leather Formal Slip-Ons',\n",
       " 'Men Solid Sneakers',\n",
       " 'Women AIR ZOOM Running Shoes',\n",
       " 'Men GENERATION ZEROGRAND STITCHLITE',\n",
       " 'Men Leather Sneakers',\n",
       " 'Men NITE JOGGER Sneakers',\n",
       " 'Men Leather Slip-On Sneakers',\n",
       " 'Men Leather Driving Shoes',\n",
       " 'Men Superstar Sneakers',\n",
       " 'Men Leather Formal Derbys',\n",
       " 'Men Solid Leather Sneakers',\n",
       " 'Men Colourblocked Driving Shoes',\n",
       " 'Women REACT Running Shoes',\n",
       " 'Women DEERUPT Runner Sneakers',\n",
       " 'Men YUNG-1 Sneakers',\n",
       " 'HOVR Guardian 2 Sports Shoes',\n",
       " 'Men AIR ZOOM Running Shoes',\n",
       " 'Men ALPHATORSION Running Shoes',\n",
       " 'Men Solid Slip-On Sneakers',\n",
       " 'Leather Sneakers',\n",
       " 'Men Superstar Vegan Sneakers',\n",
       " 'Women Sequinned Sneakers',\n",
       " 'Men Traveller Leather Penny Loafers',\n",
       " 'Men KD13 EP Basketball Shoes',\n",
       " 'Men Leather Formal Oxfords',\n",
       " 'Men Wingtip Oxford Sneakers',\n",
       " 'Men Leather Formal Oxfords',\n",
       " 'Women Solid Flat Boots',\n",
       " 'Women LeatherSneakers',\n",
       " 'Men Leather Formal Oxfords',\n",
       " 'Men HOVR Strt Walking Shoes',\n",
       " 'Women Slip-On Sneakers',\n",
       " 'Women Leather Ballerinas',\n",
       " 'Women Leather Ballerinas',\n",
       " 'Men Gametalker Basketball',\n",
       " 'Women Woven Design Sneakers',\n",
       " '',\n",
       " 'Men Solid Leather Formal Slip-Ons',\n",
       " 'Men DANNY LC Sneakers',\n",
       " 'Women AIR MAX VERONA Sneakers',\n",
       " 'Men Leather Formal Derbys',\n",
       " 'Men Textured Oxfords',\n",
       " 'Men Leather Slip-On Sneakers',\n",
       " 'Men Running Shoes',\n",
       " 'Men JORDAN DELTA Sneakers',\n",
       " 'Men Formal Derbys',\n",
       " 'Men Leather Driving Shoes',\n",
       " 'Men Formal Derbys',\n",
       " 'Men HOVR Sonic 3 Running Shoes',\n",
       " 'Men Formal Leather Brogues',\n",
       " 'Leather Heeled Boots',\n",
       " 'Men Solid Leather Formal Oxfords',\n",
       " 'Men Leather Driving Shoes',\n",
       " 'Men Running Shoes',\n",
       " 'Women Leather Sneakers',\n",
       " 'Women Swift Run Sneakers',\n",
       " 'Unisex Running Shoes',\n",
       " 'Women DEERUPT Runner Sneakers',\n",
       " 'Forever Floatride Energy 2',\n",
       " 'Men Formal Brogues',\n",
       " 'Men Leather Loafers',\n",
       " 'Women Flexagon Training Shoes',\n",
       " 'Men Leather Formal Derbys',\n",
       " 'Women Leather Pumps',\n",
       " 'Men Solid Leather Formal Monks',\n",
       " 'Charged Impulse Running Shoes',\n",
       " 'HOVR Sonic 3 Running Shoes',\n",
       " 'Women LIQUIFECT 180 LS Running',\n",
       " 'SPEED Orbiter Running Shoes',\n",
       " 'Women Charged Breathe TR 2',\n",
       " 'Men Leather Slip-On Shoes',\n",
       " 'Women Liquify Rebel Running',\n",
       " 'Men Textured Derbys',\n",
       " 'Charged Impulse Running Shoes',\n",
       " 'Men Solid Sneakers',\n",
       " 'Women TriBase Reign 2 Training',\n",
       " 'Women HOVR Rise 2 Training',\n",
       " 'Women Leather Pumps',\n",
       " 'HOVR Sonic 3 Running Shoes',\n",
       " 'Men HOVR CTW Sneakers',\n",
       " 'Women Solid Flatforms',\n",
       " 'Men Solid Leather Formal Derbys',\n",
       " 'Women Leather Heeled Boots',\n",
       " 'Women Solid Leather Pumps']"
      ]
     },
     "execution_count": 121,
     "metadata": {},
     "output_type": "execute_result"
    }
   ],
   "source": [
    "t=driver.find_elements_by_xpath(\"//h4[@class='product-product']\")\n",
    "for i in t:\n",
    "    descrp.append(i.text)\n",
    "descrp"
   ]
  },
  {
   "cell_type": "code",
   "execution_count": 122,
   "metadata": {},
   "outputs": [
    {
     "data": {
      "text/plain": [
       "100"
      ]
     },
     "execution_count": 122,
     "metadata": {},
     "output_type": "execute_result"
    }
   ],
   "source": [
    "len(descrp)"
   ]
  },
  {
   "cell_type": "code",
   "execution_count": 123,
   "metadata": {},
   "outputs": [
    {
     "data": {
      "text/plain": [
       "['Rs. 7927Rs. 10295',\n",
       " 'Rs. 7927',\n",
       " 'Rs. 6599Rs. 10999',\n",
       " 'Rs. 6599',\n",
       " 'Rs. 7496Rs. 9995',\n",
       " 'Rs. 7496',\n",
       " 'Rs. 10399Rs. 12999',\n",
       " 'Rs. 10399',\n",
       " 'Rs. 10796Rs. 13495',\n",
       " 'Rs. 10796',\n",
       " 'Rs. 12495',\n",
       " 'Rs. 10999',\n",
       " 'Rs. 11996Rs. 14995',\n",
       " 'Rs. 11996',\n",
       " 'Rs. 8621Rs. 11495',\n",
       " 'Rs. 8621',\n",
       " 'Rs. 8399Rs. 11999',\n",
       " 'Rs. 8399',\n",
       " 'Rs. 9999',\n",
       " 'Rs. 7996Rs. 9995',\n",
       " 'Rs. 7996',\n",
       " 'Rs. 7999',\n",
       " 'Rs. 11931Rs. 15495',\n",
       " 'Rs. 11931',\n",
       " 'Rs. 7999Rs. 9999',\n",
       " 'Rs. 7999',\n",
       " 'Rs. 9099Rs. 12999',\n",
       " 'Rs. 9099',\n",
       " 'Rs. 9999',\n",
       " 'Rs. 8499Rs. 16999',\n",
       " 'Rs. 8499',\n",
       " 'Rs. 7496Rs. 9995',\n",
       " 'Rs. 7496',\n",
       " 'Rs. 11999',\n",
       " 'Rs. 9999',\n",
       " 'Rs. 11199Rs. 13999',\n",
       " 'Rs. 11199',\n",
       " 'Rs. 6999',\n",
       " 'Rs. 7999',\n",
       " 'Rs. 8799Rs. 10999',\n",
       " 'Rs. 8799',\n",
       " 'Rs. 11490',\n",
       " 'Rs. 11999',\n",
       " 'Rs. 8999',\n",
       " 'Rs. 8636Rs. 11995',\n",
       " 'Rs. 8636',\n",
       " 'Rs. 8999',\n",
       " 'Rs. 6819Rs. 10999',\n",
       " 'Rs. 6819',\n",
       " 'Rs. 11999',\n",
       " 'Rs. 7721Rs. 10295',\n",
       " 'Rs. 7721',\n",
       " 'Rs. 7499Rs. 9999',\n",
       " 'Rs. 7499',\n",
       " 'Rs. 6999',\n",
       " 'Rs. 10999',\n",
       " 'Rs. 6799Rs. 7999',\n",
       " 'Rs. 6799',\n",
       " 'Rs. 9999',\n",
       " 'Rs. 9999Rs. 19999',\n",
       " 'Rs. 9999',\n",
       " 'Rs. 9746Rs. 12995',\n",
       " 'Rs. 9746',\n",
       " 'Rs. 10490',\n",
       " 'Rs. 12999',\n",
       " 'Rs. 12490',\n",
       " 'Rs. 9513Rs. 13590',\n",
       " 'Rs. 9513',\n",
       " 'Rs. 7343Rs. 10490',\n",
       " 'Rs. 7343',\n",
       " 'Rs. 7693Rs. 10990',\n",
       " 'Rs. 7693',\n",
       " 'Rs. 9999',\n",
       " 'Rs. 8499',\n",
       " 'Rs. 8499',\n",
       " 'Rs. 8499',\n",
       " 'Rs. 6999',\n",
       " 'Rs. 7499Rs. 14999',\n",
       " 'Rs. 7499',\n",
       " 'Rs. 7413Rs. 10590',\n",
       " 'Rs. 7413',\n",
       " 'Rs. 8999',\n",
       " 'Rs. 9093Rs. 13990',\n",
       " 'Rs. 9093',\n",
       " 'Rs. 7496Rs. 9995',\n",
       " 'Rs. 7496',\n",
       " 'Rs. 7413Rs. 10590',\n",
       " 'Rs. 7413',\n",
       " 'Rs. 6999',\n",
       " 'Rs. 9999',\n",
       " 'Rs. 6749Rs. 7499',\n",
       " 'Rs. 6749',\n",
       " 'Rs. 8796Rs. 10995',\n",
       " 'Rs. 8796',\n",
       " 'Rs. 7413Rs. 10590',\n",
       " 'Rs. 7413',\n",
       " 'Rs. 9999',\n",
       " 'Rs. 7413Rs. 10590',\n",
       " 'Rs. 7413',\n",
       " 'Rs. 10999',\n",
       " 'Rs. 9999Rs. 19999',\n",
       " 'Rs. 9999',\n",
       " 'Rs. 11800',\n",
       " 'Rs. 9513Rs. 13590',\n",
       " 'Rs. 9513',\n",
       " 'Rs. 8953Rs. 12790',\n",
       " 'Rs. 8953',\n",
       " 'Rs. 9349Rs. 10999',\n",
       " 'Rs. 9349',\n",
       " 'Rs. 10999',\n",
       " 'Rs. 7999',\n",
       " 'Rs. 7499Rs. 9999',\n",
       " 'Rs. 7499',\n",
       " 'Rs. 8999',\n",
       " 'Rs. 6999Rs. 9999',\n",
       " 'Rs. 6999',\n",
       " 'Rs. 6990',\n",
       " 'Rs. 6999',\n",
       " 'Rs. 7999',\n",
       " 'Rs. 11490',\n",
       " 'Rs. 7192Rs. 8990',\n",
       " 'Rs. 7192',\n",
       " 'Rs. 6990',\n",
       " 'Rs. 7999',\n",
       " 'Rs. 10999',\n",
       " 'Rs. 8999',\n",
       " 'Rs. 9749Rs. 12999',\n",
       " 'Rs. 9749',\n",
       " 'Rs. 7999',\n",
       " 'Rs. 6990',\n",
       " 'Rs. 8999',\n",
       " 'Rs. 8990',\n",
       " 'Rs. 7999',\n",
       " 'Rs. 7499',\n",
       " 'Rs. 11999',\n",
       " 'Rs. 9999',\n",
       " 'Rs. 9999',\n",
       " 'Rs. 10999',\n",
       " 'Rs. 8499Rs. 9999',\n",
       " 'Rs. 8499',\n",
       " 'Rs. 8999',\n",
       " 'Rs. 9999',\n",
       " 'Rs. 7600',\n",
       " 'Rs. 6999']"
      ]
     },
     "execution_count": 123,
     "metadata": {},
     "output_type": "execute_result"
    }
   ],
   "source": [
    "n=driver.find_elements_by_xpath(\"//div[@class='product-price']//span[1]\")\n",
    "for i in n:\n",
    "    pr.append(i.text)\n",
    "pr"
   ]
  },
  {
   "cell_type": "code",
   "execution_count": 124,
   "metadata": {},
   "outputs": [
    {
     "data": {
      "text/plain": [
       "['Rs. 7927',\n",
       " 'Rs. 6599',\n",
       " 'Rs. 7496',\n",
       " 'Rs. 8621',\n",
       " 'Rs. 8399',\n",
       " 'Rs. 9999',\n",
       " 'Rs. 7996',\n",
       " 'Rs. 7999',\n",
       " 'Rs. 7999',\n",
       " 'Rs. 9099',\n",
       " 'Rs. 9999',\n",
       " 'Rs. 8499',\n",
       " 'Rs. 7496',\n",
       " 'Rs. 9999',\n",
       " 'Rs. 6999',\n",
       " 'Rs. 7999',\n",
       " 'Rs. 8799',\n",
       " 'Rs. 8999',\n",
       " 'Rs. 8636',\n",
       " 'Rs. 8999',\n",
       " 'Rs. 6819',\n",
       " 'Rs. 7721',\n",
       " 'Rs. 7499',\n",
       " 'Rs. 6999',\n",
       " 'Rs. 6799',\n",
       " 'Rs. 9999',\n",
       " 'Rs. 9999',\n",
       " 'Rs. 9746',\n",
       " 'Rs. 9513',\n",
       " 'Rs. 7343',\n",
       " 'Rs. 7693',\n",
       " 'Rs. 9999',\n",
       " 'Rs. 8499',\n",
       " 'Rs. 8499',\n",
       " 'Rs. 8499',\n",
       " 'Rs. 7927',\n",
       " 'Rs. 6599',\n",
       " 'Rs. 7496',\n",
       " 'Rs. 8621',\n",
       " 'Rs. 8399',\n",
       " 'Rs. 9999',\n",
       " 'Rs. 7996',\n",
       " 'Rs. 7999',\n",
       " 'Rs. 7999',\n",
       " 'Rs. 9099',\n",
       " 'Rs. 9999',\n",
       " 'Rs. 8499',\n",
       " 'Rs. 7496',\n",
       " 'Rs. 9999',\n",
       " 'Rs. 6999',\n",
       " 'Rs. 7999',\n",
       " 'Rs. 8799',\n",
       " 'Rs. 8999',\n",
       " 'Rs. 8636',\n",
       " 'Rs. 8999',\n",
       " 'Rs. 6819',\n",
       " 'Rs. 7721',\n",
       " 'Rs. 7499',\n",
       " 'Rs. 6999',\n",
       " 'Rs. 6799',\n",
       " 'Rs. 9999',\n",
       " 'Rs. 9999',\n",
       " 'Rs. 9746',\n",
       " 'Rs. 9513',\n",
       " 'Rs. 7343',\n",
       " 'Rs. 7693',\n",
       " 'Rs. 9999',\n",
       " 'Rs. 8499',\n",
       " 'Rs. 8499',\n",
       " 'Rs. 8499',\n",
       " 'Rs. 6999',\n",
       " 'Rs. 7499',\n",
       " 'Rs. 7413',\n",
       " 'Rs. 8999',\n",
       " 'Rs. 9093',\n",
       " 'Rs. 7496',\n",
       " 'Rs. 7413',\n",
       " 'Rs. 6999',\n",
       " 'Rs. 9999',\n",
       " 'Rs. 6749',\n",
       " 'Rs. 8796',\n",
       " 'Rs. 7413',\n",
       " 'Rs. 9999',\n",
       " 'Rs. 7413',\n",
       " 'Rs. 9999',\n",
       " 'Rs. 9513',\n",
       " 'Rs. 8953',\n",
       " 'Rs. 9349',\n",
       " 'Rs. 7999',\n",
       " 'Rs. 7499',\n",
       " 'Rs. 8999',\n",
       " 'Rs. 6999',\n",
       " 'Rs. 6990',\n",
       " 'Rs. 6999',\n",
       " 'Rs. 7999',\n",
       " 'Rs. 7192',\n",
       " 'Rs. 6990',\n",
       " 'Rs. 7999',\n",
       " 'Rs. 8999',\n",
       " 'Rs. 9749']"
      ]
     },
     "execution_count": 124,
     "metadata": {},
     "output_type": "execute_result"
    }
   ],
   "source": [
    "for i in pr:\n",
    "    if len(i)<9:\n",
    "        price.append(i)\n",
    "price[0:100]"
   ]
  },
  {
   "cell_type": "code",
   "execution_count": 125,
   "metadata": {},
   "outputs": [
    {
     "data": {
      "text/plain": [
       "113"
      ]
     },
     "execution_count": 125,
     "metadata": {},
     "output_type": "execute_result"
    }
   ],
   "source": [
    "len(price)"
   ]
  },
  {
   "cell_type": "code",
   "execution_count": 126,
   "metadata": {},
   "outputs": [
    {
     "data": {
      "text/html": [
       "<div>\n",
       "<style scoped>\n",
       "    .dataframe tbody tr th:only-of-type {\n",
       "        vertical-align: middle;\n",
       "    }\n",
       "\n",
       "    .dataframe tbody tr th {\n",
       "        vertical-align: top;\n",
       "    }\n",
       "\n",
       "    .dataframe thead th {\n",
       "        text-align: right;\n",
       "    }\n",
       "</style>\n",
       "<table border=\"1\" class=\"dataframe\">\n",
       "  <thead>\n",
       "    <tr style=\"text-align: right;\">\n",
       "      <th></th>\n",
       "      <th>Brand</th>\n",
       "      <th>Product_description</th>\n",
       "      <th>Price</th>\n",
       "    </tr>\n",
       "  </thead>\n",
       "  <tbody>\n",
       "    <tr>\n",
       "      <th>0</th>\n",
       "      <td>Nike</td>\n",
       "      <td>Men AIR MAX 90 Sneakers</td>\n",
       "      <td>Rs. 7927</td>\n",
       "    </tr>\n",
       "    <tr>\n",
       "      <th>1</th>\n",
       "      <td>Puma</td>\n",
       "      <td>Men HYBRID NETFIT Running Shoe</td>\n",
       "      <td>Rs. 6599</td>\n",
       "    </tr>\n",
       "    <tr>\n",
       "      <th>2</th>\n",
       "      <td>Nike</td>\n",
       "      <td>PEGASUS FLYEASE Running Shoes</td>\n",
       "      <td>Rs. 7496</td>\n",
       "    </tr>\n",
       "    <tr>\n",
       "      <th>3</th>\n",
       "      <td>ADIDAS Originals</td>\n",
       "      <td>Men Nite Jogger Fluid Sneakers</td>\n",
       "      <td>Rs. 8621</td>\n",
       "    </tr>\n",
       "    <tr>\n",
       "      <th>4</th>\n",
       "      <td>Nike</td>\n",
       "      <td>Men AIR ZOOM VOMERO Running</td>\n",
       "      <td>Rs. 8399</td>\n",
       "    </tr>\n",
       "    <tr>\n",
       "      <th>...</th>\n",
       "      <td>...</td>\n",
       "      <td>...</td>\n",
       "      <td>...</td>\n",
       "    </tr>\n",
       "    <tr>\n",
       "      <th>95</th>\n",
       "      <td>UNDER ARMOUR</td>\n",
       "      <td>Men HOVR CTW Sneakers</td>\n",
       "      <td>Rs. 7192</td>\n",
       "    </tr>\n",
       "    <tr>\n",
       "      <th>96</th>\n",
       "      <td>Geox</td>\n",
       "      <td>Women Solid Flatforms</td>\n",
       "      <td>Rs. 6990</td>\n",
       "    </tr>\n",
       "    <tr>\n",
       "      <th>97</th>\n",
       "      <td>Hush Puppies</td>\n",
       "      <td>Men Solid Leather Formal Derbys</td>\n",
       "      <td>Rs. 7999</td>\n",
       "    </tr>\n",
       "    <tr>\n",
       "      <th>98</th>\n",
       "      <td>Saint G</td>\n",
       "      <td>Women Leather Heeled Boots</td>\n",
       "      <td>Rs. 8999</td>\n",
       "    </tr>\n",
       "    <tr>\n",
       "      <th>99</th>\n",
       "      <td>Geox</td>\n",
       "      <td>Women Solid Leather Pumps</td>\n",
       "      <td>Rs. 9749</td>\n",
       "    </tr>\n",
       "  </tbody>\n",
       "</table>\n",
       "<p>100 rows × 3 columns</p>\n",
       "</div>"
      ],
      "text/plain": [
       "               Brand              Product_description     Price\n",
       "0               Nike          Men AIR MAX 90 Sneakers  Rs. 7927\n",
       "1               Puma   Men HYBRID NETFIT Running Shoe  Rs. 6599\n",
       "2               Nike    PEGASUS FLYEASE Running Shoes  Rs. 7496\n",
       "3   ADIDAS Originals   Men Nite Jogger Fluid Sneakers  Rs. 8621\n",
       "4               Nike      Men AIR ZOOM VOMERO Running  Rs. 8399\n",
       "..               ...                              ...       ...\n",
       "95      UNDER ARMOUR            Men HOVR CTW Sneakers  Rs. 7192\n",
       "96              Geox            Women Solid Flatforms  Rs. 6990\n",
       "97      Hush Puppies  Men Solid Leather Formal Derbys  Rs. 7999\n",
       "98           Saint G       Women Leather Heeled Boots  Rs. 8999\n",
       "99              Geox        Women Solid Leather Pumps  Rs. 9749\n",
       "\n",
       "[100 rows x 3 columns]"
      ]
     },
     "execution_count": 126,
     "metadata": {},
     "output_type": "execute_result"
    }
   ],
   "source": [
    "shoe=pd.DataFrame({})\n",
    "shoe['Brand']=br[0:100]\n",
    "shoe['Product_description']=descrp[0:100]\n",
    "shoe['Price']=price[0:100]\n",
    "shoe"
   ]
  },
  {
   "cell_type": "code",
   "execution_count": 127,
   "metadata": {},
   "outputs": [],
   "source": [
    "driver.close()"
   ]
  },
  {
   "cell_type": "markdown",
   "metadata": {},
   "source": [
    "# Q10. Scrape data from amazon.in for laptops using  cpu type filter for Intel core i7 & Intel core i9."
   ]
  },
  {
   "cell_type": "code",
   "execution_count": 123,
   "metadata": {},
   "outputs": [],
   "source": [
    "#Lets first connect to web driver\n",
    "driver=webdriver.Chrome(\"C:\\web driver\\chromedriver.exe\")"
   ]
  },
  {
   "cell_type": "code",
   "execution_count": 124,
   "metadata": {},
   "outputs": [],
   "source": [
    "driver.get('https://www.amazon.in/')"
   ]
  },
  {
   "cell_type": "code",
   "execution_count": 125,
   "metadata": {},
   "outputs": [],
   "source": [
    "#finding element for laptop in search bar\n",
    "\n",
    "driver.find_element_by_xpath(\"//div[@class='nav-search-field ']/input\").send_keys('laptop')"
   ]
  },
  {
   "cell_type": "code",
   "execution_count": 126,
   "metadata": {},
   "outputs": [],
   "source": [
    "#pressing the the search button.\n",
    "driver.find_element_by_xpath(\"//div[@class='nav-search-submit nav-sprite']\").click()"
   ]
  },
  {
   "cell_type": "code",
   "execution_count": 127,
   "metadata": {},
   "outputs": [],
   "source": [
    "#using filter for cpu type 'intel core i7'\n",
    "driver.find_element_by_xpath(\"//li[@aria-label='Intel Core i7']/span\").click()"
   ]
  },
  {
   "cell_type": "code",
   "execution_count": 128,
   "metadata": {},
   "outputs": [],
   "source": [
    "driver.find_element_by_xpath(\"//li[@aria-label='Intel Core i9']/span\").click()"
   ]
  },
  {
   "cell_type": "code",
   "execution_count": 129,
   "metadata": {},
   "outputs": [],
   "source": [
    "#specifing the url of the webpage to be scraped\n",
    "url='https://www.amazon.in/s?k=laptop&i=computers&rh=n%3A1375424031%2Cp_n_feature_thirteen_browse-bin%3A12598163031%7C16757432031&dc&qid=1613489526&rnid=12598141031&ref=sr_nr_p_n_feature_thirteen_browse-bin_17'"
   ]
  },
  {
   "cell_type": "code",
   "execution_count": 99,
   "metadata": {},
   "outputs": [
    {
     "data": {
      "text/plain": [
       "['Lenovo Yoga S940 Intel Core i7 10th Gen 14\" UHD Ultra Thin and Light Laptop (16GB/1TB SSD/Windows10 Pro/MS Office/Iron Grey/1.2Kg), 81Q80037IN',\n",
       " 'Mi Notebook Horizon Edition 14 Intel Core i5-10210U 10th Gen Thin and Light Laptop(8GB/512GB SSD/Windows 10/Nvidia MX350 2GB Graphics/Grey/1.35Kg), XMA1904-AR+Webcam',\n",
       " 'Mi Notebook Horizon Edition 14 Intel Core i5-10210U 10th Gen Thin and Light Laptop(8GB/512GB SSD/Windows 10/Nvidia MX350 2GB Graphics/Grey/1.35Kg), XMA1904-AR+Webcam',\n",
       " 'HP Pavilion x360 Touchscreen 2-in-1 FHD 14-inch Laptop (10th Gen Core i7-10510U/8GB/512GB SSD/Windows 10 Home/MS Office/Mineral Silver/1.58 kg), 14-dh1180tu',\n",
       " 'Lenovo IdeaPad Gaming 3i 10th Gen Intel Core i7 15.6-inch FHD IPS Gaming Laptop (8GB/1TB HDD + 256 GB SSD/Windows 10/NVIDIA GTX 1650 4GB GDDR6/with M100 RGB Gaming Mouse/Onyx Black/2.2Kg), 81Y400VAIN',\n",
       " 'HP 14 Thin & Light 14-inch FHD Laptop (11th Gen Intel i7-1165G7/8GB/512GB SSD/Windows 10/MS Office 2019/Alexa Built-in/Pale Gold/1.47 kg), 14s-dr2007TU',\n",
       " 'HP Pavilion x360 Core i7 8th Gen 14-inch Touchscreen 2-in-1 FHD Thin and Light Laptop (16GB/512GB SSD/Windows 10/MS Office/2GB Graphics/Mineral Silver/1.59 kg), 14- dh0045TX',\n",
       " 'Lenovo Legion 5i 10th Gen Intel Core i7 15.6 inch Full HD IPS Gaming Laptop (16GB/1TB HDD + 256GB SSD/Windows 10/120 Hz/NVIDIA GTX 1650 4GB GDDR6 Graphics/Phantom Black/2.3Kg), 82AU00KKIN',\n",
       " 'ASUS ZenBook Pro Duo Intel Core i9-10980HK 10th Gen 15.6\" 4K UHD OLED Touchscreen Laptop (32GB RAM/1TB NVMe SSD/Windows 10/6GB NVIDIA GeForce RTX 2060 Graphics/Celestial Blue/2.5 Kg), UX581LV-H2035T',\n",
       " 'HP 14 10th Gen Intel Core i7 Ultra Thin and Light FHD Laptop (i7-1065G7/8GB/512GB SSD/Win 10/MS Office 2019/Natural Silver/1.46 Kg), 14s-DR1010TU',\n",
       " 'Dell G3 3500 Gaming 15.6inch 120hz FHD Display Laptop (10th Gen i7-10750H / 8 GB / 512 SSD / GTX 1650 4GB / 1Yr Premium Warranty/ Win 10 + MS Office H&S 2019) D560250WIN9BE',\n",
       " 'ASUS ROG Strix G17 17.3\" FHD 120Hz Intel Core i7-10750H 10th Gen, GTX 1660Ti 6GB Graphics (16GB RAM/512GB NVMe SSD/Windows 10/Original Black/2.83 Kg), G712LU-H7015T + Xbox Game Pass for PC',\n",
       " 'ASUS ROG Zephyrus M15 (2020), 15.6\" 4K UHD, Intel Core i7-10750H 10th Gen, RTX 2060 GDDR6 6GB Graphics, Gaming Laptop (16GB RAM/1TB NVMe SSD/Windows 10/Prism Black/1.9 Kg), GU502LV-HC140T',\n",
       " 'Dell G3 3500 Gaming15.6-inch FHD Laptop (10th Gen Core i7-10750H/8GB/512GB SSD/Windows 10 + MS Office/NVIDIA1650 Ti Graphics/Eclipse Black) D560123WIN9BE',\n",
       " 'ASUS ZenBook Flip S OLED, Intel Evo Core i7-1165G7 11th Gen, 13.3-inch UHD Touch Thin and Light 2-in-1 Laptop (16GB/1TB SSD/Windows 10/Office 2019/Iris Xᵉ Graphics/Jade Black/1.2 kg), UX371EA-HL701TS',\n",
       " 'ASUS ROG G703GI-E5148T 17.3-inch FHD 144Hz/3ms Gaming Laptop (8th Gen Intel Core i9-8950HK/64GB/2TB SSHD + 1.5TB NVMe SSD/Windows 10/GTX 1080 8GB Graphics/4.70 Kg), Aluminum',\n",
       " 'Lenovo Legion Y540 Intel Core i7 9th Gen 15.6 inch FHD Gaming Laptop (8GB/1TB HDD + 256 GB SSD/Windows 10/4GB NVIDIA GTX 1650/Black/2.3Kg), 81SY00SUIN',\n",
       " 'Lenovo Yoga S940 Intel Core i7 10th Gen 14\" UHD Ultra Thin and Light Laptop (16GB/1TB SSD/Windows10 Pro/MS Office/Iron Grey/1.2Kg), 81Q80037IN',\n",
       " 'ASUS ROG Zephyrus M15 (2020), 15.6\" 4K UHD, Intel Core i7-10750H 10th Gen, RTX 2060 GDDR6 6GB Graphics, Gaming Laptop (16GB RAM/1TB NVMe SSD/Windows 10/Prism Black/1.9 Kg), GU502LV-HC018T',\n",
       " 'ASUS VivoBook S S14 Intel Core i7-1165G7 11th Gen, 14-inch FHD Thin and Light Laptop (8GB RAM/512GB SSD + 32GB Optane Memory/Windows 10/Office 2019/Iris Xᵉ Graphics/Indie Black/1.4 Kg), S433EA-AM701TS',\n",
       " 'MSI Gaming GL63 9SD-1044IN Intel Core i7-9750H 15.6-inch Laptop (8GB/1TB HDD + 256GB NVMe SSD/Windows 10 Home/GTX 1660 Ti, 6GB Graphics/Black/2.22Kg) 9S7-16P732-1044',\n",
       " 'Dell Alienware m15(R3) 15.6-inch FHD Gaming Laptop (10th Gen Core i7-10750H/16GB/512GB SSD/Windows 10 Home & MS Office/6GB NVIDIA GTX 1660 Ti Graphics), Lunar Light',\n",
       " '(Renewed) Lenovo ThinkPad X1 Carbon 14-inch Laptop Thin,Powerful and Lightweight Core i7 6th Gen/8GB /256 GB SSD/Windows 10 Pro/MS Office 2019/More than 4 GB Intel HD Graphics,Backlit Keyboard),Black',\n",
       " 'Acer Nitro 5 Intel i7 - 9th Gen 17.3-inch Display 1920 x 1080 Thin and Light Laptop (8GB Ram/1TB HDD/Window 10 Home/4GB NVIDIA GeForce GTX 1650 Graphics/Obsidian Black/ 2.7 kgs),AN517-51',\n",
       " 'Acer Swift 3X 14\" Full HD IPS Display Ultra Thin and Light Notebook (Intel i7 - 11th Gen/16 GB RAM+ 32GB Optane/512GB SSD/Win10/Microsoft Office 2019/Intel Iris Xe Max/Steam Blue/1.37 Kg), SF314-59',\n",
       " 'Lenovo Yoga C940 Intel Core i7 10th Gen 14 inch UHD Thin and Light Laptop (16GB/1TB SSD/Windows 10/Office 2019/Mica/1.25Kg), 81Q9009XIN']"
      ]
     },
     "execution_count": 99,
     "metadata": {},
     "output_type": "execute_result"
    }
   ],
   "source": [
    "ti=[]\n",
    "a=driver.find_elements_by_xpath(\"//h2[@class='a-size-mini a-spacing-none a-color-base s-line-clamp-2']\")\n",
    "for i in a:\n",
    "    ti.append(i.text)\n",
    "ti"
   ]
  },
  {
   "cell_type": "code",
   "execution_count": 114,
   "metadata": {},
   "outputs": [
    {
     "data": {
      "text/plain": [
       "['https://www.amazon.in/gp/slredirect/picassoRedirect.html/ref=pa_sp_atf_computers_sr_pg1_1?ie=UTF8&adId=A0629406460BZXPHQV48&url=%2FLenovo-81Q80037IN-I7-1065G7-Microsoft-Integrated%2Fdp%2FB083PDTQ3Q%2Fref%3Dsr_1_1_sspa%3Fdchild%3D1%26keywords%3Dlaptop%26qid%3D1613489526%26refinements%3Dp_n_feature_thirteen_browse-bin%253A12598163031%257C16757432031%26rnid%3D12598141031%26s%3Dcomputers%26sr%3D1-1-spons%26psc%3D1&qualifier=1613489529&id=7415625750475802&widgetName=sp_atf',\n",
       " 'https://www.amazon.in/gp/slredirect/picassoRedirect.html/ref=pa_sp_atf_computers_sr_pg1_1?ie=UTF8&adId=A03447302LYOYFK6IEWV8&url=%2FNotebook-Horizon-i5-10210U-Graphics-XMA1904-AR%2Fdp%2FB089F5JGM1%2Fref%3Dsr_1_2_sspa%3Fdchild%3D1%26keywords%3Dlaptop%26qid%3D1613489526%26refinements%3Dp_n_feature_thirteen_browse-bin%253A12598163031%257C16757432031%26rnid%3D12598141031%26s%3Dcomputers%26sr%3D1-2-spons%26psc%3D1&qualifier=1613489529&id=7415625750475802&widgetName=sp_atf',\n",
       " 'https://www.amazon.in/Notebook-Horizon-i5-10210U-Graphics-XMA1904-AR/dp/B089F5JGM1/ref=sr_1_3?dchild=1&keywords=laptop&qid=1613489526&refinements=p_n_feature_thirteen_browse-bin%3A12598163031%7C16757432031&rnid=12598141031&s=computers&sr=1-3',\n",
       " 'https://www.amazon.in/HP-Pavilion-Touchscreen-i7-10510U-14-dh1180tu/dp/B08GD8LQTY/ref=sr_1_4?dchild=1&keywords=laptop&qid=1613489526&refinements=p_n_feature_thirteen_browse-bin%3A12598163031%7C16757432031&rnid=12598141031&s=computers&sr=1-4',\n",
       " 'https://www.amazon.in/Lenovo-IdeaPad-15-6-inch-Windows-81Y400VAIN/dp/B08PV48PYW/ref=sr_1_5?dchild=1&keywords=laptop&qid=1613489526&refinements=p_n_feature_thirteen_browse-bin%3A12598163031%7C16757432031&rnid=12598141031&s=computers&sr=1-5',\n",
       " 'https://www.amazon.in/HP-14-inch-i7-1165G7-Windows-14s-dr2007TU/dp/B08N57LR4X/ref=sr_1_6?dchild=1&keywords=laptop&qid=1613489526&refinements=p_n_feature_thirteen_browse-bin%3A12598163031%7C16757432031&rnid=12598141031&s=computers&sr=1-6',\n",
       " 'https://www.amazon.in/HP-Pavilion-dh0045TX-i7-8565U-Graphics/dp/B07NMSWFS4/ref=sr_1_7?dchild=1&keywords=laptop&qid=1613489526&refinements=p_n_feature_thirteen_browse-bin%3A12598163031%7C16757432031&rnid=12598141031&s=computers&sr=1-7',\n",
       " 'https://www.amazon.in/Lenovo-Windows-Graphics-Phantom-82AU00KKIN/dp/B08JLSBJCW/ref=sr_1_8?dchild=1&keywords=laptop&qid=1613489526&refinements=p_n_feature_thirteen_browse-bin%3A12598163031%7C16757432031&rnid=12598141031&s=computers&sr=1-8',\n",
       " 'https://www.amazon.in/ASUS-i9-10980HK-Touchscreen-Celestial-UX581LV-H2035T/dp/B08CHDLVT1/ref=sr_1_9?dchild=1&keywords=laptop&qid=1613489526&refinements=p_n_feature_thirteen_browse-bin%3A12598163031%7C16757432031&rnid=12598141031&s=computers&sr=1-9',\n",
       " 'https://www.amazon.in/HP-Laptop-i7-1065G7-Natural-14s-DR1010TU/dp/B08H2V92WV/ref=sr_1_10?dchild=1&keywords=laptop&qid=1613489526&refinements=p_n_feature_thirteen_browse-bin%3A12598163031%7C16757432031&rnid=12598141031&s=computers&sr=1-10']"
      ]
     },
     "execution_count": 114,
     "metadata": {},
     "output_type": "execute_result"
    }
   ],
   "source": [
    "r=driver.find_elements_by_xpath(\"//a[@class='a-link-normal a-text-normal']\")\n",
    "urls=[i.get_attribute('href') for i in r[0:10]]\n",
    "urls"
   ]
  },
  {
   "cell_type": "code",
   "execution_count": 117,
   "metadata": {},
   "outputs": [],
   "source": [
    "from bs4 import BeautifulSoup"
   ]
  },
  {
   "cell_type": "code",
   "execution_count": 119,
   "metadata": {},
   "outputs": [
    {
     "data": {
      "text/plain": [
       "['3.3 out of 5 stars',\n",
       " '4.2 out of 5 stars',\n",
       " '4.2 out of 5 stars',\n",
       " '3.5 out of 5 stars',\n",
       " '3.8 out of 5 stars',\n",
       " '4.0 out of 5 stars',\n",
       " '4.1 out of 5 stars',\n",
       " '4.2 out of 5 stars',\n",
       " '5.0 out of 5 stars',\n",
       " '3.4 out of 5 stars']"
      ]
     },
     "execution_count": 119,
     "metadata": {},
     "output_type": "execute_result"
    }
   ],
   "source": [
    "ra=[]\n",
    "for i in urls:\n",
    "    driver.get(i)\n",
    "    soup=BeautifulSoup(driver.page_source,'html.parser')\n",
    "    a=soup.find('div',attrs={'id':'averageCustomerReviews'})\n",
    "    ra.append(a.find('i').find('span').text)\n",
    "    \n",
    "ra"
   ]
  },
  {
   "cell_type": "code",
   "execution_count": 130,
   "metadata": {},
   "outputs": [
    {
     "data": {
      "text/plain": [
       "['1,19,990',\n",
       " '50,999',\n",
       " '1,97,200',\n",
       " '5,22,077',\n",
       " '1,09,990',\n",
       " '75,482',\n",
       " '74,990',\n",
       " '77,990',\n",
       " '72,805',\n",
       " '82,990',\n",
       " '70,990',\n",
       " '50,999',\n",
       " '50,999',\n",
       " '49,999',\n",
       " '52,999',\n",
       " '39,889',\n",
       " '1,04,014',\n",
       " '85,990',\n",
       " '79,490',\n",
       " '48,999',\n",
       " '75,299',\n",
       " '1,49,099']"
      ]
     },
     "execution_count": 130,
     "metadata": {},
     "output_type": "execute_result"
    }
   ],
   "source": [
    "pr=[]\n",
    "p=driver.find_elements_by_xpath(\"//span[@class='a-price-whole']\")\n",
    "for i in p:\n",
    "    pr.append(i.text)\n",
    "pr"
   ]
  },
  {
   "cell_type": "code",
   "execution_count": 133,
   "metadata": {},
   "outputs": [
    {
     "data": {
      "text/html": [
       "<div>\n",
       "<style scoped>\n",
       "    .dataframe tbody tr th:only-of-type {\n",
       "        vertical-align: middle;\n",
       "    }\n",
       "\n",
       "    .dataframe tbody tr th {\n",
       "        vertical-align: top;\n",
       "    }\n",
       "\n",
       "    .dataframe thead th {\n",
       "        text-align: right;\n",
       "    }\n",
       "</style>\n",
       "<table border=\"1\" class=\"dataframe\">\n",
       "  <thead>\n",
       "    <tr style=\"text-align: right;\">\n",
       "      <th></th>\n",
       "      <th>Title</th>\n",
       "      <th>Rating</th>\n",
       "      <th>Price</th>\n",
       "    </tr>\n",
       "  </thead>\n",
       "  <tbody>\n",
       "    <tr>\n",
       "      <th>0</th>\n",
       "      <td>Lenovo Yoga S940 Intel Core i7 10th Gen 14\" UH...</td>\n",
       "      <td>3.3 out of 5 stars</td>\n",
       "      <td>1,19,990</td>\n",
       "    </tr>\n",
       "    <tr>\n",
       "      <th>1</th>\n",
       "      <td>Mi Notebook Horizon Edition 14 Intel Core i5-1...</td>\n",
       "      <td>4.2 out of 5 stars</td>\n",
       "      <td>50,999</td>\n",
       "    </tr>\n",
       "    <tr>\n",
       "      <th>2</th>\n",
       "      <td>Mi Notebook Horizon Edition 14 Intel Core i5-1...</td>\n",
       "      <td>4.2 out of 5 stars</td>\n",
       "      <td>1,97,200</td>\n",
       "    </tr>\n",
       "    <tr>\n",
       "      <th>3</th>\n",
       "      <td>HP Pavilion x360 Touchscreen 2-in-1 FHD 14-inc...</td>\n",
       "      <td>3.5 out of 5 stars</td>\n",
       "      <td>5,22,077</td>\n",
       "    </tr>\n",
       "    <tr>\n",
       "      <th>4</th>\n",
       "      <td>Lenovo IdeaPad Gaming 3i 10th Gen Intel Core i...</td>\n",
       "      <td>3.8 out of 5 stars</td>\n",
       "      <td>1,09,990</td>\n",
       "    </tr>\n",
       "    <tr>\n",
       "      <th>5</th>\n",
       "      <td>HP 14 Thin &amp; Light 14-inch FHD Laptop (11th Ge...</td>\n",
       "      <td>4.0 out of 5 stars</td>\n",
       "      <td>75,482</td>\n",
       "    </tr>\n",
       "    <tr>\n",
       "      <th>6</th>\n",
       "      <td>HP Pavilion x360 Core i7 8th Gen 14-inch Touch...</td>\n",
       "      <td>4.1 out of 5 stars</td>\n",
       "      <td>74,990</td>\n",
       "    </tr>\n",
       "    <tr>\n",
       "      <th>7</th>\n",
       "      <td>Lenovo Legion 5i 10th Gen Intel Core i7 15.6 i...</td>\n",
       "      <td>4.2 out of 5 stars</td>\n",
       "      <td>77,990</td>\n",
       "    </tr>\n",
       "    <tr>\n",
       "      <th>8</th>\n",
       "      <td>ASUS ZenBook Pro Duo Intel Core i9-10980HK 10t...</td>\n",
       "      <td>5.0 out of 5 stars</td>\n",
       "      <td>72,805</td>\n",
       "    </tr>\n",
       "    <tr>\n",
       "      <th>9</th>\n",
       "      <td>HP 14 10th Gen Intel Core i7 Ultra Thin and Li...</td>\n",
       "      <td>3.4 out of 5 stars</td>\n",
       "      <td>82,990</td>\n",
       "    </tr>\n",
       "  </tbody>\n",
       "</table>\n",
       "</div>"
      ],
      "text/plain": [
       "                                               Title              Rating  \\\n",
       "0  Lenovo Yoga S940 Intel Core i7 10th Gen 14\" UH...  3.3 out of 5 stars   \n",
       "1  Mi Notebook Horizon Edition 14 Intel Core i5-1...  4.2 out of 5 stars   \n",
       "2  Mi Notebook Horizon Edition 14 Intel Core i5-1...  4.2 out of 5 stars   \n",
       "3  HP Pavilion x360 Touchscreen 2-in-1 FHD 14-inc...  3.5 out of 5 stars   \n",
       "4  Lenovo IdeaPad Gaming 3i 10th Gen Intel Core i...  3.8 out of 5 stars   \n",
       "5  HP 14 Thin & Light 14-inch FHD Laptop (11th Ge...  4.0 out of 5 stars   \n",
       "6  HP Pavilion x360 Core i7 8th Gen 14-inch Touch...  4.1 out of 5 stars   \n",
       "7  Lenovo Legion 5i 10th Gen Intel Core i7 15.6 i...  4.2 out of 5 stars   \n",
       "8  ASUS ZenBook Pro Duo Intel Core i9-10980HK 10t...  5.0 out of 5 stars   \n",
       "9  HP 14 10th Gen Intel Core i7 Ultra Thin and Li...  3.4 out of 5 stars   \n",
       "\n",
       "      Price  \n",
       "0  1,19,990  \n",
       "1    50,999  \n",
       "2  1,97,200  \n",
       "3  5,22,077  \n",
       "4  1,09,990  \n",
       "5    75,482  \n",
       "6    74,990  \n",
       "7    77,990  \n",
       "8    72,805  \n",
       "9    82,990  "
      ]
     },
     "execution_count": 133,
     "metadata": {},
     "output_type": "execute_result"
    }
   ],
   "source": [
    "# Creating a dataframe \n",
    "laptop=pd.DataFrame({})\n",
    "laptop['Title']=ti[0:10]\n",
    "laptop['Rating']=ra[0:10]\n",
    "laptop['Price']=pr[0:10]\n",
    "\n",
    "laptop\n"
   ]
  },
  {
   "cell_type": "code",
   "execution_count": 134,
   "metadata": {},
   "outputs": [],
   "source": [
    "driver.close()"
   ]
  },
  {
   "cell_type": "code",
   "execution_count": null,
   "metadata": {},
   "outputs": [],
   "source": []
  }
 ],
 "metadata": {
  "kernelspec": {
   "display_name": "Python 3",
   "language": "python",
   "name": "python3"
  },
  "language_info": {
   "codemirror_mode": {
    "name": "ipython",
    "version": 3
   },
   "file_extension": ".py",
   "mimetype": "text/x-python",
   "name": "python",
   "nbconvert_exporter": "python",
   "pygments_lexer": "ipython3",
   "version": "3.8.3"
  }
 },
 "nbformat": 4,
 "nbformat_minor": 4
}
